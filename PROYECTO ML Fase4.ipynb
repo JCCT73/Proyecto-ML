{
 "cells": [
  {
   "cell_type": "code",
   "execution_count": 1,
   "metadata": {},
   "outputs": [],
   "source": [
    "import pandas as pd\n",
    "import numpy as np\n",
    "import joblib\n",
    "import pickle\n",
    "import mlflow.sklearn"
   ]
  },
  {
   "cell_type": "code",
   "execution_count": 2,
   "metadata": {},
   "outputs": [],
   "source": [
    "import matplotlib.pyplot as plt\n",
    "import seaborn as sns"
   ]
  },
  {
   "cell_type": "code",
   "execution_count": 3,
   "metadata": {},
   "outputs": [],
   "source": [
    "from sklearn.preprocessing import LabelEncoder\n",
    "from sklearn.preprocessing import StandardScaler"
   ]
  },
  {
   "cell_type": "code",
   "execution_count": 4,
   "metadata": {},
   "outputs": [
    {
     "name": "stdout",
     "output_type": "stream",
     "text": [
      "Requirement already satisfied: imbalanced-learn in c:\\users\\axa\\miniconda3\\envs\\modeloml\\lib\\site-packages (0.11.0)\n",
      "Requirement already satisfied: numpy>=1.17.3 in c:\\users\\axa\\miniconda3\\envs\\modeloml\\lib\\site-packages (from imbalanced-learn) (1.25.2)\n",
      "Requirement already satisfied: scipy>=1.5.0 in c:\\users\\axa\\miniconda3\\envs\\modeloml\\lib\\site-packages (from imbalanced-learn) (1.11.2)\n",
      "Requirement already satisfied: scikit-learn>=1.0.2 in c:\\users\\axa\\miniconda3\\envs\\modeloml\\lib\\site-packages (from imbalanced-learn) (1.3.1)\n",
      "Requirement already satisfied: joblib>=1.1.1 in c:\\users\\axa\\miniconda3\\envs\\modeloml\\lib\\site-packages (from imbalanced-learn) (1.3.2)\n",
      "Requirement already satisfied: threadpoolctl>=2.0.0 in c:\\users\\axa\\miniconda3\\envs\\modeloml\\lib\\site-packages (from imbalanced-learn) (3.2.0)\n"
     ]
    }
   ],
   "source": [
    "!pip install -U imbalanced-learn"
   ]
  },
  {
   "cell_type": "code",
   "execution_count": 5,
   "metadata": {},
   "outputs": [],
   "source": [
    "from imblearn.ensemble import BalancedRandomForestClassifier"
   ]
  },
  {
   "cell_type": "code",
   "execution_count": 6,
   "metadata": {},
   "outputs": [],
   "source": [
    "from sklearn.ensemble import RandomForestClassifier\n",
    "from sklearn.ensemble import GradientBoostingClassifier\n",
    "from sklearn.ensemble import AdaBoostClassifier\n",
    "from sklearn.tree import DecisionTreeClassifier\n",
    "from sklearn.naive_bayes import GaussianNB\n",
    "from sklearn.linear_model import LogisticRegression\n",
    "from sklearn.neighbors import KNeighborsClassifier\n",
    "from sklearn.svm import SVC"
   ]
  },
  {
   "cell_type": "code",
   "execution_count": 7,
   "metadata": {},
   "outputs": [],
   "source": [
    "from sklearn.model_selection import train_test_split\n",
    "from sklearn.model_selection import GridSearchCV"
   ]
  },
  {
   "cell_type": "code",
   "execution_count": 8,
   "metadata": {},
   "outputs": [],
   "source": [
    "from sklearn.metrics import accuracy_score\n",
    "from sklearn.metrics import precision_score\n",
    "from sklearn.metrics import recall_score\n",
    "from sklearn.metrics import f1_score\n",
    "from sklearn.metrics import roc_curve\n",
    "from sklearn.metrics import roc_auc_score \n",
    "from sklearn.metrics import confusion_matrix\n",
    "from sklearn.metrics import auc"
   ]
  },
  {
   "cell_type": "code",
   "execution_count": 9,
   "metadata": {},
   "outputs": [],
   "source": [
    "import warnings\n",
    "warnings.filterwarnings(\"ignore\")"
   ]
  },
  {
   "cell_type": "code",
   "execution_count": 10,
   "metadata": {},
   "outputs": [],
   "source": [
    "df = pd.read_csv( r\"C:\\Users\\axa\\THE BRIDGE_23\\SEMANA 24. CORE. PROYECTO ML\\81. PROYECTO ML\\src\\data\\raw\\online_shoppers_intention.csv\", sep=\",\")"
   ]
  },
  {
   "cell_type": "markdown",
   "metadata": {},
   "source": [
    "# 1) Eliminar la Variable \"Month\""
   ]
  },
  {
   "cell_type": "markdown",
   "metadata": {},
   "source": [
    "En la Fase 2, al implementar el ML: RandomForestClassifier, se hizo el análisis de importancias de las variables, y se valoró eliminar la variable \"Month\" para reducir el tamaño de las variables con baja importancia."
   ]
  },
  {
   "cell_type": "code",
   "execution_count": 11,
   "metadata": {},
   "outputs": [],
   "source": [
    "df1 = df.drop(\"Month\", axis=1)"
   ]
  },
  {
   "cell_type": "markdown",
   "metadata": {},
   "source": [
    "# 2) Transformar la Variable \"VisitorType\" de Objeto a Variables Dummies (type:object a dummie)"
   ]
  },
  {
   "cell_type": "markdown",
   "metadata": {},
   "source": [
    "* Al usar variables dummies, los coeficientes en un modelo (como regresión lineal) se vuelven más interpretables. \n",
    "* Cada coeficiente representa el efecto de esa categoría específica en comparación con la categoría de referencia (la original). La eliminación de una columna facilita la interpretación.\n",
    "* La multicolinealidad se refiere a la correlación alta o perfecta entre dos o más variables predictoras en un modelo estadístico. \n",
    "* En el caso de variables dummies, si se tienen múltiples columnas que representan una característica categórica con dos categorías, la presencia de una categoría se puede predecir a partir de la otra. Esto crea multicolinealidad y puede causar problemas en la interpretación y estabilidad del modelo.\n",
    "* Si no se elimina una de las columnas de las variables ficticias, existe la \"trampa de las variables ficticias\" (dummy variable trap). Esto significa que las variables predictoras son linealmente dependientes y el modelo no puede identificar coeficientes únicos para cada una. Eliminar una columna resuelve este problema.\n",
    "* Compatibilidad con Modelos y Bibliotecas"
   ]
  },
  {
   "cell_type": "code",
   "execution_count": 12,
   "metadata": {},
   "outputs": [],
   "source": [
    "# Transformar la columna \"VisitorType\" a Dummies y eliminar la primera columna para evitar Multicolinealidad\n",
    "df1 = pd.get_dummies(df1, columns=['VisitorType'], prefix='VisitorType', drop_first=True)"
   ]
  },
  {
   "cell_type": "markdown",
   "metadata": {},
   "source": [
    "# 3) Transformar la columna \"Weekend\" de Boolean a Númerica usando LabelEncoder"
   ]
  },
  {
   "cell_type": "markdown",
   "metadata": {},
   "source": [
    "* La mayoría de los algoritmos de ML: (regresión, clasificación, clustering y otros), trabajan con variables numéricas. Con variables booleanas en su forma original (True/False o 1/0), los algoritmos pueden funcionar sin problemas.\n",
    "* Simplifica la preparación de datos y facilita la modelización. Los valores numéricos son más fáciles de analizar y de utilizar en cálculos matemáticos.\n",
    "* Favorecen la compatibilidad con Bibliotecas y Herramientas: Las bibliotecas de ML (Scikit-Learn en Python), y otras herramientas estadísticas están diseñadas para trabajar con datos numéricos.\n",
    "* En algunos casos, transformar variables booleanas puede mejorar el rendimiento del modelo. Algunos algoritmos pueden beneficiarse de la representación numérica de las variables booleanas."
   ]
  },
  {
   "cell_type": "code",
   "execution_count": 13,
   "metadata": {},
   "outputs": [],
   "source": [
    "le = LabelEncoder()\n",
    "df1['Weekend'] = le.fit_transform(df1['Weekend'])"
   ]
  },
  {
   "cell_type": "markdown",
   "metadata": {},
   "source": [
    "# 4) Transformar la Variable \"Revenue\" de Boolean a Númerica usando LabelEncoder"
   ]
  },
  {
   "cell_type": "code",
   "execution_count": 14,
   "metadata": {},
   "outputs": [],
   "source": [
    "df1['Revenue'] = le.fit_transform(df1['Revenue'])"
   ]
  },
  {
   "cell_type": "markdown",
   "metadata": {},
   "source": [
    "# 5) Estandarizar / Escalar / Normalizar las Variable Númericas: \n",
    "'Administrative', 'Administrative_Duration', 'Informational', 'Informational_Duration','ProductRelated', 'ProductRelated_Duration', 'BounceRates', 'ExitRates', 'PageValues', 'SpecialDay','OperatingSystems','Browser', 'Region', 'TrafficType'"
   ]
  },
  {
   "cell_type": "markdown",
   "metadata": {},
   "source": [
    "* Igualdad de peso: Cuando las variables numéricas tienen diferentes escalas, algunos algoritmos de ML pueden tratar a las variables con valores más grandes como más importantes. Estandarizar las variables garantiza que todas tengan un rango similar, lo que permite que el modelo trate todas las características por igual.\n",
    "* La estandarización ayuda a que los algoritmos converjan más rápido y alcancen resultados más precisos.\n",
    "* La estandarización facilita la interpretación de coeficientes en modelos lineales. Los coeficientes estandarizados se pueden comparar directamente para evaluar la importancia relativa de las características.\n",
    "* Algunos algoritmos numéricos pueden ser propensos a errores numéricos si los datos tienen magnitudes muy diferentes. La estandarización reduce el riesgo de tales errores.\n",
    "* La estandarización de las variables numéricas es una buena práctica que puede mejorar el rendimiento de los modelos y garantizar resultados más consistentes y significativos en el análisis de datos y ML.\n",
    "* Al estandarizar con StandardScaler, los datos se centran en cero, lo que significa que la media de las variables escaladas será cero. Esto es útil para algoritmos sensibles a la media, como la regresión lineal. El centrado en cero también facilita la interpretación de los coeficientes en modelos lineales.\n",
    "* Después de la estandarización, todas las variables tienen una desviación estándar de 1. Esto asegura que todas las variables tengan la misma escala.\n",
    "* El StandardScaler es adecuado para una amplia variedad de datos, incluidos los datos que se asemejan a una distribución normal, ya que no asume una distribución específica para los datos.\n",
    "* El StandardScaler es moderadamente robusto ante valores atípicos, (no se verá significativamente afectado por observaciones atípicas). Si los datos contienen valores extremos, esta técnica es efectiva."
   ]
  },
  {
   "cell_type": "code",
   "execution_count": 15,
   "metadata": {},
   "outputs": [],
   "source": [
    "variables_numericas = ['Administrative', 'Administrative_Duration', 'Informational', 'Informational_Duration','ProductRelated', 'ProductRelated_Duration', \n",
    "                       'BounceRates','ExitRates','PageValues', 'SpecialDay', 'OperatingSystems', 'Browser', 'Region', 'TrafficType']\n",
    "sc = StandardScaler()\n",
    "df1[variables_numericas] = sc.fit_transform(df1[variables_numericas])"
   ]
  },
  {
   "cell_type": "code",
   "execution_count": 16,
   "metadata": {},
   "outputs": [
    {
     "data": {
      "text/html": [
       "<div>\n",
       "<style scoped>\n",
       "    .dataframe tbody tr th:only-of-type {\n",
       "        vertical-align: middle;\n",
       "    }\n",
       "\n",
       "    .dataframe tbody tr th {\n",
       "        vertical-align: top;\n",
       "    }\n",
       "\n",
       "    .dataframe thead th {\n",
       "        text-align: right;\n",
       "    }\n",
       "</style>\n",
       "<table border=\"1\" class=\"dataframe\">\n",
       "  <thead>\n",
       "    <tr style=\"text-align: right;\">\n",
       "      <th></th>\n",
       "      <th>Administrative</th>\n",
       "      <th>Administrative_Duration</th>\n",
       "      <th>Informational</th>\n",
       "      <th>Informational_Duration</th>\n",
       "      <th>ProductRelated</th>\n",
       "      <th>ProductRelated_Duration</th>\n",
       "      <th>BounceRates</th>\n",
       "      <th>ExitRates</th>\n",
       "      <th>PageValues</th>\n",
       "      <th>SpecialDay</th>\n",
       "      <th>OperatingSystems</th>\n",
       "      <th>Browser</th>\n",
       "      <th>Region</th>\n",
       "      <th>TrafficType</th>\n",
       "      <th>Weekend</th>\n",
       "      <th>Revenue</th>\n",
       "      <th>VisitorType_Other</th>\n",
       "      <th>VisitorType_Returning_Visitor</th>\n",
       "    </tr>\n",
       "  </thead>\n",
       "  <tbody>\n",
       "    <tr>\n",
       "      <th>0</th>\n",
       "      <td>-0.696993</td>\n",
       "      <td>-0.457191</td>\n",
       "      <td>-0.396478</td>\n",
       "      <td>-0.244931</td>\n",
       "      <td>-0.691003</td>\n",
       "      <td>-0.624348</td>\n",
       "      <td>3.667189</td>\n",
       "      <td>3.229316</td>\n",
       "      <td>-0.317178</td>\n",
       "      <td>-0.308821</td>\n",
       "      <td>-1.233426</td>\n",
       "      <td>-0.790293</td>\n",
       "      <td>-0.894178</td>\n",
       "      <td>-0.762629</td>\n",
       "      <td>0</td>\n",
       "      <td>0</td>\n",
       "      <td>False</td>\n",
       "      <td>True</td>\n",
       "    </tr>\n",
       "    <tr>\n",
       "      <th>1</th>\n",
       "      <td>-0.696993</td>\n",
       "      <td>-0.457191</td>\n",
       "      <td>-0.396478</td>\n",
       "      <td>-0.244931</td>\n",
       "      <td>-0.668518</td>\n",
       "      <td>-0.590903</td>\n",
       "      <td>-0.457683</td>\n",
       "      <td>1.171473</td>\n",
       "      <td>-0.317178</td>\n",
       "      <td>-0.308821</td>\n",
       "      <td>-0.136078</td>\n",
       "      <td>-0.207952</td>\n",
       "      <td>-0.894178</td>\n",
       "      <td>-0.514182</td>\n",
       "      <td>0</td>\n",
       "      <td>0</td>\n",
       "      <td>False</td>\n",
       "      <td>True</td>\n",
       "    </tr>\n",
       "    <tr>\n",
       "      <th>2</th>\n",
       "      <td>-0.696993</td>\n",
       "      <td>-0.457191</td>\n",
       "      <td>-0.396478</td>\n",
       "      <td>-0.244931</td>\n",
       "      <td>-0.691003</td>\n",
       "      <td>-0.624348</td>\n",
       "      <td>3.667189</td>\n",
       "      <td>3.229316</td>\n",
       "      <td>-0.317178</td>\n",
       "      <td>-0.308821</td>\n",
       "      <td>2.058618</td>\n",
       "      <td>-0.790293</td>\n",
       "      <td>2.437081</td>\n",
       "      <td>-0.265735</td>\n",
       "      <td>0</td>\n",
       "      <td>0</td>\n",
       "      <td>False</td>\n",
       "      <td>True</td>\n",
       "    </tr>\n",
       "    <tr>\n",
       "      <th>3</th>\n",
       "      <td>-0.696993</td>\n",
       "      <td>-0.457191</td>\n",
       "      <td>-0.396478</td>\n",
       "      <td>-0.244931</td>\n",
       "      <td>-0.668518</td>\n",
       "      <td>-0.622954</td>\n",
       "      <td>0.573535</td>\n",
       "      <td>1.994610</td>\n",
       "      <td>-0.317178</td>\n",
       "      <td>-0.308821</td>\n",
       "      <td>0.961270</td>\n",
       "      <td>-0.207952</td>\n",
       "      <td>-0.477771</td>\n",
       "      <td>-0.017289</td>\n",
       "      <td>0</td>\n",
       "      <td>0</td>\n",
       "      <td>False</td>\n",
       "      <td>True</td>\n",
       "    </tr>\n",
       "    <tr>\n",
       "      <th>4</th>\n",
       "      <td>-0.696993</td>\n",
       "      <td>-0.457191</td>\n",
       "      <td>-0.396478</td>\n",
       "      <td>-0.244931</td>\n",
       "      <td>-0.488636</td>\n",
       "      <td>-0.296430</td>\n",
       "      <td>-0.045196</td>\n",
       "      <td>0.142551</td>\n",
       "      <td>-0.317178</td>\n",
       "      <td>-0.308821</td>\n",
       "      <td>0.961270</td>\n",
       "      <td>0.374389</td>\n",
       "      <td>-0.894178</td>\n",
       "      <td>-0.017289</td>\n",
       "      <td>1</td>\n",
       "      <td>0</td>\n",
       "      <td>False</td>\n",
       "      <td>True</td>\n",
       "    </tr>\n",
       "    <tr>\n",
       "      <th>...</th>\n",
       "      <td>...</td>\n",
       "      <td>...</td>\n",
       "      <td>...</td>\n",
       "      <td>...</td>\n",
       "      <td>...</td>\n",
       "      <td>...</td>\n",
       "      <td>...</td>\n",
       "      <td>...</td>\n",
       "      <td>...</td>\n",
       "      <td>...</td>\n",
       "      <td>...</td>\n",
       "      <td>...</td>\n",
       "      <td>...</td>\n",
       "      <td>...</td>\n",
       "      <td>...</td>\n",
       "      <td>...</td>\n",
       "      <td>...</td>\n",
       "      <td>...</td>\n",
       "    </tr>\n",
       "    <tr>\n",
       "      <th>12325</th>\n",
       "      <td>0.206173</td>\n",
       "      <td>0.363075</td>\n",
       "      <td>-0.396478</td>\n",
       "      <td>-0.244931</td>\n",
       "      <td>0.478227</td>\n",
       "      <td>0.307822</td>\n",
       "      <td>-0.310366</td>\n",
       "      <td>-0.288966</td>\n",
       "      <td>0.342125</td>\n",
       "      <td>-0.308821</td>\n",
       "      <td>2.058618</td>\n",
       "      <td>2.121412</td>\n",
       "      <td>-0.894178</td>\n",
       "      <td>-0.762629</td>\n",
       "      <td>1</td>\n",
       "      <td>0</td>\n",
       "      <td>False</td>\n",
       "      <td>True</td>\n",
       "    </tr>\n",
       "    <tr>\n",
       "      <th>12326</th>\n",
       "      <td>-0.696993</td>\n",
       "      <td>-0.457191</td>\n",
       "      <td>-0.396478</td>\n",
       "      <td>-0.244931</td>\n",
       "      <td>-0.601062</td>\n",
       "      <td>-0.380957</td>\n",
       "      <td>-0.457683</td>\n",
       "      <td>-0.447364</td>\n",
       "      <td>-0.317178</td>\n",
       "      <td>-0.308821</td>\n",
       "      <td>0.961270</td>\n",
       "      <td>-0.207952</td>\n",
       "      <td>-0.894178</td>\n",
       "      <td>0.976499</td>\n",
       "      <td>1</td>\n",
       "      <td>0</td>\n",
       "      <td>False</td>\n",
       "      <td>True</td>\n",
       "    </tr>\n",
       "    <tr>\n",
       "      <th>12327</th>\n",
       "      <td>-0.696993</td>\n",
       "      <td>-0.457191</td>\n",
       "      <td>-0.396478</td>\n",
       "      <td>-0.244931</td>\n",
       "      <td>-0.578577</td>\n",
       "      <td>-0.528063</td>\n",
       "      <td>1.261014</td>\n",
       "      <td>0.897093</td>\n",
       "      <td>-0.317178</td>\n",
       "      <td>-0.308821</td>\n",
       "      <td>0.961270</td>\n",
       "      <td>-0.207952</td>\n",
       "      <td>-0.894178</td>\n",
       "      <td>2.218733</td>\n",
       "      <td>1</td>\n",
       "      <td>0</td>\n",
       "      <td>False</td>\n",
       "      <td>True</td>\n",
       "    </tr>\n",
       "    <tr>\n",
       "      <th>12328</th>\n",
       "      <td>0.507228</td>\n",
       "      <td>-0.032916</td>\n",
       "      <td>-0.396478</td>\n",
       "      <td>-0.244931</td>\n",
       "      <td>-0.376210</td>\n",
       "      <td>-0.443536</td>\n",
       "      <td>-0.457683</td>\n",
       "      <td>-0.453140</td>\n",
       "      <td>-0.317178</td>\n",
       "      <td>-0.308821</td>\n",
       "      <td>-0.136078</td>\n",
       "      <td>-0.207952</td>\n",
       "      <td>-0.061364</td>\n",
       "      <td>1.721839</td>\n",
       "      <td>0</td>\n",
       "      <td>0</td>\n",
       "      <td>False</td>\n",
       "      <td>True</td>\n",
       "    </tr>\n",
       "    <tr>\n",
       "      <th>12329</th>\n",
       "      <td>-0.696993</td>\n",
       "      <td>-0.457191</td>\n",
       "      <td>-0.396478</td>\n",
       "      <td>-0.244931</td>\n",
       "      <td>-0.646033</td>\n",
       "      <td>-0.613243</td>\n",
       "      <td>-0.457683</td>\n",
       "      <td>0.485525</td>\n",
       "      <td>-0.317178</td>\n",
       "      <td>-0.308821</td>\n",
       "      <td>0.961270</td>\n",
       "      <td>-0.207952</td>\n",
       "      <td>-0.894178</td>\n",
       "      <td>-0.514182</td>\n",
       "      <td>1</td>\n",
       "      <td>0</td>\n",
       "      <td>False</td>\n",
       "      <td>False</td>\n",
       "    </tr>\n",
       "  </tbody>\n",
       "</table>\n",
       "<p>12330 rows × 18 columns</p>\n",
       "</div>"
      ],
      "text/plain": [
       "       Administrative  Administrative_Duration  Informational  \\\n",
       "0           -0.696993                -0.457191      -0.396478   \n",
       "1           -0.696993                -0.457191      -0.396478   \n",
       "2           -0.696993                -0.457191      -0.396478   \n",
       "3           -0.696993                -0.457191      -0.396478   \n",
       "4           -0.696993                -0.457191      -0.396478   \n",
       "...               ...                      ...            ...   \n",
       "12325        0.206173                 0.363075      -0.396478   \n",
       "12326       -0.696993                -0.457191      -0.396478   \n",
       "12327       -0.696993                -0.457191      -0.396478   \n",
       "12328        0.507228                -0.032916      -0.396478   \n",
       "12329       -0.696993                -0.457191      -0.396478   \n",
       "\n",
       "       Informational_Duration  ProductRelated  ProductRelated_Duration  \\\n",
       "0                   -0.244931       -0.691003                -0.624348   \n",
       "1                   -0.244931       -0.668518                -0.590903   \n",
       "2                   -0.244931       -0.691003                -0.624348   \n",
       "3                   -0.244931       -0.668518                -0.622954   \n",
       "4                   -0.244931       -0.488636                -0.296430   \n",
       "...                       ...             ...                      ...   \n",
       "12325               -0.244931        0.478227                 0.307822   \n",
       "12326               -0.244931       -0.601062                -0.380957   \n",
       "12327               -0.244931       -0.578577                -0.528063   \n",
       "12328               -0.244931       -0.376210                -0.443536   \n",
       "12329               -0.244931       -0.646033                -0.613243   \n",
       "\n",
       "       BounceRates  ExitRates  PageValues  SpecialDay  OperatingSystems  \\\n",
       "0         3.667189   3.229316   -0.317178   -0.308821         -1.233426   \n",
       "1        -0.457683   1.171473   -0.317178   -0.308821         -0.136078   \n",
       "2         3.667189   3.229316   -0.317178   -0.308821          2.058618   \n",
       "3         0.573535   1.994610   -0.317178   -0.308821          0.961270   \n",
       "4        -0.045196   0.142551   -0.317178   -0.308821          0.961270   \n",
       "...            ...        ...         ...         ...               ...   \n",
       "12325    -0.310366  -0.288966    0.342125   -0.308821          2.058618   \n",
       "12326    -0.457683  -0.447364   -0.317178   -0.308821          0.961270   \n",
       "12327     1.261014   0.897093   -0.317178   -0.308821          0.961270   \n",
       "12328    -0.457683  -0.453140   -0.317178   -0.308821         -0.136078   \n",
       "12329    -0.457683   0.485525   -0.317178   -0.308821          0.961270   \n",
       "\n",
       "        Browser    Region  TrafficType  Weekend  Revenue  VisitorType_Other  \\\n",
       "0     -0.790293 -0.894178    -0.762629        0        0              False   \n",
       "1     -0.207952 -0.894178    -0.514182        0        0              False   \n",
       "2     -0.790293  2.437081    -0.265735        0        0              False   \n",
       "3     -0.207952 -0.477771    -0.017289        0        0              False   \n",
       "4      0.374389 -0.894178    -0.017289        1        0              False   \n",
       "...         ...       ...          ...      ...      ...                ...   \n",
       "12325  2.121412 -0.894178    -0.762629        1        0              False   \n",
       "12326 -0.207952 -0.894178     0.976499        1        0              False   \n",
       "12327 -0.207952 -0.894178     2.218733        1        0              False   \n",
       "12328 -0.207952 -0.061364     1.721839        0        0              False   \n",
       "12329 -0.207952 -0.894178    -0.514182        1        0              False   \n",
       "\n",
       "       VisitorType_Returning_Visitor  \n",
       "0                               True  \n",
       "1                               True  \n",
       "2                               True  \n",
       "3                               True  \n",
       "4                               True  \n",
       "...                              ...  \n",
       "12325                           True  \n",
       "12326                           True  \n",
       "12327                           True  \n",
       "12328                           True  \n",
       "12329                          False  \n",
       "\n",
       "[12330 rows x 18 columns]"
      ]
     },
     "execution_count": 16,
     "metadata": {},
     "output_type": "execute_result"
    }
   ],
   "source": [
    "df1"
   ]
  },
  {
   "cell_type": "code",
   "execution_count": 17,
   "metadata": {},
   "outputs": [
    {
     "name": "stdout",
     "output_type": "stream",
     "text": [
      "<class 'pandas.core.frame.DataFrame'>\n",
      "RangeIndex: 12330 entries, 0 to 12329\n",
      "Data columns (total 18 columns):\n",
      " #   Column                         Non-Null Count  Dtype  \n",
      "---  ------                         --------------  -----  \n",
      " 0   Administrative                 12330 non-null  float64\n",
      " 1   Administrative_Duration        12330 non-null  float64\n",
      " 2   Informational                  12330 non-null  float64\n",
      " 3   Informational_Duration         12330 non-null  float64\n",
      " 4   ProductRelated                 12330 non-null  float64\n",
      " 5   ProductRelated_Duration        12330 non-null  float64\n",
      " 6   BounceRates                    12330 non-null  float64\n",
      " 7   ExitRates                      12330 non-null  float64\n",
      " 8   PageValues                     12330 non-null  float64\n",
      " 9   SpecialDay                     12330 non-null  float64\n",
      " 10  OperatingSystems               12330 non-null  float64\n",
      " 11  Browser                        12330 non-null  float64\n",
      " 12  Region                         12330 non-null  float64\n",
      " 13  TrafficType                    12330 non-null  float64\n",
      " 14  Weekend                        12330 non-null  int64  \n",
      " 15  Revenue                        12330 non-null  int64  \n",
      " 16  VisitorType_Other              12330 non-null  bool   \n",
      " 17  VisitorType_Returning_Visitor  12330 non-null  bool   \n",
      "dtypes: bool(2), float64(14), int64(2)\n",
      "memory usage: 1.5 MB\n"
     ]
    }
   ],
   "source": [
    "df1.info()"
   ]
  },
  {
   "cell_type": "code",
   "execution_count": 18,
   "metadata": {},
   "outputs": [
    {
     "data": {
      "text/html": [
       "<div>\n",
       "<style scoped>\n",
       "    .dataframe tbody tr th:only-of-type {\n",
       "        vertical-align: middle;\n",
       "    }\n",
       "\n",
       "    .dataframe tbody tr th {\n",
       "        vertical-align: top;\n",
       "    }\n",
       "\n",
       "    .dataframe thead th {\n",
       "        text-align: right;\n",
       "    }\n",
       "</style>\n",
       "<table border=\"1\" class=\"dataframe\">\n",
       "  <thead>\n",
       "    <tr style=\"text-align: right;\">\n",
       "      <th></th>\n",
       "      <th>Administrative</th>\n",
       "      <th>Administrative_Duration</th>\n",
       "      <th>Informational</th>\n",
       "      <th>Informational_Duration</th>\n",
       "      <th>ProductRelated</th>\n",
       "      <th>ProductRelated_Duration</th>\n",
       "      <th>BounceRates</th>\n",
       "      <th>ExitRates</th>\n",
       "      <th>PageValues</th>\n",
       "      <th>SpecialDay</th>\n",
       "      <th>OperatingSystems</th>\n",
       "      <th>Browser</th>\n",
       "      <th>Region</th>\n",
       "      <th>TrafficType</th>\n",
       "      <th>Weekend</th>\n",
       "      <th>Revenue</th>\n",
       "    </tr>\n",
       "  </thead>\n",
       "  <tbody>\n",
       "    <tr>\n",
       "      <th>count</th>\n",
       "      <td>1.233000e+04</td>\n",
       "      <td>1.233000e+04</td>\n",
       "      <td>1.233000e+04</td>\n",
       "      <td>1.233000e+04</td>\n",
       "      <td>1.233000e+04</td>\n",
       "      <td>1.233000e+04</td>\n",
       "      <td>1.233000e+04</td>\n",
       "      <td>1.233000e+04</td>\n",
       "      <td>1.233000e+04</td>\n",
       "      <td>1.233000e+04</td>\n",
       "      <td>1.233000e+04</td>\n",
       "      <td>1.233000e+04</td>\n",
       "      <td>1.233000e+04</td>\n",
       "      <td>1.233000e+04</td>\n",
       "      <td>12330.000000</td>\n",
       "      <td>12330.000000</td>\n",
       "    </tr>\n",
       "    <tr>\n",
       "      <th>mean</th>\n",
       "      <td>-2.996612e-17</td>\n",
       "      <td>6.281359e-17</td>\n",
       "      <td>-4.610172e-18</td>\n",
       "      <td>-2.535595e-17</td>\n",
       "      <td>4.610172e-17</td>\n",
       "      <td>-8.298309e-17</td>\n",
       "      <td>-6.454241e-17</td>\n",
       "      <td>3.688137e-17</td>\n",
       "      <td>1.060340e-16</td>\n",
       "      <td>-5.532206e-17</td>\n",
       "      <td>4.610172e-18</td>\n",
       "      <td>1.498306e-17</td>\n",
       "      <td>7.722038e-17</td>\n",
       "      <td>-2.996612e-17</td>\n",
       "      <td>0.232603</td>\n",
       "      <td>0.154745</td>\n",
       "    </tr>\n",
       "    <tr>\n",
       "      <th>std</th>\n",
       "      <td>1.000041e+00</td>\n",
       "      <td>1.000041e+00</td>\n",
       "      <td>1.000041e+00</td>\n",
       "      <td>1.000041e+00</td>\n",
       "      <td>1.000041e+00</td>\n",
       "      <td>1.000041e+00</td>\n",
       "      <td>1.000041e+00</td>\n",
       "      <td>1.000041e+00</td>\n",
       "      <td>1.000041e+00</td>\n",
       "      <td>1.000041e+00</td>\n",
       "      <td>1.000041e+00</td>\n",
       "      <td>1.000041e+00</td>\n",
       "      <td>1.000041e+00</td>\n",
       "      <td>1.000041e+00</td>\n",
       "      <td>0.422509</td>\n",
       "      <td>0.361676</td>\n",
       "    </tr>\n",
       "    <tr>\n",
       "      <th>min</th>\n",
       "      <td>-6.969930e-01</td>\n",
       "      <td>-4.571914e-01</td>\n",
       "      <td>-3.964779e-01</td>\n",
       "      <td>-2.449305e-01</td>\n",
       "      <td>-7.134884e-01</td>\n",
       "      <td>-6.243475e-01</td>\n",
       "      <td>-4.576830e-01</td>\n",
       "      <td>-8.863706e-01</td>\n",
       "      <td>-3.171778e-01</td>\n",
       "      <td>-3.088214e-01</td>\n",
       "      <td>-1.233426e+00</td>\n",
       "      <td>-7.902929e-01</td>\n",
       "      <td>-8.941785e-01</td>\n",
       "      <td>-7.626290e-01</td>\n",
       "      <td>0.000000</td>\n",
       "      <td>0.000000</td>\n",
       "    </tr>\n",
       "    <tr>\n",
       "      <th>25%</th>\n",
       "      <td>-6.969930e-01</td>\n",
       "      <td>-4.571914e-01</td>\n",
       "      <td>-3.964779e-01</td>\n",
       "      <td>-2.449305e-01</td>\n",
       "      <td>-5.560920e-01</td>\n",
       "      <td>-5.281214e-01</td>\n",
       "      <td>-4.576830e-01</td>\n",
       "      <td>-5.923930e-01</td>\n",
       "      <td>-3.171778e-01</td>\n",
       "      <td>-3.088214e-01</td>\n",
       "      <td>-1.360783e-01</td>\n",
       "      <td>-2.079519e-01</td>\n",
       "      <td>-8.941785e-01</td>\n",
       "      <td>-5.141822e-01</td>\n",
       "      <td>0.000000</td>\n",
       "      <td>0.000000</td>\n",
       "    </tr>\n",
       "    <tr>\n",
       "      <th>50%</th>\n",
       "      <td>-3.959377e-01</td>\n",
       "      <td>-4.147639e-01</td>\n",
       "      <td>-3.964779e-01</td>\n",
       "      <td>-2.449305e-01</td>\n",
       "      <td>-3.087548e-01</td>\n",
       "      <td>-3.113566e-01</td>\n",
       "      <td>-3.934903e-01</td>\n",
       "      <td>-3.686913e-01</td>\n",
       "      <td>-3.171778e-01</td>\n",
       "      <td>-3.088214e-01</td>\n",
       "      <td>-1.360783e-01</td>\n",
       "      <td>-2.079519e-01</td>\n",
       "      <td>-6.136354e-02</td>\n",
       "      <td>-5.141822e-01</td>\n",
       "      <td>0.000000</td>\n",
       "      <td>0.000000</td>\n",
       "    </tr>\n",
       "    <tr>\n",
       "      <th>75%</th>\n",
       "      <td>5.072280e-01</td>\n",
       "      <td>7.035981e-02</td>\n",
       "      <td>-3.964779e-01</td>\n",
       "      <td>-2.449305e-01</td>\n",
       "      <td>1.409492e-01</td>\n",
       "      <td>1.407881e-01</td>\n",
       "      <td>-1.109348e-01</td>\n",
       "      <td>1.425510e-01</td>\n",
       "      <td>-3.171778e-01</td>\n",
       "      <td>-3.088214e-01</td>\n",
       "      <td>9.612698e-01</td>\n",
       "      <td>-2.079519e-01</td>\n",
       "      <td>3.550439e-01</td>\n",
       "      <td>-1.728851e-02</td>\n",
       "      <td>0.000000</td>\n",
       "      <td>0.000000</td>\n",
       "    </tr>\n",
       "    <tr>\n",
       "      <th>max</th>\n",
       "      <td>7.431499e+00</td>\n",
       "      <td>1.876956e+01</td>\n",
       "      <td>1.849960e+01</td>\n",
       "      <td>1.786868e+01</td>\n",
       "      <td>1.513858e+01</td>\n",
       "      <td>3.280678e+01</td>\n",
       "      <td>3.667189e+00</td>\n",
       "      <td>3.229316e+00</td>\n",
       "      <td>1.916634e+01</td>\n",
       "      <td>4.718598e+00</td>\n",
       "      <td>6.448010e+00</td>\n",
       "      <td>6.197799e+00</td>\n",
       "      <td>2.437081e+00</td>\n",
       "      <td>3.957861e+00</td>\n",
       "      <td>1.000000</td>\n",
       "      <td>1.000000</td>\n",
       "    </tr>\n",
       "  </tbody>\n",
       "</table>\n",
       "</div>"
      ],
      "text/plain": [
       "       Administrative  Administrative_Duration  Informational  \\\n",
       "count    1.233000e+04             1.233000e+04   1.233000e+04   \n",
       "mean    -2.996612e-17             6.281359e-17  -4.610172e-18   \n",
       "std      1.000041e+00             1.000041e+00   1.000041e+00   \n",
       "min     -6.969930e-01            -4.571914e-01  -3.964779e-01   \n",
       "25%     -6.969930e-01            -4.571914e-01  -3.964779e-01   \n",
       "50%     -3.959377e-01            -4.147639e-01  -3.964779e-01   \n",
       "75%      5.072280e-01             7.035981e-02  -3.964779e-01   \n",
       "max      7.431499e+00             1.876956e+01   1.849960e+01   \n",
       "\n",
       "       Informational_Duration  ProductRelated  ProductRelated_Duration  \\\n",
       "count            1.233000e+04    1.233000e+04             1.233000e+04   \n",
       "mean            -2.535595e-17    4.610172e-17            -8.298309e-17   \n",
       "std              1.000041e+00    1.000041e+00             1.000041e+00   \n",
       "min             -2.449305e-01   -7.134884e-01            -6.243475e-01   \n",
       "25%             -2.449305e-01   -5.560920e-01            -5.281214e-01   \n",
       "50%             -2.449305e-01   -3.087548e-01            -3.113566e-01   \n",
       "75%             -2.449305e-01    1.409492e-01             1.407881e-01   \n",
       "max              1.786868e+01    1.513858e+01             3.280678e+01   \n",
       "\n",
       "        BounceRates     ExitRates    PageValues    SpecialDay  \\\n",
       "count  1.233000e+04  1.233000e+04  1.233000e+04  1.233000e+04   \n",
       "mean  -6.454241e-17  3.688137e-17  1.060340e-16 -5.532206e-17   \n",
       "std    1.000041e+00  1.000041e+00  1.000041e+00  1.000041e+00   \n",
       "min   -4.576830e-01 -8.863706e-01 -3.171778e-01 -3.088214e-01   \n",
       "25%   -4.576830e-01 -5.923930e-01 -3.171778e-01 -3.088214e-01   \n",
       "50%   -3.934903e-01 -3.686913e-01 -3.171778e-01 -3.088214e-01   \n",
       "75%   -1.109348e-01  1.425510e-01 -3.171778e-01 -3.088214e-01   \n",
       "max    3.667189e+00  3.229316e+00  1.916634e+01  4.718598e+00   \n",
       "\n",
       "       OperatingSystems       Browser        Region   TrafficType  \\\n",
       "count      1.233000e+04  1.233000e+04  1.233000e+04  1.233000e+04   \n",
       "mean       4.610172e-18  1.498306e-17  7.722038e-17 -2.996612e-17   \n",
       "std        1.000041e+00  1.000041e+00  1.000041e+00  1.000041e+00   \n",
       "min       -1.233426e+00 -7.902929e-01 -8.941785e-01 -7.626290e-01   \n",
       "25%       -1.360783e-01 -2.079519e-01 -8.941785e-01 -5.141822e-01   \n",
       "50%       -1.360783e-01 -2.079519e-01 -6.136354e-02 -5.141822e-01   \n",
       "75%        9.612698e-01 -2.079519e-01  3.550439e-01 -1.728851e-02   \n",
       "max        6.448010e+00  6.197799e+00  2.437081e+00  3.957861e+00   \n",
       "\n",
       "            Weekend       Revenue  \n",
       "count  12330.000000  12330.000000  \n",
       "mean       0.232603      0.154745  \n",
       "std        0.422509      0.361676  \n",
       "min        0.000000      0.000000  \n",
       "25%        0.000000      0.000000  \n",
       "50%        0.000000      0.000000  \n",
       "75%        0.000000      0.000000  \n",
       "max        1.000000      1.000000  "
      ]
     },
     "execution_count": 18,
     "metadata": {},
     "output_type": "execute_result"
    }
   ],
   "source": [
    "df1.describe()"
   ]
  },
  {
   "cell_type": "code",
   "execution_count": 19,
   "metadata": {},
   "outputs": [
    {
     "name": "stdout",
     "output_type": "stream",
     "text": [
      "El archivo CSV se ha guardado en: C:\\Users\\axa\\THE BRIDGE_23\\SEMANA 24. CORE. PROYECTO ML\\81. PROYECTO ML\\src\\data\\processed\\df1.csv\n"
     ]
    }
   ],
   "source": [
    "ruta_guardado = r\"C:\\Users\\axa\\THE BRIDGE_23\\SEMANA 24. CORE. PROYECTO ML\\81. PROYECTO ML\\src\\data\\processed\\df1.csv\"\n",
    "df1.to_csv(ruta_guardado, index=False)\n",
    "print(f\"El archivo CSV se ha guardado en: {ruta_guardado}\")"
   ]
  },
  {
   "cell_type": "markdown",
   "metadata": {},
   "source": [
    "# Prueba de Modelos ML (8 Algoritmos diferentes)"
   ]
  },
  {
   "cell_type": "markdown",
   "metadata": {},
   "source": [
    "## Modelo 1: RandomForestClassifier"
   ]
  },
  {
   "cell_type": "markdown",
   "metadata": {},
   "source": [
    "* El algoritmo Random Forest Classifier, o \"Bosque Aleatorio de Clasificación,\" funciona de la siguiente manera:\n",
    "* El algoritmo Random Forest Classifier comienza con un conjunto de datos de entrada que contiene ejemplos de características y etiquetas.\n",
    "* Se crea un conjunto de datos de entrenamiento mediante el muestreo bootstrap (tomar muestras con reemplazo) del conjunto de datos de entrada. Esto significa que se eligen aleatoriamente ejemplos del conjunto de datos original, y algunos ejemplos pueden aparecer múltiples veces en el conjunto de datos de entrenamiento.\n",
    "* Luego, se construye un conjunto de árboles de decisión. Cada árbol se entrena utilizando el conjunto de datos de entrenamiento resultante del paso anterior. Estos árboles simples se utilizan para realizar predicciones.\n",
    "* Cuando se hace una predicción, cada árbol del conjunto emite su predicción. En clasificación, cada árbol vota por una etiqueta de clase. El resultado final es el resultado de la votación por mayoría de todos los árboles.\n",
    "* Una de las ventajas clave de Random Forest es su capacidad para reducir el sobreajuste (overfitting). Debido al muestreo bootstrap, cada árbol se entrena con un conjunto de datos de entrenamiento ligeramente diferente, lo que hace que los árboles sean diversos. La diversidad de los árboles y la votación por mayoría ayudan a reducir el sobreajuste.\n",
    "* Random Forest proporciona una medida de la importancia de las características. Es interesante saber cuáles son las características más influyentes en la toma de decisiones del modelo.\n",
    "* Random Forest tiene varios hiperparámetros, como el número de árboles, la profundidad máxima del árbol, etc. Se podrán ajustar estos hiperparámetros para optimizar el rendimiento del modelo.\n",
    "* Una vez que el modelo se entrena, se  utiliza para hacer predicciones en nuevos datos y evaluar su rendimiento utilizando métricas adecuadas, como precisión, sensibilidad, especificidad, F1-score, etc."
   ]
  },
  {
   "cell_type": "code",
   "execution_count": 20,
   "metadata": {},
   "outputs": [],
   "source": [
    "X = df1.drop('Revenue', axis=1)  \n",
    "y = df1['Revenue']\n",
    "X_train, X_test, y_train, y_test = train_test_split(X, y, test_size=0.3, random_state=1, shuffle=True)"
   ]
  },
  {
   "cell_type": "code",
   "execution_count": 21,
   "metadata": {},
   "outputs": [
    {
     "data": {
      "text/html": [
       "<style>#sk-container-id-1 {color: black;}#sk-container-id-1 pre{padding: 0;}#sk-container-id-1 div.sk-toggleable {background-color: white;}#sk-container-id-1 label.sk-toggleable__label {cursor: pointer;display: block;width: 100%;margin-bottom: 0;padding: 0.3em;box-sizing: border-box;text-align: center;}#sk-container-id-1 label.sk-toggleable__label-arrow:before {content: \"▸\";float: left;margin-right: 0.25em;color: #696969;}#sk-container-id-1 label.sk-toggleable__label-arrow:hover:before {color: black;}#sk-container-id-1 div.sk-estimator:hover label.sk-toggleable__label-arrow:before {color: black;}#sk-container-id-1 div.sk-toggleable__content {max-height: 0;max-width: 0;overflow: hidden;text-align: left;background-color: #f0f8ff;}#sk-container-id-1 div.sk-toggleable__content pre {margin: 0.2em;color: black;border-radius: 0.25em;background-color: #f0f8ff;}#sk-container-id-1 input.sk-toggleable__control:checked~div.sk-toggleable__content {max-height: 200px;max-width: 100%;overflow: auto;}#sk-container-id-1 input.sk-toggleable__control:checked~label.sk-toggleable__label-arrow:before {content: \"▾\";}#sk-container-id-1 div.sk-estimator input.sk-toggleable__control:checked~label.sk-toggleable__label {background-color: #d4ebff;}#sk-container-id-1 div.sk-label input.sk-toggleable__control:checked~label.sk-toggleable__label {background-color: #d4ebff;}#sk-container-id-1 input.sk-hidden--visually {border: 0;clip: rect(1px 1px 1px 1px);clip: rect(1px, 1px, 1px, 1px);height: 1px;margin: -1px;overflow: hidden;padding: 0;position: absolute;width: 1px;}#sk-container-id-1 div.sk-estimator {font-family: monospace;background-color: #f0f8ff;border: 1px dotted black;border-radius: 0.25em;box-sizing: border-box;margin-bottom: 0.5em;}#sk-container-id-1 div.sk-estimator:hover {background-color: #d4ebff;}#sk-container-id-1 div.sk-parallel-item::after {content: \"\";width: 100%;border-bottom: 1px solid gray;flex-grow: 1;}#sk-container-id-1 div.sk-label:hover label.sk-toggleable__label {background-color: #d4ebff;}#sk-container-id-1 div.sk-serial::before {content: \"\";position: absolute;border-left: 1px solid gray;box-sizing: border-box;top: 0;bottom: 0;left: 50%;z-index: 0;}#sk-container-id-1 div.sk-serial {display: flex;flex-direction: column;align-items: center;background-color: white;padding-right: 0.2em;padding-left: 0.2em;position: relative;}#sk-container-id-1 div.sk-item {position: relative;z-index: 1;}#sk-container-id-1 div.sk-parallel {display: flex;align-items: stretch;justify-content: center;background-color: white;position: relative;}#sk-container-id-1 div.sk-item::before, #sk-container-id-1 div.sk-parallel-item::before {content: \"\";position: absolute;border-left: 1px solid gray;box-sizing: border-box;top: 0;bottom: 0;left: 50%;z-index: -1;}#sk-container-id-1 div.sk-parallel-item {display: flex;flex-direction: column;z-index: 1;position: relative;background-color: white;}#sk-container-id-1 div.sk-parallel-item:first-child::after {align-self: flex-end;width: 50%;}#sk-container-id-1 div.sk-parallel-item:last-child::after {align-self: flex-start;width: 50%;}#sk-container-id-1 div.sk-parallel-item:only-child::after {width: 0;}#sk-container-id-1 div.sk-dashed-wrapped {border: 1px dashed gray;margin: 0 0.4em 0.5em 0.4em;box-sizing: border-box;padding-bottom: 0.4em;background-color: white;}#sk-container-id-1 div.sk-label label {font-family: monospace;font-weight: bold;display: inline-block;line-height: 1.2em;}#sk-container-id-1 div.sk-label-container {text-align: center;}#sk-container-id-1 div.sk-container {/* jupyter's `normalize.less` sets `[hidden] { display: none; }` but bootstrap.min.css set `[hidden] { display: none !important; }` so we also need the `!important` here to be able to override the default hidden behavior on the sphinx rendered scikit-learn.org. See: https://github.com/scikit-learn/scikit-learn/issues/21755 */display: inline-block !important;position: relative;}#sk-container-id-1 div.sk-text-repr-fallback {display: none;}</style><div id=\"sk-container-id-1\" class=\"sk-top-container\"><div class=\"sk-text-repr-fallback\"><pre>RandomForestClassifier(class_weight=&#x27;balanced&#x27;, max_depth=10, random_state=1)</pre><b>In a Jupyter environment, please rerun this cell to show the HTML representation or trust the notebook. <br />On GitHub, the HTML representation is unable to render, please try loading this page with nbviewer.org.</b></div><div class=\"sk-container\" hidden><div class=\"sk-item\"><div class=\"sk-estimator sk-toggleable\"><input class=\"sk-toggleable__control sk-hidden--visually\" id=\"sk-estimator-id-1\" type=\"checkbox\" checked><label for=\"sk-estimator-id-1\" class=\"sk-toggleable__label sk-toggleable__label-arrow\">RandomForestClassifier</label><div class=\"sk-toggleable__content\"><pre>RandomForestClassifier(class_weight=&#x27;balanced&#x27;, max_depth=10, random_state=1)</pre></div></div></div></div></div>"
      ],
      "text/plain": [
       "RandomForestClassifier(class_weight='balanced', max_depth=10, random_state=1)"
      ]
     },
     "execution_count": 21,
     "metadata": {},
     "output_type": "execute_result"
    }
   ],
   "source": [
    "modeloRFC = RandomForestClassifier(n_estimators=100, class_weight='balanced', max_depth=10, random_state=1)\n",
    "modeloRFC.fit(X_train, y_train)"
   ]
  },
  {
   "cell_type": "code",
   "execution_count": 22,
   "metadata": {},
   "outputs": [],
   "source": [
    "y_pred = modeloRFC.predict(X_test)"
   ]
  },
  {
   "cell_type": "code",
   "execution_count": 23,
   "metadata": {},
   "outputs": [
    {
     "name": "stdout",
     "output_type": "stream",
     "text": [
      "Accuracy modeloRFC: 0.8794268721276021\n",
      "Precision modeloRFC: 0.5704607046070461\n",
      "Recall modeloRFC: 0.7654545454545455\n",
      "F1-Score modeloRFC: 0.6537267080745343\n",
      "AUC-ROC modeloRFC: 0.9049227749068968\n",
      "Matriz de Confusión modeloRFC:\n",
      "[[2832  317]\n",
      " [ 129  421]]\n",
      "Especificidad modeloRFC: 0.899333121625913\n"
     ]
    }
   ],
   "source": [
    "accuracy = accuracy_score(y_test, y_pred)\n",
    "precision = precision_score(y_test, y_pred)\n",
    "recall = recall_score(y_test, y_pred)\n",
    "f1 = f1_score(y_test, y_pred)\n",
    "roc_auc = roc_auc_score(y_test, modeloRFC.predict_proba(X_test)[:, 1])\n",
    "confusionRFC= confusion_matrix(y_test, y_pred)\n",
    "tn, fp, fn, tp = confusionRFC.ravel()\n",
    "specificity = tn / (tn + fp)\n",
    "\n",
    "print(f'Accuracy modeloRFC: {accuracy}')\n",
    "print(f'Precision modeloRFC: {precision}')\n",
    "print(f'Recall modeloRFC: {recall}')\n",
    "print(f'F1-Score modeloRFC: {f1}')\n",
    "print(f'AUC-ROC modeloRFC: {roc_auc}')\n",
    "print('Matriz de Confusión modeloRFC:')\n",
    "print(confusionRFC)\n",
    "print(\"Especificidad modeloRFC:\", specificity)"
   ]
  },
  {
   "cell_type": "code",
   "execution_count": 24,
   "metadata": {},
   "outputs": [
    {
     "data": {
      "text/plain": [
       "array([3.20711666e-02, 3.47681672e-02, 1.17039841e-02, 1.68480636e-02,\n",
       "       5.69627198e-02, 8.64016613e-02, 5.05229187e-02, 1.03039591e-01,\n",
       "       5.24881875e-01, 8.22102885e-03, 9.23504816e-03, 1.14692146e-02,\n",
       "       1.51444490e-02, 2.03568408e-02, 5.70259699e-03, 4.26339178e-04,\n",
       "       1.22443348e-02])"
      ]
     },
     "execution_count": 24,
     "metadata": {},
     "output_type": "execute_result"
    }
   ],
   "source": [
    "feature_importance = modeloRFC.feature_importances_\n",
    "feature_importance"
   ]
  },
  {
   "cell_type": "code",
   "execution_count": 25,
   "metadata": {},
   "outputs": [
    {
     "data": {
      "image/png": "[encoded data removed]",
      "text/plain": [
       "<Figure size 800x400 with 1 Axes>"
      ]
     },
     "metadata": {},
     "output_type": "display_data"
    }
   ],
   "source": [
    "sorted_indices = np.argsort(feature_importance)[::-1]\n",
    "feature_labels = X.columns\n",
    "sorted_labels = [feature_labels[i] for i in sorted_indices]\n",
    "sorted_importance = [feature_importance[i] for i in sorted_indices]\n",
    "\n",
    "plt.figure(figsize=(8,4))\n",
    "plt.bar(range(len(sorted_importance)), sorted_importance)\n",
    "plt.xlabel('Características')\n",
    "plt.ylabel('Importancia')\n",
    "plt.xticks(range(len(sorted_importance)), sorted_labels, rotation=90)\n",
    "plt.title('Importancia de las Características')\n",
    "plt.show()"
   ]
  },
  {
   "cell_type": "markdown",
   "metadata": {},
   "source": [
    "## Modelo 2: Gradient Boosting Classifier"
   ]
  },
  {
   "cell_type": "markdown",
   "metadata": {},
   "source": [
    "* El proceso comienza con un conjunto de datos de entrada que contiene ejemplos etiquetados con características. El objetivo es predecir la etiqueta o la clase de un nuevo ejemplo en función de las características.\n",
    "* En primer lugar, se entrena un modelo base. Esto suele ser un árbol de decisión, aunque también podría ser otro tipo de modelo de clasificación. Este modelo inicial se utiliza como punto de partida.\n",
    "* Se calculan los residuales o errores del modelo inicial en función de las etiquetas reales. Los residuales representan las diferencias entre las etiquetas reales y las predicciones del modelo inicial. Luego, se calculan los gradientes de los residuales, que indican cómo deben ajustarse las predicciones para reducir el error. En otras palabras, los gradientes representan la dirección y la magnitud en la que debemos mover nuestras predicciones para mejorar el modelo.\n",
    "* Se entrenan modelos adicionales, que generalmente son árboles de decisión, pero esta vez se centran en predecir los residuales en lugar de las etiquetas originales. Estos modelos adicionales se ajustan para reducir los residuales y, por lo tanto, mejorar la precisión global.\n",
    "* A medida que se entrenan los modelos adicionales, sus predicciones se combinan con las del modelo inicial y los modelos anteriores. En cada etapa, los modelos calculan predicciones basadas en los residuales de los modelos anteriores y ajustan sus predicciones para reducir aún más el error global.\n",
    "* Para evitar el sobreajuste, se utilizan técnicas de regularización, como la limitación de la profundidad de los árboles o la introducción de hiperparámetros de regularización.\n",
    "* El proceso se repite durante un número fijo de iteraciones o hasta que se alcance cierta condición de parada. Cada iteración se centra en mejorar la precisión general del modelo.\n",
    "* Una vez que se completan todas las iteraciones, el modelo de Gradient Boosting Classifier se utiliza para hacer predicciones en nuevos ejemplos. Estas predicciones son la suma ponderada de las predicciones de todos los modelos individuales.\n",
    "* El rendimiento del modelo se evalúa utilizando métricas de clasificación, como la precisión, la sensibilidad, la especificidad, el F1-score, etc.\n",
    "* En resumen, el Gradient Boosting Classifier mejora la precisión del modelo a través de la combinación de múltiples modelos, cada uno de los cuales se enfoca en corregir los errores del modelo anterior. Esto lo convierte en un algoritmo muy efectivo en una amplia gama de problemas de clasificación."
   ]
  },
  {
   "cell_type": "code",
   "execution_count": 26,
   "metadata": {},
   "outputs": [],
   "source": [
    "X = df1.drop('Revenue', axis=1)  \n",
    "y = df1['Revenue']\n",
    "X_train, X_test, y_train, y_test = train_test_split(X, y, test_size=0.3, random_state=1, shuffle=True)"
   ]
  },
  {
   "cell_type": "code",
   "execution_count": 27,
   "metadata": {},
   "outputs": [
    {
     "data": {
      "text/html": [
       "<style>#sk-container-id-2 {color: black;}#sk-container-id-2 pre{padding: 0;}#sk-container-id-2 div.sk-toggleable {background-color: white;}#sk-container-id-2 label.sk-toggleable__label {cursor: pointer;display: block;width: 100%;margin-bottom: 0;padding: 0.3em;box-sizing: border-box;text-align: center;}#sk-container-id-2 label.sk-toggleable__label-arrow:before {content: \"▸\";float: left;margin-right: 0.25em;color: #696969;}#sk-container-id-2 label.sk-toggleable__label-arrow:hover:before {color: black;}#sk-container-id-2 div.sk-estimator:hover label.sk-toggleable__label-arrow:before {color: black;}#sk-container-id-2 div.sk-toggleable__content {max-height: 0;max-width: 0;overflow: hidden;text-align: left;background-color: #f0f8ff;}#sk-container-id-2 div.sk-toggleable__content pre {margin: 0.2em;color: black;border-radius: 0.25em;background-color: #f0f8ff;}#sk-container-id-2 input.sk-toggleable__control:checked~div.sk-toggleable__content {max-height: 200px;max-width: 100%;overflow: auto;}#sk-container-id-2 input.sk-toggleable__control:checked~label.sk-toggleable__label-arrow:before {content: \"▾\";}#sk-container-id-2 div.sk-estimator input.sk-toggleable__control:checked~label.sk-toggleable__label {background-color: #d4ebff;}#sk-container-id-2 div.sk-label input.sk-toggleable__control:checked~label.sk-toggleable__label {background-color: #d4ebff;}#sk-container-id-2 input.sk-hidden--visually {border: 0;clip: rect(1px 1px 1px 1px);clip: rect(1px, 1px, 1px, 1px);height: 1px;margin: -1px;overflow: hidden;padding: 0;position: absolute;width: 1px;}#sk-container-id-2 div.sk-estimator {font-family: monospace;background-color: #f0f8ff;border: 1px dotted black;border-radius: 0.25em;box-sizing: border-box;margin-bottom: 0.5em;}#sk-container-id-2 div.sk-estimator:hover {background-color: #d4ebff;}#sk-container-id-2 div.sk-parallel-item::after {content: \"\";width: 100%;border-bottom: 1px solid gray;flex-grow: 1;}#sk-container-id-2 div.sk-label:hover label.sk-toggleable__label {background-color: #d4ebff;}#sk-container-id-2 div.sk-serial::before {content: \"\";position: absolute;border-left: 1px solid gray;box-sizing: border-box;top: 0;bottom: 0;left: 50%;z-index: 0;}#sk-container-id-2 div.sk-serial {display: flex;flex-direction: column;align-items: center;background-color: white;padding-right: 0.2em;padding-left: 0.2em;position: relative;}#sk-container-id-2 div.sk-item {position: relative;z-index: 1;}#sk-container-id-2 div.sk-parallel {display: flex;align-items: stretch;justify-content: center;background-color: white;position: relative;}#sk-container-id-2 div.sk-item::before, #sk-container-id-2 div.sk-parallel-item::before {content: \"\";position: absolute;border-left: 1px solid gray;box-sizing: border-box;top: 0;bottom: 0;left: 50%;z-index: -1;}#sk-container-id-2 div.sk-parallel-item {display: flex;flex-direction: column;z-index: 1;position: relative;background-color: white;}#sk-container-id-2 div.sk-parallel-item:first-child::after {align-self: flex-end;width: 50%;}#sk-container-id-2 div.sk-parallel-item:last-child::after {align-self: flex-start;width: 50%;}#sk-container-id-2 div.sk-parallel-item:only-child::after {width: 0;}#sk-container-id-2 div.sk-dashed-wrapped {border: 1px dashed gray;margin: 0 0.4em 0.5em 0.4em;box-sizing: border-box;padding-bottom: 0.4em;background-color: white;}#sk-container-id-2 div.sk-label label {font-family: monospace;font-weight: bold;display: inline-block;line-height: 1.2em;}#sk-container-id-2 div.sk-label-container {text-align: center;}#sk-container-id-2 div.sk-container {/* jupyter's `normalize.less` sets `[hidden] { display: none; }` but bootstrap.min.css set `[hidden] { display: none !important; }` so we also need the `!important` here to be able to override the default hidden behavior on the sphinx rendered scikit-learn.org. See: https://github.com/scikit-learn/scikit-learn/issues/21755 */display: inline-block !important;position: relative;}#sk-container-id-2 div.sk-text-repr-fallback {display: none;}</style><div id=\"sk-container-id-2\" class=\"sk-top-container\"><div class=\"sk-text-repr-fallback\"><pre>GradientBoostingClassifier(random_state=1)</pre><b>In a Jupyter environment, please rerun this cell to show the HTML representation or trust the notebook. <br />On GitHub, the HTML representation is unable to render, please try loading this page with nbviewer.org.</b></div><div class=\"sk-container\" hidden><div class=\"sk-item\"><div class=\"sk-estimator sk-toggleable\"><input class=\"sk-toggleable__control sk-hidden--visually\" id=\"sk-estimator-id-2\" type=\"checkbox\" checked><label for=\"sk-estimator-id-2\" class=\"sk-toggleable__label sk-toggleable__label-arrow\">GradientBoostingClassifier</label><div class=\"sk-toggleable__content\"><pre>GradientBoostingClassifier(random_state=1)</pre></div></div></div></div></div>"
      ],
      "text/plain": [
       "GradientBoostingClassifier(random_state=1)"
      ]
     },
     "execution_count": 27,
     "metadata": {},
     "output_type": "execute_result"
    }
   ],
   "source": [
    "modeloGBC = GradientBoostingClassifier(learning_rate=0.1, n_estimators=100, max_depth=3, random_state=1)\n",
    "modeloGBC.fit(X_train, y_train)"
   ]
  },
  {
   "cell_type": "code",
   "execution_count": 28,
   "metadata": {},
   "outputs": [],
   "source": [
    "y_pred = modeloGBC.predict(X_test)"
   ]
  },
  {
   "cell_type": "code",
   "execution_count": 29,
   "metadata": {},
   "outputs": [
    {
     "name": "stdout",
     "output_type": "stream",
     "text": [
      "Accuracy modeloGBC: 0.8969991889699919\n",
      "Precision modeloGBC: 0.6898876404494382\n",
      "Recall modeloGBC: 0.5581818181818182\n",
      "F1-Score modeloGBC: 0.6170854271356784\n",
      "AUC-ROC modeloGBC: 0.9082418661046797\n",
      "Matriz de Confusión modeloGBC:\n",
      "[[3011  138]\n",
      " [ 243  307]]\n",
      "Especificidad modeloGBC: 0.9561765639885678\n"
     ]
    }
   ],
   "source": [
    "accuracy = accuracy_score(y_test, y_pred)\n",
    "precision = precision_score(y_test, y_pred)\n",
    "recall = recall_score(y_test, y_pred)\n",
    "f1 = f1_score(y_test, y_pred)\n",
    "roc_auc = roc_auc_score(y_test, modeloGBC.predict_proba(X_test)[:, 1])\n",
    "confusionGBC = confusion_matrix(y_test, y_pred)\n",
    "tn, fp, fn, tp = confusionGBC.ravel()\n",
    "specificity = tn / (tn + fp)\n",
    "\n",
    "\n",
    "print(f'Accuracy modeloGBC: {accuracy}')\n",
    "print(f'Precision modeloGBC: {precision}')\n",
    "print(f'Recall modeloGBC: {recall}')\n",
    "print(f'F1-Score modeloGBC: {f1}')\n",
    "print(f'AUC-ROC modeloGBC: {roc_auc}')\n",
    "print('Matriz de Confusión modeloGBC:')\n",
    "print(confusionGBC)\n",
    "print(\"Especificidad modeloGBC:\", specificity)"
   ]
  },
  {
   "cell_type": "markdown",
   "metadata": {},
   "source": [
    "## Modelo 3: Ada Boost Classifier"
   ]
  },
  {
   "cell_type": "markdown",
   "metadata": {},
   "source": [
    "* El proceso comienza con un conjunto de datos de entrada que contiene ejemplos etiquetados con características. Cada ejemplo debe tener una etiqueta de clase que se va a predecir.\n",
    "* En primer lugar, se entrena un modelo base, que generalmente es un clasificador débil. Un clasificador débil es un modelo que tiene un rendimiento ligeramente mejor que el azar, como un árbol de decisión simple o un clasificador lineal. Este modelo inicial se utiliza como punto de partida.\n",
    "* Inicialmente, se asigna el mismo peso a todos los ejemplos en el conjunto de datos. Los pesos se utilizan para indicar la importancia de cada ejemplo en el proceso de entrenamiento.\n",
    "* El proceso de entrenamiento es iterativo y se repite un número fijo de veces o hasta que se alcance cierta condición de parada. En cada iteración, se realiza lo siguiente:\n",
    "* * a. Se entrena un modelo en función de los pesos actuales de los ejemplos. Este modelo se enfoca en los ejemplos que se clasificaron incorrectamente en las iteraciones anteriores.\n",
    "* * b. Se calcula el error ponderado del modelo actual en el conjunto de datos. El error ponderado se utiliza para determinar la importancia del modelo en la predicción final.\n",
    "* * c. Se calcula el peso del modelo actual en función del error ponderado. Los modelos que cometen errores más grandes obtienen menos peso, lo que significa que se les da menos importancia en las predicciones finales.\n",
    "* * d. Se actualizan los pesos de los ejemplos. Los ejemplos mal clasificados en la iteración actual reciben un mayor peso, lo que los hace más importantes en la siguiente iteración.\n",
    "* En cada iteración, se asigna un peso al modelo actual, y estos modelos se combinan para formar una predicción final. Los modelos con mayor peso tienen una mayor influencia en la predicción final.\n",
    "* Una vez completadas todas las iteraciones, el modelo AdaBoost se utiliza para hacer predicciones en nuevos ejemplos. Las predicciones finales son una combinación ponderada de las predicciones de los modelos individuales.\n",
    "* El rendimiento del modelo se evalúa utilizando métricas de clasificación, como la precisión, la sensibilidad, la especificidad, el F1-score, etc., según el tipo de problema.\n",
    "* En resumen, AdaBoost es un algoritmo que mejora la precisión del modelo mediante la combinación de múltiples modelos débiles y asignando pesos a los ejemplos en función de su dificultad para clasificarse correctamente. Esto lo convierte en un algoritmo efectivo en una amplia gama de problemas de clasificación."
   ]
  },
  {
   "cell_type": "code",
   "execution_count": 30,
   "metadata": {},
   "outputs": [],
   "source": [
    "X = df1.drop('Revenue', axis=1)  \n",
    "y = df1['Revenue']\n",
    "X_train, X_test, y_train, y_test = train_test_split(X, y, test_size=0.3, random_state=1, shuffle=True)"
   ]
  },
  {
   "cell_type": "code",
   "execution_count": 31,
   "metadata": {},
   "outputs": [
    {
     "data": {
      "text/html": [
       "<style>#sk-container-id-3 {color: black;}#sk-container-id-3 pre{padding: 0;}#sk-container-id-3 div.sk-toggleable {background-color: white;}#sk-container-id-3 label.sk-toggleable__label {cursor: pointer;display: block;width: 100%;margin-bottom: 0;padding: 0.3em;box-sizing: border-box;text-align: center;}#sk-container-id-3 label.sk-toggleable__label-arrow:before {content: \"▸\";float: left;margin-right: 0.25em;color: #696969;}#sk-container-id-3 label.sk-toggleable__label-arrow:hover:before {color: black;}#sk-container-id-3 div.sk-estimator:hover label.sk-toggleable__label-arrow:before {color: black;}#sk-container-id-3 div.sk-toggleable__content {max-height: 0;max-width: 0;overflow: hidden;text-align: left;background-color: #f0f8ff;}#sk-container-id-3 div.sk-toggleable__content pre {margin: 0.2em;color: black;border-radius: 0.25em;background-color: #f0f8ff;}#sk-container-id-3 input.sk-toggleable__control:checked~div.sk-toggleable__content {max-height: 200px;max-width: 100%;overflow: auto;}#sk-container-id-3 input.sk-toggleable__control:checked~label.sk-toggleable__label-arrow:before {content: \"▾\";}#sk-container-id-3 div.sk-estimator input.sk-toggleable__control:checked~label.sk-toggleable__label {background-color: #d4ebff;}#sk-container-id-3 div.sk-label input.sk-toggleable__control:checked~label.sk-toggleable__label {background-color: #d4ebff;}#sk-container-id-3 input.sk-hidden--visually {border: 0;clip: rect(1px 1px 1px 1px);clip: rect(1px, 1px, 1px, 1px);height: 1px;margin: -1px;overflow: hidden;padding: 0;position: absolute;width: 1px;}#sk-container-id-3 div.sk-estimator {font-family: monospace;background-color: #f0f8ff;border: 1px dotted black;border-radius: 0.25em;box-sizing: border-box;margin-bottom: 0.5em;}#sk-container-id-3 div.sk-estimator:hover {background-color: #d4ebff;}#sk-container-id-3 div.sk-parallel-item::after {content: \"\";width: 100%;border-bottom: 1px solid gray;flex-grow: 1;}#sk-container-id-3 div.sk-label:hover label.sk-toggleable__label {background-color: #d4ebff;}#sk-container-id-3 div.sk-serial::before {content: \"\";position: absolute;border-left: 1px solid gray;box-sizing: border-box;top: 0;bottom: 0;left: 50%;z-index: 0;}#sk-container-id-3 div.sk-serial {display: flex;flex-direction: column;align-items: center;background-color: white;padding-right: 0.2em;padding-left: 0.2em;position: relative;}#sk-container-id-3 div.sk-item {position: relative;z-index: 1;}#sk-container-id-3 div.sk-parallel {display: flex;align-items: stretch;justify-content: center;background-color: white;position: relative;}#sk-container-id-3 div.sk-item::before, #sk-container-id-3 div.sk-parallel-item::before {content: \"\";position: absolute;border-left: 1px solid gray;box-sizing: border-box;top: 0;bottom: 0;left: 50%;z-index: -1;}#sk-container-id-3 div.sk-parallel-item {display: flex;flex-direction: column;z-index: 1;position: relative;background-color: white;}#sk-container-id-3 div.sk-parallel-item:first-child::after {align-self: flex-end;width: 50%;}#sk-container-id-3 div.sk-parallel-item:last-child::after {align-self: flex-start;width: 50%;}#sk-container-id-3 div.sk-parallel-item:only-child::after {width: 0;}#sk-container-id-3 div.sk-dashed-wrapped {border: 1px dashed gray;margin: 0 0.4em 0.5em 0.4em;box-sizing: border-box;padding-bottom: 0.4em;background-color: white;}#sk-container-id-3 div.sk-label label {font-family: monospace;font-weight: bold;display: inline-block;line-height: 1.2em;}#sk-container-id-3 div.sk-label-container {text-align: center;}#sk-container-id-3 div.sk-container {/* jupyter's `normalize.less` sets `[hidden] { display: none; }` but bootstrap.min.css set `[hidden] { display: none !important; }` so we also need the `!important` here to be able to override the default hidden behavior on the sphinx rendered scikit-learn.org. See: https://github.com/scikit-learn/scikit-learn/issues/21755 */display: inline-block !important;position: relative;}#sk-container-id-3 div.sk-text-repr-fallback {display: none;}</style><div id=\"sk-container-id-3\" class=\"sk-top-container\"><div class=\"sk-text-repr-fallback\"><pre>AdaBoostClassifier(base_estimator=DecisionTreeClassifier(max_depth=1),\n",
       "                   random_state=1)</pre><b>In a Jupyter environment, please rerun this cell to show the HTML representation or trust the notebook. <br />On GitHub, the HTML representation is unable to render, please try loading this page with nbviewer.org.</b></div><div class=\"sk-container\" hidden><div class=\"sk-item sk-dashed-wrapped\"><div class=\"sk-label-container\"><div class=\"sk-label sk-toggleable\"><input class=\"sk-toggleable__control sk-hidden--visually\" id=\"sk-estimator-id-3\" type=\"checkbox\" ><label for=\"sk-estimator-id-3\" class=\"sk-toggleable__label sk-toggleable__label-arrow\">AdaBoostClassifier</label><div class=\"sk-toggleable__content\"><pre>AdaBoostClassifier(base_estimator=DecisionTreeClassifier(max_depth=1),\n",
       "                   random_state=1)</pre></div></div></div><div class=\"sk-parallel\"><div class=\"sk-parallel-item\"><div class=\"sk-item\"><div class=\"sk-label-container\"><div class=\"sk-label sk-toggleable\"><input class=\"sk-toggleable__control sk-hidden--visually\" id=\"sk-estimator-id-4\" type=\"checkbox\" ><label for=\"sk-estimator-id-4\" class=\"sk-toggleable__label sk-toggleable__label-arrow\">base_estimator: DecisionTreeClassifier</label><div class=\"sk-toggleable__content\"><pre>DecisionTreeClassifier(max_depth=1)</pre></div></div></div><div class=\"sk-serial\"><div class=\"sk-item\"><div class=\"sk-estimator sk-toggleable\"><input class=\"sk-toggleable__control sk-hidden--visually\" id=\"sk-estimator-id-5\" type=\"checkbox\" ><label for=\"sk-estimator-id-5\" class=\"sk-toggleable__label sk-toggleable__label-arrow\">DecisionTreeClassifier</label><div class=\"sk-toggleable__content\"><pre>DecisionTreeClassifier(max_depth=1)</pre></div></div></div></div></div></div></div></div></div></div>"
      ],
      "text/plain": [
       "AdaBoostClassifier(base_estimator=DecisionTreeClassifier(max_depth=1),\n",
       "                   random_state=1)"
      ]
     },
     "execution_count": 31,
     "metadata": {},
     "output_type": "execute_result"
    }
   ],
   "source": [
    "modeloABC= AdaBoostClassifier(base_estimator=DecisionTreeClassifier(max_depth=1), n_estimators=50, random_state=1)\n",
    "modeloABC.fit(X_train, y_train)"
   ]
  },
  {
   "cell_type": "code",
   "execution_count": 32,
   "metadata": {},
   "outputs": [],
   "source": [
    "y_pred = modeloABC.predict(X_test)"
   ]
  },
  {
   "cell_type": "code",
   "execution_count": 33,
   "metadata": {},
   "outputs": [
    {
     "name": "stdout",
     "output_type": "stream",
     "text": [
      "Accuracy modeloABC: 0.8883482022168153\n",
      "Precisión modeloABC: 0.62756052141527\n",
      "Recall modeloABC: 0.6127272727272727\n",
      "F1-Score modeloABC: 0.6200551977920883\n",
      "AUC-ROC modeloABC: 0.8923011634285054\n",
      "Matriz de Confusión modeloABC:\n",
      "[[2949  200]\n",
      " [ 213  337]]\n",
      "Especificidad modeloABC: 0.9364877738964751\n"
     ]
    }
   ],
   "source": [
    "accuracy= accuracy_score(y_test, y_pred)\n",
    "precision= precision_score(y_test, y_pred)\n",
    "recall= recall_score(y_test, y_pred)\n",
    "f1= f1_score(y_test, y_pred)\n",
    "roc_auc= roc_auc_score(y_test, modeloABC.predict_proba(X_test)[:, 1])\n",
    "confusionABC= confusion_matrix(y_test, y_pred)\n",
    "tn, fp, fn, tp = confusionABC.ravel()\n",
    "specificity = tn / (tn + fp)\n",
    "\n",
    "print(\"Accuracy modeloABC:\", accuracy)\n",
    "print(\"Precisión modeloABC:\", precision)\n",
    "print(\"Recall modeloABC:\", recall)\n",
    "print(\"F1-Score modeloABC:\", f1)\n",
    "print(\"AUC-ROC modeloABC:\", roc_auc)\n",
    "print(\"Matriz de Confusión modeloABC:\")\n",
    "print(confusionABC)\n",
    "print(\"Especificidad modeloABC:\", specificity)"
   ]
  },
  {
   "cell_type": "markdown",
   "metadata": {},
   "source": [
    "## Modelo 4: BalancedRandomForest"
   ]
  },
  {
   "cell_type": "markdown",
   "metadata": {},
   "source": [
    "* El algoritmo BalancedRandomForest es una variante del algoritmo Random Forest que se utiliza en problemas de clasificación desequilibrados. Su objetivo principal es abordar el problema del desequilibrio de clases que puede ocurrir en conjuntos de datos en los que una clase es significativamente más grande que la otra. A continuación, se explica cómo funciona el BalancedRandomForest:\n",
    "* Al igual que el algoritmo Random Forest, el proceso comienza con un conjunto de datos de entrada que contiene ejemplos etiquetados con características. El conjunto de datos puede tener clases desequilibradas, lo que significa que una clase tiene muchas más instancias que la otra.\n",
    "* En lugar de tomar muestras aleatorias directamente del conjunto de datos de entrenamiento, el BalancedRandomForest realiza un muestreo aleatorio estratificado para equilibrar las clases. Esto significa que selecciona una cantidad igual de ejemplos de cada clase para construir cada árbol del bosque. Esto ayuda a prevenir el sesgo hacia la clase mayoritaria que a menudo se produce en el Random Forest tradicional.\n",
    "* Para cada árbol en el bosque, se construye un árbol de decisión utilizando el conjunto de datos equilibrado. Cada árbol se desarrolla de manera similar a un árbol de decisión estándar.\n",
    "* Una vez que se han construido todos los árboles, las predicciones se combinan mediante votación o promedio (dependiendo de la configuración) para producir una predicción final. En el caso de la clasificación, el voto de cada árbol se pondera por su precisión.\n",
    "* El BalancedRandomForest se utiliza para hacer predicciones en nuevos ejemplos. Las predicciones finales son el resultado de la combinación de las predicciones de todos los árboles.\n",
    "* La principal ventaja del BalancedRandomForest es que ayuda a mejorar el rendimiento en problemas de clasificación con clases desequilibradas. Al equilibrar las clases en el proceso de entrenamiento, el modelo se vuelve más capaz de clasificar correctamente ejemplos de ambas clases. Esto puede ser especialmente útil en aplicaciones donde la clase minoritaria es de particular interés, como la detección de fraudes, problemas médicos, o ratios de compradores on line."
   ]
  },
  {
   "cell_type": "code",
   "execution_count": 34,
   "metadata": {},
   "outputs": [],
   "source": [
    "X = df1.drop('Revenue', axis=1)\n",
    "y = df1['Revenue']\n",
    "X_train, X_test, y_train, y_test = train_test_split(X, y, test_size=0.3, random_state=1, shuffle=True)"
   ]
  },
  {
   "cell_type": "code",
   "execution_count": 35,
   "metadata": {},
   "outputs": [
    {
     "data": {
      "text/html": [
       "<style>#sk-container-id-4 {color: black;}#sk-container-id-4 pre{padding: 0;}#sk-container-id-4 div.sk-toggleable {background-color: white;}#sk-container-id-4 label.sk-toggleable__label {cursor: pointer;display: block;width: 100%;margin-bottom: 0;padding: 0.3em;box-sizing: border-box;text-align: center;}#sk-container-id-4 label.sk-toggleable__label-arrow:before {content: \"▸\";float: left;margin-right: 0.25em;color: #696969;}#sk-container-id-4 label.sk-toggleable__label-arrow:hover:before {color: black;}#sk-container-id-4 div.sk-estimator:hover label.sk-toggleable__label-arrow:before {color: black;}#sk-container-id-4 div.sk-toggleable__content {max-height: 0;max-width: 0;overflow: hidden;text-align: left;background-color: #f0f8ff;}#sk-container-id-4 div.sk-toggleable__content pre {margin: 0.2em;color: black;border-radius: 0.25em;background-color: #f0f8ff;}#sk-container-id-4 input.sk-toggleable__control:checked~div.sk-toggleable__content {max-height: 200px;max-width: 100%;overflow: auto;}#sk-container-id-4 input.sk-toggleable__control:checked~label.sk-toggleable__label-arrow:before {content: \"▾\";}#sk-container-id-4 div.sk-estimator input.sk-toggleable__control:checked~label.sk-toggleable__label {background-color: #d4ebff;}#sk-container-id-4 div.sk-label input.sk-toggleable__control:checked~label.sk-toggleable__label {background-color: #d4ebff;}#sk-container-id-4 input.sk-hidden--visually {border: 0;clip: rect(1px 1px 1px 1px);clip: rect(1px, 1px, 1px, 1px);height: 1px;margin: -1px;overflow: hidden;padding: 0;position: absolute;width: 1px;}#sk-container-id-4 div.sk-estimator {font-family: monospace;background-color: #f0f8ff;border: 1px dotted black;border-radius: 0.25em;box-sizing: border-box;margin-bottom: 0.5em;}#sk-container-id-4 div.sk-estimator:hover {background-color: #d4ebff;}#sk-container-id-4 div.sk-parallel-item::after {content: \"\";width: 100%;border-bottom: 1px solid gray;flex-grow: 1;}#sk-container-id-4 div.sk-label:hover label.sk-toggleable__label {background-color: #d4ebff;}#sk-container-id-4 div.sk-serial::before {content: \"\";position: absolute;border-left: 1px solid gray;box-sizing: border-box;top: 0;bottom: 0;left: 50%;z-index: 0;}#sk-container-id-4 div.sk-serial {display: flex;flex-direction: column;align-items: center;background-color: white;padding-right: 0.2em;padding-left: 0.2em;position: relative;}#sk-container-id-4 div.sk-item {position: relative;z-index: 1;}#sk-container-id-4 div.sk-parallel {display: flex;align-items: stretch;justify-content: center;background-color: white;position: relative;}#sk-container-id-4 div.sk-item::before, #sk-container-id-4 div.sk-parallel-item::before {content: \"\";position: absolute;border-left: 1px solid gray;box-sizing: border-box;top: 0;bottom: 0;left: 50%;z-index: -1;}#sk-container-id-4 div.sk-parallel-item {display: flex;flex-direction: column;z-index: 1;position: relative;background-color: white;}#sk-container-id-4 div.sk-parallel-item:first-child::after {align-self: flex-end;width: 50%;}#sk-container-id-4 div.sk-parallel-item:last-child::after {align-self: flex-start;width: 50%;}#sk-container-id-4 div.sk-parallel-item:only-child::after {width: 0;}#sk-container-id-4 div.sk-dashed-wrapped {border: 1px dashed gray;margin: 0 0.4em 0.5em 0.4em;box-sizing: border-box;padding-bottom: 0.4em;background-color: white;}#sk-container-id-4 div.sk-label label {font-family: monospace;font-weight: bold;display: inline-block;line-height: 1.2em;}#sk-container-id-4 div.sk-label-container {text-align: center;}#sk-container-id-4 div.sk-container {/* jupyter's `normalize.less` sets `[hidden] { display: none; }` but bootstrap.min.css set `[hidden] { display: none !important; }` so we also need the `!important` here to be able to override the default hidden behavior on the sphinx rendered scikit-learn.org. See: https://github.com/scikit-learn/scikit-learn/issues/21755 */display: inline-block !important;position: relative;}#sk-container-id-4 div.sk-text-repr-fallback {display: none;}</style><div id=\"sk-container-id-4\" class=\"sk-top-container\"><div class=\"sk-text-repr-fallback\"><pre>BalancedRandomForestClassifier(class_weight=&#x27;balanced&#x27;, max_depth=5,\n",
       "                               random_state=1)</pre><b>In a Jupyter environment, please rerun this cell to show the HTML representation or trust the notebook. <br />On GitHub, the HTML representation is unable to render, please try loading this page with nbviewer.org.</b></div><div class=\"sk-container\" hidden><div class=\"sk-item\"><div class=\"sk-estimator sk-toggleable\"><input class=\"sk-toggleable__control sk-hidden--visually\" id=\"sk-estimator-id-6\" type=\"checkbox\" checked><label for=\"sk-estimator-id-6\" class=\"sk-toggleable__label sk-toggleable__label-arrow\">BalancedRandomForestClassifier</label><div class=\"sk-toggleable__content\"><pre>BalancedRandomForestClassifier(class_weight=&#x27;balanced&#x27;, max_depth=5,\n",
       "                               random_state=1)</pre></div></div></div></div></div>"
      ],
      "text/plain": [
       "BalancedRandomForestClassifier(class_weight='balanced', max_depth=5,\n",
       "                               random_state=1)"
      ]
     },
     "execution_count": 35,
     "metadata": {},
     "output_type": "execute_result"
    }
   ],
   "source": [
    "modeloBRF = BalancedRandomForestClassifier(n_estimators=100, max_depth=5, class_weight= \"balanced\", random_state=1)\n",
    "modeloBRF.fit(X_train, y_train)"
   ]
  },
  {
   "cell_type": "code",
   "execution_count": 36,
   "metadata": {},
   "outputs": [],
   "source": [
    "y_pred_BRF = modeloBRF.predict(X_test)"
   ]
  },
  {
   "cell_type": "code",
   "execution_count": 37,
   "metadata": {},
   "outputs": [
    {
     "name": "stdout",
     "output_type": "stream",
     "text": [
      "Accuracy modeloBRF: 0.46336847796701813\n",
      "Precision modeloBRF: 0.21402949382223993\n",
      "Recall modeloBRF: 0.9763636363636363\n",
      "F1-score modeloBRF: 0.3510951291271657\n",
      "AUC-ROC modeloBRF: 0.8990536678310576\n",
      "Matriz de Confusión modeloBRF:\n",
      "[[1177 1972]\n",
      " [  13  537]]\n",
      "Especificidad modeloBRF: 0.3737694506192442\n"
     ]
    }
   ],
   "source": [
    "accuracy_BRF = accuracy_score(y_test, y_pred_BRF)\n",
    "precision_BRF = precision_score(y_test, y_pred_BRF)\n",
    "recall_BRF = recall_score(y_test, y_pred_BRF)\n",
    "f1_BRF = f1_score(y_test, y_pred_BRF)\n",
    "roc_auc_BRF = roc_auc_score(y_test, modeloBRF.predict_proba(X_test)[:, 1])\n",
    "conf_matrix_BRF = confusion_matrix(y_test, y_pred_BRF)\n",
    "tn, fp, fn, tp = conf_matrix_BRF.ravel()\n",
    "specificity = tn / (tn + fp)\n",
    "\n",
    "print(\"Accuracy modeloBRF:\", accuracy_BRF)\n",
    "print(\"Precision modeloBRF:\", precision_BRF)\n",
    "print(\"Recall modeloBRF:\", recall_BRF)\n",
    "print(\"F1-score modeloBRF:\", f1_BRF)\n",
    "print(\"AUC-ROC modeloBRF:\", roc_auc_BRF)\n",
    "print(\"Matriz de Confusión modeloBRF:\")\n",
    "print(conf_matrix_BRF)\n",
    "print(\"Especificidad modeloBRF:\", specificity)"
   ]
  },
  {
   "cell_type": "markdown",
   "metadata": {},
   "source": [
    "## Modelo 5: Naive Bayes  Gaussian NB"
   ]
  },
  {
   "cell_type": "markdown",
   "metadata": {},
   "source": [
    "* El clasificador Gaussian Naive Bayes (Gaussian NB), es un algoritmo de aprendizaje automático que se basa en el teorema de Bayes para realizar tareas de clasificación. El clasificador Gaussian NB es una variante de Naive Bayes que asume que las características siguen una distribución normal (Gaussiana).\n",
    "* Teorema de Bayes: El algoritmo Naive Bayes se basa en el teorema de Bayes, que es un principio fundamental de la teoría de probabilidad. El teorema de Bayes se utiliza para calcular la probabilidad de que un ejemplo dado pertenezca a una clase específica dadas sus características observadas. \n",
    "* El término \"Naive\" en el nombre se refiere a una suposición clave del algoritmo: asume que las características son independientes entre sí. Esto significa que no se tienen en cuenta las posibles correlaciones o interacciones entre las características. Esta suposición es lo que hace que el algoritmo sea \"naive\" (ingenuo). A pesar de esta suposición simplificadora, Naive Bayes a menudo funciona sorprendentemente bien en la práctica.\n",
    "* Gaussian Naive Bayes se utiliza cuando se asume que las características siguen una distribución normal (Gaussiana). Esto significa que el algoritmo modela la probabilidad de observar las características dadas una clase específica como una distribución normal. Para cada característica, el algoritmo calcula la media y la desviación estándar de esa característica para cada clase.\n",
    "* Durante la fase de entrenamiento, el algoritmo calcula las estadísticas necesarias para modelar las distribuciones de las características en cada clase.\n",
    "* Una vez que el modelo está entrenado, puede utilizarse para hacer predicciones en nuevos ejemplos. Para una nueva instancia, el algoritmo calcula la probabilidad de que pertenezca a cada clase en función de las distribuciones de las características y utiliza el teorema de Bayes para estimar la probabilidad condicional de pertenencia a cada clase.\n",
    "* El algoritmo asigna la clase con la probabilidad más alta como la etiqueta de clasificación predicha para el ejemplo.\n",
    "* El Gaussian Naive Bayes es ampliamente utilizado en aplicaciones de clasificación, especialmente cuando se trabaja con características continuas y se pueden hacer suposiciones sobre la distribución normal de las características. A pesar de su suposición de independencia, Naive Bayes a menudo funciona bien en la práctica. Sin embargo, su rendimiento puede verse afectado si la suposición de independencia no se cumple en el conjunto de datos."
   ]
  },
  {
   "cell_type": "code",
   "execution_count": 38,
   "metadata": {},
   "outputs": [],
   "source": [
    "X = df1.drop('Revenue', axis=1)\n",
    "y = df1['Revenue']\n",
    "X_train, X_test, y_train, y_test = train_test_split(X, y, test_size=0.3, random_state=1, shuffle=True)"
   ]
  },
  {
   "cell_type": "code",
   "execution_count": 39,
   "metadata": {},
   "outputs": [
    {
     "data": {
      "text/html": [
       "<style>#sk-container-id-5 {color: black;}#sk-container-id-5 pre{padding: 0;}#sk-container-id-5 div.sk-toggleable {background-color: white;}#sk-container-id-5 label.sk-toggleable__label {cursor: pointer;display: block;width: 100%;margin-bottom: 0;padding: 0.3em;box-sizing: border-box;text-align: center;}#sk-container-id-5 label.sk-toggleable__label-arrow:before {content: \"▸\";float: left;margin-right: 0.25em;color: #696969;}#sk-container-id-5 label.sk-toggleable__label-arrow:hover:before {color: black;}#sk-container-id-5 div.sk-estimator:hover label.sk-toggleable__label-arrow:before {color: black;}#sk-container-id-5 div.sk-toggleable__content {max-height: 0;max-width: 0;overflow: hidden;text-align: left;background-color: #f0f8ff;}#sk-container-id-5 div.sk-toggleable__content pre {margin: 0.2em;color: black;border-radius: 0.25em;background-color: #f0f8ff;}#sk-container-id-5 input.sk-toggleable__control:checked~div.sk-toggleable__content {max-height: 200px;max-width: 100%;overflow: auto;}#sk-container-id-5 input.sk-toggleable__control:checked~label.sk-toggleable__label-arrow:before {content: \"▾\";}#sk-container-id-5 div.sk-estimator input.sk-toggleable__control:checked~label.sk-toggleable__label {background-color: #d4ebff;}#sk-container-id-5 div.sk-label input.sk-toggleable__control:checked~label.sk-toggleable__label {background-color: #d4ebff;}#sk-container-id-5 input.sk-hidden--visually {border: 0;clip: rect(1px 1px 1px 1px);clip: rect(1px, 1px, 1px, 1px);height: 1px;margin: -1px;overflow: hidden;padding: 0;position: absolute;width: 1px;}#sk-container-id-5 div.sk-estimator {font-family: monospace;background-color: #f0f8ff;border: 1px dotted black;border-radius: 0.25em;box-sizing: border-box;margin-bottom: 0.5em;}#sk-container-id-5 div.sk-estimator:hover {background-color: #d4ebff;}#sk-container-id-5 div.sk-parallel-item::after {content: \"\";width: 100%;border-bottom: 1px solid gray;flex-grow: 1;}#sk-container-id-5 div.sk-label:hover label.sk-toggleable__label {background-color: #d4ebff;}#sk-container-id-5 div.sk-serial::before {content: \"\";position: absolute;border-left: 1px solid gray;box-sizing: border-box;top: 0;bottom: 0;left: 50%;z-index: 0;}#sk-container-id-5 div.sk-serial {display: flex;flex-direction: column;align-items: center;background-color: white;padding-right: 0.2em;padding-left: 0.2em;position: relative;}#sk-container-id-5 div.sk-item {position: relative;z-index: 1;}#sk-container-id-5 div.sk-parallel {display: flex;align-items: stretch;justify-content: center;background-color: white;position: relative;}#sk-container-id-5 div.sk-item::before, #sk-container-id-5 div.sk-parallel-item::before {content: \"\";position: absolute;border-left: 1px solid gray;box-sizing: border-box;top: 0;bottom: 0;left: 50%;z-index: -1;}#sk-container-id-5 div.sk-parallel-item {display: flex;flex-direction: column;z-index: 1;position: relative;background-color: white;}#sk-container-id-5 div.sk-parallel-item:first-child::after {align-self: flex-end;width: 50%;}#sk-container-id-5 div.sk-parallel-item:last-child::after {align-self: flex-start;width: 50%;}#sk-container-id-5 div.sk-parallel-item:only-child::after {width: 0;}#sk-container-id-5 div.sk-dashed-wrapped {border: 1px dashed gray;margin: 0 0.4em 0.5em 0.4em;box-sizing: border-box;padding-bottom: 0.4em;background-color: white;}#sk-container-id-5 div.sk-label label {font-family: monospace;font-weight: bold;display: inline-block;line-height: 1.2em;}#sk-container-id-5 div.sk-label-container {text-align: center;}#sk-container-id-5 div.sk-container {/* jupyter's `normalize.less` sets `[hidden] { display: none; }` but bootstrap.min.css set `[hidden] { display: none !important; }` so we also need the `!important` here to be able to override the default hidden behavior on the sphinx rendered scikit-learn.org. See: https://github.com/scikit-learn/scikit-learn/issues/21755 */display: inline-block !important;position: relative;}#sk-container-id-5 div.sk-text-repr-fallback {display: none;}</style><div id=\"sk-container-id-5\" class=\"sk-top-container\"><div class=\"sk-text-repr-fallback\"><pre>GaussianNB()</pre><b>In a Jupyter environment, please rerun this cell to show the HTML representation or trust the notebook. <br />On GitHub, the HTML representation is unable to render, please try loading this page with nbviewer.org.</b></div><div class=\"sk-container\" hidden><div class=\"sk-item\"><div class=\"sk-estimator sk-toggleable\"><input class=\"sk-toggleable__control sk-hidden--visually\" id=\"sk-estimator-id-7\" type=\"checkbox\" checked><label for=\"sk-estimator-id-7\" class=\"sk-toggleable__label sk-toggleable__label-arrow\">GaussianNB</label><div class=\"sk-toggleable__content\"><pre>GaussianNB()</pre></div></div></div></div></div>"
      ],
      "text/plain": [
       "GaussianNB()"
      ]
     },
     "execution_count": 39,
     "metadata": {},
     "output_type": "execute_result"
    }
   ],
   "source": [
    "modeloNB= GaussianNB()\n",
    "modeloNB.fit(X_train, y_train)"
   ]
  },
  {
   "cell_type": "code",
   "execution_count": 40,
   "metadata": {},
   "outputs": [],
   "source": [
    "y_pred = modeloNB.predict(X_test)"
   ]
  },
  {
   "cell_type": "code",
   "execution_count": 41,
   "metadata": {},
   "outputs": [
    {
     "name": "stdout",
     "output_type": "stream",
     "text": [
      "Accuracy modeloNB: 0.818058934847256\n",
      "Precision modeloNB: 0.42922899884925203\n",
      "Recall modeloNB: 0.6781818181818182\n",
      "F1-score modeloNB: 0.5257223396758282\n",
      "AUC-ROC modeloNB: 0.8356707757152342\n",
      "Matriz de Confusión modeloNB:\n",
      "[[2653  496]\n",
      " [ 177  373]]\n",
      "Especificidad modeloNB: 0.8424896792632581\n"
     ]
    }
   ],
   "source": [
    "accuracy = accuracy_score(y_test, y_pred)\n",
    "precision = precision_score(y_test, y_pred)\n",
    "recall = recall_score(y_test, y_pred)\n",
    "f1 = f1_score(y_test, y_pred)\n",
    "roc_auc = roc_auc_score(y_test, modeloNB.predict_proba(X_test)[:, 1])\n",
    "conf_matrixNB = confusion_matrix(y_test, y_pred)\n",
    "tn, fp, fn, tp = conf_matrixNB.ravel()\n",
    "specificity = tn / (tn + fp)\n",
    "\n",
    "print(\"Accuracy modeloNB:\", accuracy)\n",
    "print(\"Precision modeloNB:\", precision)\n",
    "print(\"Recall modeloNB:\", recall)\n",
    "print(\"F1-score modeloNB:\", f1)\n",
    "print(\"AUC-ROC modeloNB:\", roc_auc)\n",
    "print(\"Matriz de Confusión modeloNB:\")\n",
    "print(conf_matrixNB)\n",
    "print(\"Especificidad modeloNB:\", specificity)"
   ]
  },
  {
   "cell_type": "markdown",
   "metadata": {},
   "source": [
    "## Modelo 6: SVC"
   ]
  },
  {
   "cell_type": "markdown",
   "metadata": {},
   "source": [
    "* El modelo de Máquinas de Vectores de Soporte (SVM, Support Vector Machine) es un algoritmo de aprendizaje supervisado. La idea principal detrás del SVM es encontrar un hiperplano que separe los datos en clases de manera óptima. El hiperplano óptimo es aquel que maximiza la distancia entre los puntos de datos más cercanos de las diferentes clases, a los que se llaman vectores de soporte. Estos vectores de soporte definen el margen de separación entre las clases.\n",
    "* Comienza con un conjunto de datos etiquetado que consiste en ejemplos de diferentes clases. Cada ejemplo se representa mediante un conjunto de características.\n",
    "* El objetivo es encontrar un hiperplano (una línea en problemas 2D, un plano en problemas 3D) que separe los ejemplos de diferentes clases de la mejor manera posible, maximizando el margen de separación.\n",
    "* El algoritmo SVM busca el hiperplano óptimo durante el entrenamiento. Para ello, se utiliza una función de costo que penaliza las clasificaciones incorrectas y busca maximizar el margen entre las clases. La optimización se realiza mediante técnicas de programación cuadrática.\n",
    "* Una vez que se ha entrenado el modelo SVC, se puede utilizar para predecir las clases de nuevos ejemplos. El modelo asigna a un ejemplo una etiqueta según el lado del hiperplano en el que se encuentra.\n",
    "* En casos donde los datos no son linealmente separables en su espacio de características original, se pueden aplicar transformaciones no lineales a los datos. Esto se logra mediante una técnica llamada \"kernel trick\", que permite mapear los datos a un espacio de características de mayor dimensión donde puedan ser separados por un hiperplano. Los núcleos (kernels) más comunes son el kernel lineal, el kernel polinómico y el kernel radial (RBF).\n",
    "* El parámetro de regularización (C) se utiliza para controlar el equilibrio entre maximizar el margen y minimizar las clasificaciones incorrectas. Un valor más alto de C permite un margen más estrecho y clasificaciones incorrectas permitidas, mientras que un valor más bajo busca un margen más amplio con menos clasificaciones incorrectas.\n",
    "* El modelo SVM es ampliamente utilizado en aplicaciones de clasificación, especialmente en situaciones en las que es importante maximizar el margen entre las clases y generalizar bien a datos no vistos. Puede ser eficaz en problemas de clasificación binaria y multiclase, y es particularmente útil cuando se dispone de datos de alta dimensión. Además, los núcleos (kernels) permiten adaptar el modelo a problemas no lineales de manera efectiva."
   ]
  },
  {
   "cell_type": "code",
   "execution_count": 42,
   "metadata": {},
   "outputs": [],
   "source": [
    "X = df1.drop('Revenue', axis=1)\n",
    "y = df1['Revenue']\n",
    "X_train, X_test, y_train, y_test = train_test_split(X, y, test_size=0.3, random_state=1, shuffle=True)"
   ]
  },
  {
   "cell_type": "code",
   "execution_count": 43,
   "metadata": {},
   "outputs": [
    {
     "data": {
      "text/html": [
       "<style>#sk-container-id-6 {color: black;}#sk-container-id-6 pre{padding: 0;}#sk-container-id-6 div.sk-toggleable {background-color: white;}#sk-container-id-6 label.sk-toggleable__label {cursor: pointer;display: block;width: 100%;margin-bottom: 0;padding: 0.3em;box-sizing: border-box;text-align: center;}#sk-container-id-6 label.sk-toggleable__label-arrow:before {content: \"▸\";float: left;margin-right: 0.25em;color: #696969;}#sk-container-id-6 label.sk-toggleable__label-arrow:hover:before {color: black;}#sk-container-id-6 div.sk-estimator:hover label.sk-toggleable__label-arrow:before {color: black;}#sk-container-id-6 div.sk-toggleable__content {max-height: 0;max-width: 0;overflow: hidden;text-align: left;background-color: #f0f8ff;}#sk-container-id-6 div.sk-toggleable__content pre {margin: 0.2em;color: black;border-radius: 0.25em;background-color: #f0f8ff;}#sk-container-id-6 input.sk-toggleable__control:checked~div.sk-toggleable__content {max-height: 200px;max-width: 100%;overflow: auto;}#sk-container-id-6 input.sk-toggleable__control:checked~label.sk-toggleable__label-arrow:before {content: \"▾\";}#sk-container-id-6 div.sk-estimator input.sk-toggleable__control:checked~label.sk-toggleable__label {background-color: #d4ebff;}#sk-container-id-6 div.sk-label input.sk-toggleable__control:checked~label.sk-toggleable__label {background-color: #d4ebff;}#sk-container-id-6 input.sk-hidden--visually {border: 0;clip: rect(1px 1px 1px 1px);clip: rect(1px, 1px, 1px, 1px);height: 1px;margin: -1px;overflow: hidden;padding: 0;position: absolute;width: 1px;}#sk-container-id-6 div.sk-estimator {font-family: monospace;background-color: #f0f8ff;border: 1px dotted black;border-radius: 0.25em;box-sizing: border-box;margin-bottom: 0.5em;}#sk-container-id-6 div.sk-estimator:hover {background-color: #d4ebff;}#sk-container-id-6 div.sk-parallel-item::after {content: \"\";width: 100%;border-bottom: 1px solid gray;flex-grow: 1;}#sk-container-id-6 div.sk-label:hover label.sk-toggleable__label {background-color: #d4ebff;}#sk-container-id-6 div.sk-serial::before {content: \"\";position: absolute;border-left: 1px solid gray;box-sizing: border-box;top: 0;bottom: 0;left: 50%;z-index: 0;}#sk-container-id-6 div.sk-serial {display: flex;flex-direction: column;align-items: center;background-color: white;padding-right: 0.2em;padding-left: 0.2em;position: relative;}#sk-container-id-6 div.sk-item {position: relative;z-index: 1;}#sk-container-id-6 div.sk-parallel {display: flex;align-items: stretch;justify-content: center;background-color: white;position: relative;}#sk-container-id-6 div.sk-item::before, #sk-container-id-6 div.sk-parallel-item::before {content: \"\";position: absolute;border-left: 1px solid gray;box-sizing: border-box;top: 0;bottom: 0;left: 50%;z-index: -1;}#sk-container-id-6 div.sk-parallel-item {display: flex;flex-direction: column;z-index: 1;position: relative;background-color: white;}#sk-container-id-6 div.sk-parallel-item:first-child::after {align-self: flex-end;width: 50%;}#sk-container-id-6 div.sk-parallel-item:last-child::after {align-self: flex-start;width: 50%;}#sk-container-id-6 div.sk-parallel-item:only-child::after {width: 0;}#sk-container-id-6 div.sk-dashed-wrapped {border: 1px dashed gray;margin: 0 0.4em 0.5em 0.4em;box-sizing: border-box;padding-bottom: 0.4em;background-color: white;}#sk-container-id-6 div.sk-label label {font-family: monospace;font-weight: bold;display: inline-block;line-height: 1.2em;}#sk-container-id-6 div.sk-label-container {text-align: center;}#sk-container-id-6 div.sk-container {/* jupyter's `normalize.less` sets `[hidden] { display: none; }` but bootstrap.min.css set `[hidden] { display: none !important; }` so we also need the `!important` here to be able to override the default hidden behavior on the sphinx rendered scikit-learn.org. See: https://github.com/scikit-learn/scikit-learn/issues/21755 */display: inline-block !important;position: relative;}#sk-container-id-6 div.sk-text-repr-fallback {display: none;}</style><div id=\"sk-container-id-6\" class=\"sk-top-container\"><div class=\"sk-text-repr-fallback\"><pre>SVC(class_weight=&#x27;balanced&#x27;, random_state=1)</pre><b>In a Jupyter environment, please rerun this cell to show the HTML representation or trust the notebook. <br />On GitHub, the HTML representation is unable to render, please try loading this page with nbviewer.org.</b></div><div class=\"sk-container\" hidden><div class=\"sk-item\"><div class=\"sk-estimator sk-toggleable\"><input class=\"sk-toggleable__control sk-hidden--visually\" id=\"sk-estimator-id-8\" type=\"checkbox\" checked><label for=\"sk-estimator-id-8\" class=\"sk-toggleable__label sk-toggleable__label-arrow\">SVC</label><div class=\"sk-toggleable__content\"><pre>SVC(class_weight=&#x27;balanced&#x27;, random_state=1)</pre></div></div></div></div></div>"
      ],
      "text/plain": [
       "SVC(class_weight='balanced', random_state=1)"
      ]
     },
     "execution_count": 43,
     "metadata": {},
     "output_type": "execute_result"
    }
   ],
   "source": [
    "modeloSVC = SVC(kernel='rbf', C=1.0, gamma='scale', class_weight='balanced', random_state=1)\n",
    "modeloSVC.fit(X_train, y_train)"
   ]
  },
  {
   "cell_type": "code",
   "execution_count": 44,
   "metadata": {},
   "outputs": [],
   "source": [
    "y_pred_SVC = modeloSVC.predict(X_test)"
   ]
  },
  {
   "cell_type": "code",
   "execution_count": 45,
   "metadata": {},
   "outputs": [
    {
     "name": "stdout",
     "output_type": "stream",
     "text": [
      "Accuracy modeloSVC: 0.8667207353338741\n",
      "Precision modeloSVC: 0.5375494071146245\n",
      "Recall modeloSVC: 0.7418181818181818\n",
      "F1-score modeloSVC: 0.6233766233766234\n",
      "AUC-ROC modeloSVC: 0.8896451976096308\n",
      "Matriz de Confusión modeloSVC:\n",
      "[[2798  351]\n",
      " [ 142  408]]\n",
      "Especificidad modeloSVC: 0.8885360431883137\n"
     ]
    }
   ],
   "source": [
    "accuracy_SVC = accuracy_score(y_test, y_pred_SVC)\n",
    "precision_SVC = precision_score(y_test, y_pred_SVC)\n",
    "recall_SVC = recall_score(y_test, y_pred_SVC)\n",
    "f1_SVC = f1_score(y_test, y_pred_SVC)\n",
    "roc_auc_SVC = roc_auc_score(y_test, modeloSVC.decision_function(X_test))\n",
    "conf_matrix_SVC = confusion_matrix(y_test, y_pred_SVC)\n",
    "tn, fp, fn, tp = conf_matrix_SVC.ravel()\n",
    "specificity = tn / (tn + fp)\n",
    "\n",
    "print(\"Accuracy modeloSVC:\", accuracy_SVC)\n",
    "print(\"Precision modeloSVC:\", precision_SVC)\n",
    "print(\"Recall modeloSVC:\", recall_SVC)\n",
    "print(\"F1-score modeloSVC:\", f1_SVC)\n",
    "print(\"AUC-ROC modeloSVC:\", roc_auc_SVC)\n",
    "print(\"Matriz de Confusión modeloSVC:\")\n",
    "print(conf_matrix_SVC)\n",
    "print(\"Especificidad modeloSVC:\", specificity)"
   ]
  },
  {
   "cell_type": "markdown",
   "metadata": {},
   "source": [
    "## Modelo 7: Logistic Regression"
   ]
  },
  {
   "cell_type": "markdown",
   "metadata": {},
   "source": [
    "* La Regresión Logística (Logistic Regression) es un modelo de aprendizaje supervisado utilizado principalmente para problemas de clasificación binaria y multiclase. \n",
    "* La Regresión Logística es un modelo lineal que utiliza una función logística o sigmoide para realizar la clasificación.\n",
    "* En lugar de predecir una salida directamente como en la regresión lineal, la Regresión Logística predice la probabilidad de que un ejemplo pertenezca a una de las dos clases. \n",
    "* La función sigmoide, que tiene la forma de una \"S\", para mapear una variable independiente (en este caso, una combinación lineal de características) a un valor entre 0 y 1.\n",
    "* Posteriormente, la función sigmoide se aplica para predecir la probabilidad de que el ejemplo pertenezca a la clase positiva (clase 1 en un problema de clasificación binaria).\n",
    "* Para realizar una clasificación binaria, se aplica un umbral de decisión a la probabilidad predicha. Si es mayor o igual a un umbral, el ejemplo se clasifica como perteneciente a la clase positiva; de lo contrario, se clasifica como perteneciente a la clase negativa.\n",
    "* Durante el proceso de entrenamiento, el modelo encuentra los valores óptimos de los coeficientes que minimizan una función de costo. El algoritmo de optimización más utilizado en la regresión logística es la optimización de máxima verosimilitud (Maximum Likelihood Estimation).\n",
    "* Al igual que otros modelos, la Regresión Logística puede estar sujeta a overfitting, por lo que se pueden aplicar técnicas de regularización, como la regresión de Ridge o la regresión de Lasso, para evitar el overfitting.\n",
    "* Puede ser interpretada fácilmente y proporciona probabilidades de clasificación, lo que la hace útil para tareas en las que se requiere una medida de confianza en la predicción."
   ]
  },
  {
   "cell_type": "code",
   "execution_count": 46,
   "metadata": {},
   "outputs": [],
   "source": [
    "X = df1.drop('Revenue', axis=1)\n",
    "y = df1['Revenue']\n",
    "X_train, X_test, y_train, y_test = train_test_split(X, y, test_size=0.3, random_state=1, shuffle=True)"
   ]
  },
  {
   "cell_type": "code",
   "execution_count": 47,
   "metadata": {},
   "outputs": [
    {
     "data": {
      "text/html": [
       "<style>#sk-container-id-7 {color: black;}#sk-container-id-7 pre{padding: 0;}#sk-container-id-7 div.sk-toggleable {background-color: white;}#sk-container-id-7 label.sk-toggleable__label {cursor: pointer;display: block;width: 100%;margin-bottom: 0;padding: 0.3em;box-sizing: border-box;text-align: center;}#sk-container-id-7 label.sk-toggleable__label-arrow:before {content: \"▸\";float: left;margin-right: 0.25em;color: #696969;}#sk-container-id-7 label.sk-toggleable__label-arrow:hover:before {color: black;}#sk-container-id-7 div.sk-estimator:hover label.sk-toggleable__label-arrow:before {color: black;}#sk-container-id-7 div.sk-toggleable__content {max-height: 0;max-width: 0;overflow: hidden;text-align: left;background-color: #f0f8ff;}#sk-container-id-7 div.sk-toggleable__content pre {margin: 0.2em;color: black;border-radius: 0.25em;background-color: #f0f8ff;}#sk-container-id-7 input.sk-toggleable__control:checked~div.sk-toggleable__content {max-height: 200px;max-width: 100%;overflow: auto;}#sk-container-id-7 input.sk-toggleable__control:checked~label.sk-toggleable__label-arrow:before {content: \"▾\";}#sk-container-id-7 div.sk-estimator input.sk-toggleable__control:checked~label.sk-toggleable__label {background-color: #d4ebff;}#sk-container-id-7 div.sk-label input.sk-toggleable__control:checked~label.sk-toggleable__label {background-color: #d4ebff;}#sk-container-id-7 input.sk-hidden--visually {border: 0;clip: rect(1px 1px 1px 1px);clip: rect(1px, 1px, 1px, 1px);height: 1px;margin: -1px;overflow: hidden;padding: 0;position: absolute;width: 1px;}#sk-container-id-7 div.sk-estimator {font-family: monospace;background-color: #f0f8ff;border: 1px dotted black;border-radius: 0.25em;box-sizing: border-box;margin-bottom: 0.5em;}#sk-container-id-7 div.sk-estimator:hover {background-color: #d4ebff;}#sk-container-id-7 div.sk-parallel-item::after {content: \"\";width: 100%;border-bottom: 1px solid gray;flex-grow: 1;}#sk-container-id-7 div.sk-label:hover label.sk-toggleable__label {background-color: #d4ebff;}#sk-container-id-7 div.sk-serial::before {content: \"\";position: absolute;border-left: 1px solid gray;box-sizing: border-box;top: 0;bottom: 0;left: 50%;z-index: 0;}#sk-container-id-7 div.sk-serial {display: flex;flex-direction: column;align-items: center;background-color: white;padding-right: 0.2em;padding-left: 0.2em;position: relative;}#sk-container-id-7 div.sk-item {position: relative;z-index: 1;}#sk-container-id-7 div.sk-parallel {display: flex;align-items: stretch;justify-content: center;background-color: white;position: relative;}#sk-container-id-7 div.sk-item::before, #sk-container-id-7 div.sk-parallel-item::before {content: \"\";position: absolute;border-left: 1px solid gray;box-sizing: border-box;top: 0;bottom: 0;left: 50%;z-index: -1;}#sk-container-id-7 div.sk-parallel-item {display: flex;flex-direction: column;z-index: 1;position: relative;background-color: white;}#sk-container-id-7 div.sk-parallel-item:first-child::after {align-self: flex-end;width: 50%;}#sk-container-id-7 div.sk-parallel-item:last-child::after {align-self: flex-start;width: 50%;}#sk-container-id-7 div.sk-parallel-item:only-child::after {width: 0;}#sk-container-id-7 div.sk-dashed-wrapped {border: 1px dashed gray;margin: 0 0.4em 0.5em 0.4em;box-sizing: border-box;padding-bottom: 0.4em;background-color: white;}#sk-container-id-7 div.sk-label label {font-family: monospace;font-weight: bold;display: inline-block;line-height: 1.2em;}#sk-container-id-7 div.sk-label-container {text-align: center;}#sk-container-id-7 div.sk-container {/* jupyter's `normalize.less` sets `[hidden] { display: none; }` but bootstrap.min.css set `[hidden] { display: none !important; }` so we also need the `!important` here to be able to override the default hidden behavior on the sphinx rendered scikit-learn.org. See: https://github.com/scikit-learn/scikit-learn/issues/21755 */display: inline-block !important;position: relative;}#sk-container-id-7 div.sk-text-repr-fallback {display: none;}</style><div id=\"sk-container-id-7\" class=\"sk-top-container\"><div class=\"sk-text-repr-fallback\"><pre>LogisticRegression(class_weight=&#x27;balanced&#x27;, max_iter=1000, random_state=1,\n",
       "                   solver=&#x27;liblinear&#x27;, warm_start=True)</pre><b>In a Jupyter environment, please rerun this cell to show the HTML representation or trust the notebook. <br />On GitHub, the HTML representation is unable to render, please try loading this page with nbviewer.org.</b></div><div class=\"sk-container\" hidden><div class=\"sk-item\"><div class=\"sk-estimator sk-toggleable\"><input class=\"sk-toggleable__control sk-hidden--visually\" id=\"sk-estimator-id-9\" type=\"checkbox\" checked><label for=\"sk-estimator-id-9\" class=\"sk-toggleable__label sk-toggleable__label-arrow\">LogisticRegression</label><div class=\"sk-toggleable__content\"><pre>LogisticRegression(class_weight=&#x27;balanced&#x27;, max_iter=1000, random_state=1,\n",
       "                   solver=&#x27;liblinear&#x27;, warm_start=True)</pre></div></div></div></div></div>"
      ],
      "text/plain": [
       "LogisticRegression(class_weight='balanced', max_iter=1000, random_state=1,\n",
       "                   solver='liblinear', warm_start=True)"
      ]
     },
     "execution_count": 47,
     "metadata": {},
     "output_type": "execute_result"
    }
   ],
   "source": [
    "modeloLogReg = LogisticRegression(class_weight='balanced', penalty='l2', C=1.0, solver='liblinear', random_state=1, max_iter=1000, fit_intercept=True,dual=False, warm_start=True)\n",
    "modeloLogReg.fit(X_train, y_train)"
   ]
  },
  {
   "cell_type": "code",
   "execution_count": 48,
   "metadata": {},
   "outputs": [],
   "source": [
    "y_pred_LogReg = modeloLogReg.predict(X_test)"
   ]
  },
  {
   "cell_type": "code",
   "execution_count": 49,
   "metadata": {},
   "outputs": [
    {
     "name": "stdout",
     "output_type": "stream",
     "text": [
      "Accuracy modeloLogReg: 0.8732089753987564\n",
      "Precision modeloLogReg: 0.5552523874488404\n",
      "Recall modeloLogReg: 0.74\n",
      "F1-score modeloLogReg: 0.6344505066250975\n",
      "AUC-ROC modeloLogReg: 0.890734720979243\n",
      "Matriz de Confusión modeloLogReg:\n",
      "[[2823  326]\n",
      " [ 143  407]]\n",
      "Especificidad modeloLogReg: 0.8964750714512544\n"
     ]
    }
   ],
   "source": [
    "accuracy_LogReg = accuracy_score(y_test, y_pred_LogReg)\n",
    "precision_LogReg = precision_score(y_test, y_pred_LogReg)\n",
    "recall_LogReg = recall_score(y_test, y_pred_LogReg)\n",
    "f1_LogReg = f1_score(y_test, y_pred_LogReg)\n",
    "roc_auc_LogReg = roc_auc_score(y_test, modeloLogReg.predict_proba(X_test)[:, 1])\n",
    "conf_matrix_LogReg = confusion_matrix(y_test, y_pred_LogReg)\n",
    "tn, fp, fn, tp = conf_matrix_LogReg.ravel()\n",
    "specificity = tn / (tn + fp)\n",
    "\n",
    "print(\"Accuracy modeloLogReg:\", accuracy_LogReg)\n",
    "print(\"Precision modeloLogReg:\", precision_LogReg)\n",
    "print(\"Recall modeloLogReg:\", recall_LogReg)\n",
    "print(\"F1-score modeloLogReg:\", f1_LogReg)\n",
    "print(\"AUC-ROC modeloLogReg:\", roc_auc_LogReg)\n",
    "print(\"Matriz de Confusión modeloLogReg:\")\n",
    "print(conf_matrix_LogReg)\n",
    "print(\"Especificidad modeloLogReg:\", specificity)"
   ]
  },
  {
   "cell_type": "markdown",
   "metadata": {},
   "source": [
    "## Modelo 8: KNN"
   ]
  },
  {
   "cell_type": "markdown",
   "metadata": {},
   "source": [
    "* K-Nearest Neighbors (KNN) es un algoritmo de aprendizaje supervisado que se utiliza para la clasificación (y la regresión).\n",
    "* Comenzamos seleccionando un número entero positivo K, que representa el número de vecinos más cercanos a considerar cuando se realiza una predicción. Este valor es un hiperparámetro que se debe elegir antes de aplicar el algoritmo.\n",
    "* Para realizar una predicción para un nuevo punto de datos, calculamos la distancia entre ese punto y todos los puntos en el conjunto de datos de entrenamiento. La distancia se puede medir de diversas formas, siendo las más comunes la distancia euclidiana y la distancia de Manhattan.\n",
    "* Después de calcular las distancias, seleccionamos los K puntos más cercanos al nuevo punto de datos. Estos puntos se denominan \"vecinos más cercanos\". En el caso de clasificación, los puntos son los ejemplos de entrenamiento más cercanos al nuevo punto, y en el caso de regresión, son los ejemplos de entrenamiento más cercanos al nuevo punto.\n",
    "* Para realizar una clasificación, contamos las etiquetas de clase de los K vecinos más cercanos y asignamos la etiqueta de clase más común como la etiqueta de clase del nuevo punto.\n",
    "* La elección del valor de K es crítica. Un valor de K pequeño (por ejemplo, K = 1) puede hacer que el modelo sea sensible a ruido y pueda provocar sobreajuste. Un valor de K grande (por ejemplo, K = N, donde N es el número de ejemplos de entrenamiento) puede hacer que el modelo sea insensible a patrones locales y cause subajuste. Por lo tanto, es importante ajustar K correctamente utilizando técnicas de validación cruzada.\n",
    "* KNN es un algoritmo simple y fácil de entender. Sin embargo, su rendimiento puede verse afectado por el ruido en los datos y por la elección de K. También puede ser computacionalmente costoso en conjuntos de datos grandes, ya que requiere calcular distancias entre todos los puntos de entrenamiento y el nuevo punto."
   ]
  },
  {
   "cell_type": "code",
   "execution_count": 50,
   "metadata": {},
   "outputs": [],
   "source": [
    "X = df1.drop('Revenue', axis=1)\n",
    "y = df1['Revenue']\n",
    "X_train, X_test, y_train, y_test = train_test_split(X, y, test_size=0.3, random_state=1, shuffle=True)"
   ]
  },
  {
   "cell_type": "code",
   "execution_count": 51,
   "metadata": {},
   "outputs": [
    {
     "data": {
      "text/html": [
       "<style>#sk-container-id-8 {color: black;}#sk-container-id-8 pre{padding: 0;}#sk-container-id-8 div.sk-toggleable {background-color: white;}#sk-container-id-8 label.sk-toggleable__label {cursor: pointer;display: block;width: 100%;margin-bottom: 0;padding: 0.3em;box-sizing: border-box;text-align: center;}#sk-container-id-8 label.sk-toggleable__label-arrow:before {content: \"▸\";float: left;margin-right: 0.25em;color: #696969;}#sk-container-id-8 label.sk-toggleable__label-arrow:hover:before {color: black;}#sk-container-id-8 div.sk-estimator:hover label.sk-toggleable__label-arrow:before {color: black;}#sk-container-id-8 div.sk-toggleable__content {max-height: 0;max-width: 0;overflow: hidden;text-align: left;background-color: #f0f8ff;}#sk-container-id-8 div.sk-toggleable__content pre {margin: 0.2em;color: black;border-radius: 0.25em;background-color: #f0f8ff;}#sk-container-id-8 input.sk-toggleable__control:checked~div.sk-toggleable__content {max-height: 200px;max-width: 100%;overflow: auto;}#sk-container-id-8 input.sk-toggleable__control:checked~label.sk-toggleable__label-arrow:before {content: \"▾\";}#sk-container-id-8 div.sk-estimator input.sk-toggleable__control:checked~label.sk-toggleable__label {background-color: #d4ebff;}#sk-container-id-8 div.sk-label input.sk-toggleable__control:checked~label.sk-toggleable__label {background-color: #d4ebff;}#sk-container-id-8 input.sk-hidden--visually {border: 0;clip: rect(1px 1px 1px 1px);clip: rect(1px, 1px, 1px, 1px);height: 1px;margin: -1px;overflow: hidden;padding: 0;position: absolute;width: 1px;}#sk-container-id-8 div.sk-estimator {font-family: monospace;background-color: #f0f8ff;border: 1px dotted black;border-radius: 0.25em;box-sizing: border-box;margin-bottom: 0.5em;}#sk-container-id-8 div.sk-estimator:hover {background-color: #d4ebff;}#sk-container-id-8 div.sk-parallel-item::after {content: \"\";width: 100%;border-bottom: 1px solid gray;flex-grow: 1;}#sk-container-id-8 div.sk-label:hover label.sk-toggleable__label {background-color: #d4ebff;}#sk-container-id-8 div.sk-serial::before {content: \"\";position: absolute;border-left: 1px solid gray;box-sizing: border-box;top: 0;bottom: 0;left: 50%;z-index: 0;}#sk-container-id-8 div.sk-serial {display: flex;flex-direction: column;align-items: center;background-color: white;padding-right: 0.2em;padding-left: 0.2em;position: relative;}#sk-container-id-8 div.sk-item {position: relative;z-index: 1;}#sk-container-id-8 div.sk-parallel {display: flex;align-items: stretch;justify-content: center;background-color: white;position: relative;}#sk-container-id-8 div.sk-item::before, #sk-container-id-8 div.sk-parallel-item::before {content: \"\";position: absolute;border-left: 1px solid gray;box-sizing: border-box;top: 0;bottom: 0;left: 50%;z-index: -1;}#sk-container-id-8 div.sk-parallel-item {display: flex;flex-direction: column;z-index: 1;position: relative;background-color: white;}#sk-container-id-8 div.sk-parallel-item:first-child::after {align-self: flex-end;width: 50%;}#sk-container-id-8 div.sk-parallel-item:last-child::after {align-self: flex-start;width: 50%;}#sk-container-id-8 div.sk-parallel-item:only-child::after {width: 0;}#sk-container-id-8 div.sk-dashed-wrapped {border: 1px dashed gray;margin: 0 0.4em 0.5em 0.4em;box-sizing: border-box;padding-bottom: 0.4em;background-color: white;}#sk-container-id-8 div.sk-label label {font-family: monospace;font-weight: bold;display: inline-block;line-height: 1.2em;}#sk-container-id-8 div.sk-label-container {text-align: center;}#sk-container-id-8 div.sk-container {/* jupyter's `normalize.less` sets `[hidden] { display: none; }` but bootstrap.min.css set `[hidden] { display: none !important; }` so we also need the `!important` here to be able to override the default hidden behavior on the sphinx rendered scikit-learn.org. See: https://github.com/scikit-learn/scikit-learn/issues/21755 */display: inline-block !important;position: relative;}#sk-container-id-8 div.sk-text-repr-fallback {display: none;}</style><div id=\"sk-container-id-8\" class=\"sk-top-container\"><div class=\"sk-text-repr-fallback\"><pre>KNeighborsClassifier(n_neighbors=10, weights=&#x27;distance&#x27;)</pre><b>In a Jupyter environment, please rerun this cell to show the HTML representation or trust the notebook. <br />On GitHub, the HTML representation is unable to render, please try loading this page with nbviewer.org.</b></div><div class=\"sk-container\" hidden><div class=\"sk-item\"><div class=\"sk-estimator sk-toggleable\"><input class=\"sk-toggleable__control sk-hidden--visually\" id=\"sk-estimator-id-10\" type=\"checkbox\" checked><label for=\"sk-estimator-id-10\" class=\"sk-toggleable__label sk-toggleable__label-arrow\">KNeighborsClassifier</label><div class=\"sk-toggleable__content\"><pre>KNeighborsClassifier(n_neighbors=10, weights=&#x27;distance&#x27;)</pre></div></div></div></div></div>"
      ],
      "text/plain": [
       "KNeighborsClassifier(n_neighbors=10, weights='distance')"
      ]
     },
     "execution_count": 51,
     "metadata": {},
     "output_type": "execute_result"
    }
   ],
   "source": [
    "modeloKNN = KNeighborsClassifier(n_neighbors=10, weights='distance', algorithm='auto', leaf_size=30, p=2,metric='minkowski')\n",
    "modeloKNN.fit(X_train, y_train)"
   ]
  },
  {
   "cell_type": "code",
   "execution_count": 52,
   "metadata": {},
   "outputs": [],
   "source": [
    "y_pred_KNN = modeloKNN.predict(X_test)"
   ]
  },
  {
   "cell_type": "code",
   "execution_count": 53,
   "metadata": {},
   "outputs": [
    {
     "name": "stdout",
     "output_type": "stream",
     "text": [
      "Accuracy modeloKNN: 0.8875371722087051\n",
      "Precision modeloKNN: 0.7175324675324676\n",
      "Recall modeloKNN: 0.4018181818181818\n",
      "F1-score modeloKNN: 0.5151515151515151\n",
      "AUC-ROC modeloKNN: 0.8339481509281446\n",
      "Matriz de Confusión modeloKNN:\n",
      "[[3062   87]\n",
      " [ 329  221]]\n",
      "Especificidad modeloKNN: 0.9723721816449666\n"
     ]
    }
   ],
   "source": [
    "accuracy_KNN = accuracy_score(y_test, y_pred_KNN)\n",
    "precision_KNN = precision_score(y_test, y_pred_KNN)\n",
    "recall_KNN = recall_score(y_test, y_pred_KNN)\n",
    "f1_KNN = f1_score(y_test, y_pred_KNN)\n",
    "roc_auc_KNN = roc_auc_score(y_test, modeloKNN.predict_proba(X_test)[:, 1])\n",
    "conf_matrix_KNN = confusion_matrix(y_test, y_pred_KNN)\n",
    "tn, fp, fn, tp = conf_matrix_KNN.ravel()\n",
    "specificity = tn / (tn + fp)\n",
    "\n",
    "print(\"Accuracy modeloKNN:\", accuracy_KNN)\n",
    "print(\"Precision modeloKNN:\", precision_KNN)\n",
    "print(\"Recall modeloKNN:\", recall_KNN)\n",
    "print(\"F1-score modeloKNN:\", f1_KNN)\n",
    "print(\"AUC-ROC modeloKNN:\", roc_auc_KNN)\n",
    "print(\"Matriz de Confusión modeloKNN:\")\n",
    "print(conf_matrix_KNN)\n",
    "print(\"Especificidad modeloKNN:\", specificity)"
   ]
  },
  {
   "cell_type": "markdown",
   "metadata": {},
   "source": [
    "## Elección del mejor Modelo"
   ]
  },
  {
   "cell_type": "markdown",
   "metadata": {},
   "source": [
    "* Accuracy (Exactitud): Es la proporción de predicciones correctas sobre el total de predicciones realizadas. Se calcula mediante la fórmula: (TP + TN) / (TP + TN + FP + FN). Mide la capacidad del modelo para predecir correctamente todas las clases.\n",
    "* Precision (Precisión): Es la proporción de verdaderos positivos sobre el total de predicciones positivas realizadas. Se calcula mediante la fórmula: TP / (TP + FP). Mide la precisión de las predicciones positivas y es útil cuando se busca evitar falsos positivos.\n",
    "* Recall (Recuperación o Sensibilidad): Es la proporción de verdaderos positivos sobre el total de ejemplos positivos en los datos reales. Se calcula mediante la fórmula: TP / (TP + FN). Mide la capacidad del modelo para encontrar todos los ejemplos positivos y es útil cuando se busca evitar falsos negativos.\n",
    "* F1-Score: Es la media armónica entre precisión y recuperación (recall). Se calcula mediante la fórmula: 2 * (Precision * Recall) / (Precision + Recall). Combina precisión y recuperación en una sola métrica y es especialmente útil cuando se necesita equilibrar ambas.\n",
    "* AUC-ROC (Área bajo la curva ROC): La curva ROC representa la relación entre la tasa de verdaderos positivos (TPR) y la tasa de falsos positivos (FPR) a medida que se varía el umbral de decisión del modelo. El AUC-ROC mide el área bajo esta curva y proporciona una métrica única que cuantifica el rendimiento del modelo en diferentes umbrales. Evalúa la capacidad del modelo para distinguir entre las clases y se utiliza comúnmente en clasificación binaria.\n",
    "* Matriz de Confusión: Es una tabla que muestra la relación entre las predicciones del modelo y las clases reales. Las filas representan las clases reales, y las columnas representan las predicciones del modelo. Suele tener cuatro celdas: verdaderos positivos (TP), verdaderos negativos (TN), falsos positivos (FP) y falsos negativos (FN). Permite una visualización detallada del rendimiento del modelo y es útil para calcular otras métricas como precisión y recuperación.\n",
    "* La Especificidad (Specificity) mide la capacidad del modelo para identificar correctamente los casos negativos, es decir, aquellos que no pertenecen a la clase positiva (compradores). Se calcula utilizando la fórmula Especificidad = Verdaderos Negativos (TN)/ (Verdaderos Negativos (TN)+Falsos Positivos (FP)). Una alta especificidad significa que el modelo tiene una baja tasa de falsos positivos y es efectivo en la identificación de los casos negativos reales. Esto es particularmente importante si deseas minimizar los falsos alarmas o costos asociados con los falsos positivos."
   ]
  },
  {
   "cell_type": "code",
   "execution_count": 54,
   "metadata": {},
   "outputs": [
    {
     "name": "stdout",
     "output_type": "stream",
     "text": [
      "              Accuracy  Precision  Recall  F1-Score  AUC-ROC  Especificidad\n",
      "modeloRFC       0.8794     0.5704  0.7654    0.6537   0.9049         0.8993\n",
      "modeloGBC       0.8969     0.6898  0.5581    0.6170   0.9082         0.9561\n",
      "modeloABC       0.8883     0.6275  0.6127    0.6200   0.8923         0.9364\n",
      "modeloBRF       0.4633     0.2140  0.9763    0.3510   0.8990         0.3737\n",
      "modeloNB        0.8180     0.4292  0.6781    0.5257   0.8356         0.8424\n",
      "modeloSVC       0.8667     0.5375  0.7418    0.6233   0.8896         0.8885\n",
      "modeloLogReg    0.8732     0.5552  0.7400    0.6344   0.8907         0.8964\n",
      "modeloKNN       0.8875     0.7175  0.4018    0.5151   0.8339         0.9723\n"
     ]
    }
   ],
   "source": [
    "metricas = {\n",
    "    \"Accuracy\": [0.8794, 0.8969, 0.8883, 0.4633, 0.8180, 0.8667, 0.8732, 0.8875],\n",
    "    \"Precision\": [ 0.5704, 0.6898, 0.6275, 0.2140, 0.4292, 0.5375, 0.5552, 0.7175],\n",
    "    \"Recall\": [0.7654, 0.5581, 0.6127, 0.9763, 0.6781, 0.7418, 0.7400, 0.4018],\n",
    "    \"F1-Score\": [0.6537, 0.6170, 0.6200, 0.3510, 0.5257, 0.6233, 0.6344, 0.5151],\n",
    "    \"AUC-ROC\": [0.9049, 0.9082, 0.8923, 0.8990, 0.8356, 0.8896, 0.8907, 0.8339],\n",
    "    \"Especificidad\": [0.8993, 0.9561, 0.9364, 0.3737, 0.8424, 0.8885, 0.8964, 0.9723]}\n",
    "modelos = [\"modeloRFC\", \"modeloGBC\", \"modeloABC\", \"modeloBRF\", \"modeloNB\", \"modeloSVC\", \"modeloLogReg\", \"modeloKNN\"]\n",
    "df_metricas_combinadas = pd.DataFrame(metricas, index=modelos)\n",
    "print(df_metricas_combinadas)"
   ]
  },
  {
   "cell_type": "markdown",
   "metadata": {},
   "source": [
    "## Accuracy"
   ]
  },
  {
   "cell_type": "code",
   "execution_count": 55,
   "metadata": {},
   "outputs": [
    {
     "data": {
      "image/png": "[encoded data removed]",
      "text/plain": [
       "<Figure size 400x400 with 1 Axes>"
      ]
     },
     "metadata": {},
     "output_type": "display_data"
    }
   ],
   "source": [
    "modelos = [\"modeloRFC\", \"modeloGBC\", \"modeloABC\", \"modeloBRF\", \"modeloNB\", \"modeloSVC\", \"modeloLogReg\", \"modeloKNN\"]\n",
    "metricas = [0.8794, 0.8969, 0.8883, 0.4633, 0.8180, 0.8667, 0.8732, 0.8875]\n",
    "df_metricas_combinadas = pd.DataFrame(metricas, index=modelos, columns=[\"Accuracy\"])\n",
    "df_metricas_combinadas = df_metricas_combinadas.sort_values(by=\"Accuracy\", ascending=False)\n",
    "colores = ['blue', 'cyan', 'cyan', 'cyan', 'gray', 'gray', 'gray', 'lavender']\n",
    "plt.figure(figsize=(4, 4))\n",
    "plt.bar(df_metricas_combinadas.index, df_metricas_combinadas[\"Accuracy\"], color=colores)\n",
    "plt.xticks(rotation=90)\n",
    "plt.xlabel('Modelos')\n",
    "plt.ylabel('Accuracy')\n",
    "plt.title('Accuracy de Modelos de Machine Learning')\n",
    "plt.tight_layout()\n",
    "plt.show()"
   ]
  },
  {
   "cell_type": "markdown",
   "metadata": {},
   "source": [
    "Accuracy: Si valoramos la precisión general del modelo para predecir correctamente las etiquetas, entonces \"modeloGBC\" tiene el Accuracy más alto (0.8969)."
   ]
  },
  {
   "cell_type": "markdown",
   "metadata": {},
   "source": [
    "## Precisión"
   ]
  },
  {
   "cell_type": "code",
   "execution_count": 56,
   "metadata": {},
   "outputs": [
    {
     "data": {
      "image/png": "[encoded data removed]",
      "text/plain": [
       "<Figure size 400x400 with 1 Axes>"
      ]
     },
     "metadata": {},
     "output_type": "display_data"
    }
   ],
   "source": [
    "modelos = [\"modeloRFC\", \"modeloGBC\", \"modeloABC\", \"modeloBRF\", \"modeloNB\", \"modeloSVC\", \"modeloLogReg\", \"modeloKNN\"]\n",
    "metricas = [0.5704, 0.6898, 0.6275, 0.2140, 0.4292, 0.5375, 0.5552, 0.7175]\n",
    "df_metricas_combinadas = pd.DataFrame(metricas, index=modelos, columns=[\"Precisión\"])\n",
    "df_metricas_combinadas = df_metricas_combinadas.sort_values(by=\"Precisión\", ascending=False)\n",
    "colores = ['blue', 'cyan', 'cyan', 'cyan', 'gray', 'gray', 'gray', 'lavender']\n",
    "plt.figure(figsize=(4, 4))\n",
    "plt.bar(df_metricas_combinadas.index, df_metricas_combinadas[\"Precisión\"], color=colores)\n",
    "plt.xticks(rotation=90)\n",
    "plt.xlabel('Modelos')\n",
    "plt.ylabel('Precisión')\n",
    "plt.title('Precisión de los Modelos de Machine Learning')\n",
    "plt.tight_layout()\n",
    "plt.show()"
   ]
  },
  {
   "cell_type": "markdown",
   "metadata": {},
   "source": [
    "Precision: Si deseamos minimizar los falsos positivos (predecir positivo cuando es negativo), entonces \"modeloKNN\" tiene la Precision más alta (0.7175). Esto significa que es un buen modelo para evitar falsas alarmas."
   ]
  },
  {
   "cell_type": "markdown",
   "metadata": {},
   "source": [
    "## Recall"
   ]
  },
  {
   "cell_type": "code",
   "execution_count": 57,
   "metadata": {},
   "outputs": [
    {
     "data": {
      "image/png": "[encoded data removed]",
      "text/plain": [
       "<Figure size 400x400 with 1 Axes>"
      ]
     },
     "metadata": {},
     "output_type": "display_data"
    }
   ],
   "source": [
    "modelos = [\"modeloRFC\", \"modeloGBC\", \"modeloABC\", \"modeloBRF\", \"modeloNB\", \"modeloSVC\", \"modeloLogReg\", \"modeloKNN\"]\n",
    "metricas = [0.7654, 0.5581, 0.6127, 0.9763, 0.6781, 0.7418, 0.7400, 0.4018]\n",
    "df_metricas_combinadas = pd.DataFrame(metricas, index=modelos, columns=[\"Recall\"])\n",
    "df_metricas_combinadas = df_metricas_combinadas.sort_values(by=\"Recall\", ascending=False)\n",
    "colores = ['blue', 'cyan', 'cyan', 'cyan', 'gray', 'gray', 'gray', 'lavender']\n",
    "plt.figure(figsize=(4, 4))\n",
    "plt.bar(df_metricas_combinadas.index, df_metricas_combinadas[\"Recall\"], color=colores)\n",
    "plt.xticks(rotation=90)\n",
    "plt.xlabel('Modelos')\n",
    "plt.ylabel('Recall')\n",
    "plt.title('Recall de Modelos de Machine Learning')\n",
    "plt.tight_layout()\n",
    "plt.show()"
   ]
  },
  {
   "cell_type": "markdown",
   "metadata": {},
   "source": [
    "Recall: Si deseamos minimizar los falsos negativos (predecir negativo cuando es positivo), entonces \"modeloBRF\" tiene el Recall más alto (0,9763). Esto significa que es bueno para capturar todos los casos positivos."
   ]
  },
  {
   "cell_type": "markdown",
   "metadata": {},
   "source": [
    "## F1-Score"
   ]
  },
  {
   "cell_type": "code",
   "execution_count": 58,
   "metadata": {},
   "outputs": [
    {
     "data": {
      "image/png": "[encoded data removed]",
      "text/plain": [
       "<Figure size 400x400 with 1 Axes>"
      ]
     },
     "metadata": {},
     "output_type": "display_data"
    }
   ],
   "source": [
    "modelos = [\"modeloRFC\", \"modeloGBC\", \"modeloABC\", \"modeloBRF\", \"modeloNB\", \"modeloSVC\", \"modeloLogReg\", \"modeloKNN\"]\n",
    "f1_scores = [0.6537, 0.6170, 0.6200, 0.3510, 0.5257, 0.6233, 0.6344, 0.5151]\n",
    "df_metricas_combinadas = pd.DataFrame(f1_scores, index=modelos, columns=[\"F1-score\"])\n",
    "df_metricas_combinadas = df_metricas_combinadas.sort_values(by=\"F1-score\", ascending=False)\n",
    "colores = ['blue', 'cyan', 'cyan', 'cyan', 'gray', 'gray', 'gray', 'lavender']\n",
    "plt.figure(figsize=(4, 4))\n",
    "plt.bar(df_metricas_combinadas.index, df_metricas_combinadas[\"F1-score\"], color=colores)\n",
    "plt.xticks(rotation=90)\n",
    "plt.xlabel('Modelos')\n",
    "plt.ylabel('F1-score')\n",
    "plt.title('F1-score de Modelos de Machine Learning')\n",
    "plt.tight_layout()\n",
    "plt.show()"
   ]
  },
  {
   "cell_type": "markdown",
   "metadata": {},
   "source": [
    "F1-Score: Si buscamos un equilibrio entre Precision y Recall, entonces podríamos mirar el F1-Score: \"modeloRFC\" tiene un F1-Score bastante alto (0.6537)."
   ]
  },
  {
   "cell_type": "markdown",
   "metadata": {},
   "source": [
    "## AUC-ROC"
   ]
  },
  {
   "cell_type": "code",
   "execution_count": 59,
   "metadata": {},
   "outputs": [],
   "source": [
    "fpr_modeloRFC, tpr_modeloRFC, _ = roc_curve(y_test, modeloRFC.predict_proba(X_test)[:, 1])\n",
    "roc_auc_modeloRFC = auc(fpr_modeloRFC, tpr_modeloRFC)"
   ]
  },
  {
   "cell_type": "code",
   "execution_count": 60,
   "metadata": {},
   "outputs": [],
   "source": [
    "fpr_modeloGBC, tpr_modeloGBC, _ = roc_curve(y_test, modeloGBC.predict_proba(X_test)[:, 1])\n",
    "roc_auc_modeloGBC = auc(fpr_modeloGBC, tpr_modeloGBC)"
   ]
  },
  {
   "cell_type": "code",
   "execution_count": 61,
   "metadata": {},
   "outputs": [],
   "source": [
    "fpr_modeloABC, tpr_modeloABC, _ = roc_curve(y_test, modeloABC.predict_proba(X_test)[:, 1])\n",
    "roc_auc_modeloABC = auc(fpr_modeloABC, tpr_modeloABC)"
   ]
  },
  {
   "cell_type": "code",
   "execution_count": 62,
   "metadata": {},
   "outputs": [],
   "source": [
    "fpr_modeloBRF, tpr_modeloBRF, _ = roc_curve(y_test, modeloBRF.predict_proba(X_test)[:, 1])\n",
    "roc_auc_modeloBRF = auc(fpr_modeloBRF, tpr_modeloBRF)"
   ]
  },
  {
   "cell_type": "code",
   "execution_count": 63,
   "metadata": {},
   "outputs": [],
   "source": [
    "fpr_modeloNB, tpr_modeloNB, _ = roc_curve(y_test, modeloNB.predict_proba(X_test)[:, 1])\n",
    "roc_auc_modeloNB = auc(fpr_modeloNB, tpr_modeloNB)"
   ]
  },
  {
   "cell_type": "code",
   "execution_count": 64,
   "metadata": {},
   "outputs": [],
   "source": [
    "fpr_modeloLogReg, tpr_modeloLogReg, _ = roc_curve(y_test, modeloLogReg.predict_proba(X_test)[:, 1])\n",
    "roc_auc_modeloLogReg = auc(fpr_modeloLogReg, tpr_modeloLogReg)"
   ]
  },
  {
   "cell_type": "code",
   "execution_count": 65,
   "metadata": {},
   "outputs": [],
   "source": [
    "fpr_modeloKNN, tpr_modeloKNN, _ = roc_curve(y_test, modeloKNN.predict_proba(X_test)[:, 1])\n",
    "roc_auc_modeloKNN = auc(fpr_modeloKNN, tpr_modeloKNN)"
   ]
  },
  {
   "cell_type": "code",
   "execution_count": 66,
   "metadata": {},
   "outputs": [
    {
     "data": {
      "image/png": "[encoded data removed]",
      "text/plain": [
       "<Figure size 600x600 with 1 Axes>"
      ]
     },
     "metadata": {},
     "output_type": "display_data"
    }
   ],
   "source": [
    "modelos = [\"modeloRFC\", \"modeloGBC\", \"modeloABC\", \"modeloBRF\", \"modeloNB\", \"modeloLogReg\", \"modeloKNN\"]\n",
    "roc_curves = {\n",
    "    \"modeloRFC\": (fpr_modeloRFC, tpr_modeloRFC),\n",
    "    \"modeloGBC\": (fpr_modeloGBC, tpr_modeloGBC),\n",
    "    \"modeloABC\": (fpr_modeloABC, tpr_modeloABC),\n",
    "    \"modeloBRF\": (fpr_modeloBRF, tpr_modeloBRF),\n",
    "    \"modeloNB\": (fpr_modeloNB, tpr_modeloNB),\n",
    "    \"modeloLogReg\": (fpr_modeloLogReg, tpr_modeloLogReg),\n",
    "    \"modeloKNN\": (fpr_modeloKNN, tpr_modeloKNN),}\n",
    "\n",
    "plt.figure(figsize=(6, 6))\n",
    "\n",
    "for modelo, (fpr, tpr) in roc_curves.items():\n",
    "    roc_auc = auc(fpr, tpr)\n",
    "    plt.plot(fpr, tpr, label=f'{modelo} (AUC = {roc_auc:.2f})')\n",
    "\n",
    "plt.plot([0, 1], [0, 1], 'k--')\n",
    "plt.xlim([0.0, 1.0])\n",
    "plt.ylim([0.0, 1.05])\n",
    "plt.xlabel('Tasa de Falsos Positivos')\n",
    "plt.ylabel('Tasa de Verdaderos Positivos')\n",
    "plt.title('Curva ROC de Modelos de Machine Learning')\n",
    "plt.legend(loc=\"lower right\")\n",
    "plt.grid()\n",
    "plt.show()"
   ]
  },
  {
   "cell_type": "markdown",
   "metadata": {},
   "source": [
    "## Especificidad"
   ]
  },
  {
   "cell_type": "code",
   "execution_count": 67,
   "metadata": {},
   "outputs": [
    {
     "data": {
      "image/png": "[encoded data removed]",
      "text/plain": [
       "<Figure size 400x400 with 1 Axes>"
      ]
     },
     "metadata": {},
     "output_type": "display_data"
    }
   ],
   "source": [
    "modelos = [\"modeloRFC\", \"modeloGBC\", \"modeloABC\", \"modeloBRF\", \"modeloNB\", \"modeloSVC\", \"modeloLogReg\", \"modeloKNN\"]\n",
    "metricas = [0.8993, 0.9561, 0.9364, 0.3737, 0.8424, 0.8885, 0.8964, 0.9723]\n",
    "df_metricas_combinadas = pd.DataFrame(f1_scores, index=modelos, columns=[\"Especificidad\"])\n",
    "df_metricas_combinadas = df_metricas_combinadas.sort_values(by=\"Especificidad\", ascending=False)\n",
    "colores = ['blue', 'cyan', 'cyan', 'cyan', 'gray', 'gray', 'gray', 'lavender']\n",
    "plt.figure(figsize=(4, 4))\n",
    "plt.bar(df_metricas_combinadas.index, df_metricas_combinadas[\"Especificidad\"], color=colores)\n",
    "plt.xticks(rotation=90)\n",
    "plt.xlabel('Modelos')\n",
    "plt.ylabel('Especificidad')\n",
    "plt.title('Especificidad de Modelos de Machine Learning')\n",
    "plt.tight_layout()\n",
    "plt.show()"
   ]
  },
  {
   "cell_type": "markdown",
   "metadata": {},
   "source": [
    "Especificidad: Si buscamos identificar correctamente los casos negativos, (no compradores), el mejor modelo sera modeloRFC, con un valor de 0.8993. "
   ]
  },
  {
   "cell_type": "markdown",
   "metadata": {},
   "source": [
    "# Modelo elegido ML: my_model: BalancedRandomForest"
   ]
  },
  {
   "cell_type": "markdown",
   "metadata": {},
   "source": [
    "* De 8 modelos de ML probados: 1) RandomForestClassifier, 2) Gradient Boosting Classifier, 3) Ada Boost Classifier, 4)BalancedRandomForest, 5) Gaussian NB (Naive Bayes), 6) SVC, 7) Logistic Regression, 8) KNN) por la capacidad para manejar el Balance de las clases de la variable dependiente, elegimos el BalancedRandomForest.\n",
    "\n",
    "* La métrica mas influyente tomada en cuenta es \"Recall\" con un valor de 0.9763. "
   ]
  },
  {
   "cell_type": "code",
   "execution_count": 68,
   "metadata": {},
   "outputs": [],
   "source": [
    "my_model = modeloRFC"
   ]
  },
  {
   "cell_type": "markdown",
   "metadata": {},
   "source": [
    "## Trazabilidad"
   ]
  },
  {
   "cell_type": "code",
   "execution_count": 70,
   "metadata": {},
   "outputs": [],
   "source": [
    "with mlflow.start_run():\n",
    "    mlflow.set_experiment(\"Customer_Classification\")\n",
    "    mlflow.set_tag(\"model_type\", \"RandomForest\")\n",
    "    mlflow.sklearn.log_model(my_model, \"Random_forest_model\")\n",
    "\n",
    "    mlflow.log_metric(\"accuracy\", accuracy)\n",
    "    mlflow.log_metric(\"precision\", precision)\n",
    "    mlflow.log_metric(\"recall\", recall)\n",
    "    mlflow.log_metric(\"f1_score\", f1)\n",
    "    mlflow.log_metric(\"auc_roc\", roc_auc)\n",
    "   \n",
    "\n",
    "mlflow.end_run()"
   ]
  },
  {
   "cell_type": "code",
   "execution_count": 71,
   "metadata": {},
   "outputs": [
    {
     "data": {
      "text/plain": [
       "['C:\\\\Users\\\\axa\\\\THE BRIDGE_23\\\\SEMANA 24. CORE. PROYECTO ML\\\\81. PROYECTO ML\\\\src\\\\model/my_model.joblib']"
      ]
     },
     "execution_count": 71,
     "metadata": {},
     "output_type": "execute_result"
    }
   ],
   "source": [
    "ruta_guardado = r\"C:\\Users\\axa\\THE BRIDGE_23\\SEMANA 24. CORE. PROYECTO ML\\81. PROYECTO ML\\src\\model/\"\n",
    "nombre_archivo = 'my_model.joblib'\n",
    "ruta_completa = ruta_guardado + nombre_archivo\n",
    "joblib.dump(my_model, ruta_completa)"
   ]
  },
  {
   "cell_type": "code",
   "execution_count": null,
   "metadata": {},
   "outputs": [],
   "source": []
  }
 ],
 "metadata": {
  "kernelspec": {
   "display_name": "modeloml",
   "language": "python",
   "name": "python3"
  },
  "language_info": {
   "codemirror_mode": {
    "name": "ipython",
    "version": 3
   },
   "file_extension": ".py",
   "mimetype": "text/x-python",
   "name": "python",
   "nbconvert_exporter": "python",
   "pygments_lexer": "ipython3",
   "version": "3.9.18"
  },
  "orig_nbformat": 4
 },
 "nbformat": 4,
 "nbformat_minor": 2
}
