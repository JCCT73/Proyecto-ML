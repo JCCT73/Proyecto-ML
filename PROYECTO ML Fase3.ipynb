{
 "cells": [
  {
   "cell_type": "code",
   "execution_count": 1,
   "metadata": {},
   "outputs": [],
   "source": [
    "import pandas as pd\n",
    "import numpy as np\n",
    "import joblib\n",
    "import pickle\n",
    "import mlflow.sklearn"
   ]
  },
  {
   "cell_type": "code",
   "execution_count": 2,
   "metadata": {},
   "outputs": [],
   "source": [
    "from sklearn.preprocessing import LabelEncoder\n",
    "from sklearn.preprocessing import StandardScaler"
   ]
  },
  {
   "cell_type": "code",
   "execution_count": 18,
   "metadata": {},
   "outputs": [],
   "source": [
    "from imblearn.ensemble import BalancedRandomForestClassifier"
   ]
  },
  {
   "cell_type": "code",
   "execution_count": 4,
   "metadata": {},
   "outputs": [],
   "source": [
    "from sklearn.model_selection import train_test_split\n",
    "from sklearn.model_selection import GridSearchCV"
   ]
  },
  {
   "cell_type": "code",
   "execution_count": 5,
   "metadata": {},
   "outputs": [],
   "source": [
    "from sklearn.metrics import accuracy_score\n",
    "from sklearn.metrics import precision_score\n",
    "from sklearn.metrics import recall_score\n",
    "from sklearn.metrics import f1_score\n",
    "from sklearn.metrics import roc_curve\n",
    "from sklearn.metrics import roc_auc_score \n",
    "from sklearn.metrics import confusion_matrix\n",
    "from sklearn.metrics import auc"
   ]
  },
  {
   "cell_type": "code",
   "execution_count": 6,
   "metadata": {},
   "outputs": [],
   "source": [
    "import warnings\n",
    "warnings.filterwarnings(\"ignore\")"
   ]
  },
  {
   "cell_type": "code",
   "execution_count": 7,
   "metadata": {},
   "outputs": [],
   "source": [
    "df = pd.read_csv( r\"C:\\Users\\axa\\THE BRIDGE_23\\SEMANA 24. CORE. PROYECTO ML\\81. PROYECTO ML\\src\\data\\raw\\online_shoppers_intention.csv\", sep=\",\")"
   ]
  },
  {
   "cell_type": "markdown",
   "metadata": {},
   "source": [
    "## Transformación de Variables Booleanas a Númericas"
   ]
  },
  {
   "cell_type": "markdown",
   "metadata": {},
   "source": [
    "* La mayoría de los algoritmos de ML: (regresión, clasificación, clustering y otros), trabajan con variables numéricas. Con variables booleanas en su forma original (True/False o 1/0), los algoritmos pueden funcionar sin problemas.\n",
    "* Simplifica la preparación de datos y facilita la modelización. Los valores numéricos son más fáciles de analizar y de utilizar en cálculos matemáticos.\n",
    "* Favorecen la compatibilidad con Bibliotecas y Herramientas: Las bibliotecas de ML (Scikit-Learn en Python), y otras herramientas estadísticas están diseñadas para trabajar con datos numéricos.\n",
    "* En algunos casos, transformar variables booleanas puede mejorar el rendimiento del modelo. Algunos algoritmos pueden beneficiarse de la representación numérica de las variables booleanas."
   ]
  },
  {
   "cell_type": "code",
   "execution_count": 8,
   "metadata": {},
   "outputs": [],
   "source": [
    "le = LabelEncoder()"
   ]
  },
  {
   "cell_type": "code",
   "execution_count": 9,
   "metadata": {},
   "outputs": [],
   "source": [
    "df[\"Weekend\"] = le.fit_transform(df[\"Weekend\"])"
   ]
  },
  {
   "cell_type": "code",
   "execution_count": 10,
   "metadata": {},
   "outputs": [],
   "source": [
    "df[\"Revenue\"] = le.fit_transform(df[\"Revenue\"])"
   ]
  },
  {
   "cell_type": "markdown",
   "metadata": {},
   "source": [
    "## Transformación de variables \"Objeto\" a Variables Dummies"
   ]
  },
  {
   "cell_type": "markdown",
   "metadata": {},
   "source": [
    "* Al usar variables dummies, los coeficientes en un modelo (como regresión lineal) se vuelven más interpretables. \n",
    "* Cada coeficiente representa el efecto de esa categoría específica en comparación con la categoría de referencia (la original). La eliminación de una columna facilita la interpretación.\n",
    "* La multicolinealidad se refiere a la correlación alta o perfecta entre dos o más variables predictoras en un modelo estadístico. \n",
    "* En el caso de variables dummies, si se tienen múltiples columnas que representan una característica categórica con dos categorías, la presencia de una categoría se puede predecir a partir de la otra. Esto crea multicolinealidad y puede causar problemas en la interpretación y estabilidad del modelo.\n",
    "* Si no se elimina una de las columnas de las variables ficticias, existe la \"trampa de las variables ficticias\" (dummy variable trap). Esto significa que las variables predictoras son linealmente dependientes y el modelo no puede identificar coeficientes únicos para cada una. Eliminar una columna resuelve este problema.\n",
    "* Compatibilidad con Modelos y Bibliotecas"
   ]
  },
  {
   "cell_type": "code",
   "execution_count": 11,
   "metadata": {},
   "outputs": [],
   "source": [
    "# Transformar la columna \"Month\" en variables Dummies (sólo hay 10 meses, y eliminar la primera columna de las 10 para evitar Multicolinealidad)\n",
    "df_dummies_Month = pd.get_dummies(df, columns=['Month'], prefix='Month', drop_first=True)"
   ]
  },
  {
   "cell_type": "code",
   "execution_count": 12,
   "metadata": {},
   "outputs": [],
   "source": [
    "# Transformar la columna \"VisitorType\" en variables Dummies y eliminar la primera columna para evitar Multicolinealidad\n",
    "df_transformado = pd.get_dummies(df_dummies_Month, columns=['VisitorType'], prefix='VisitorType', drop_first=True)"
   ]
  },
  {
   "cell_type": "markdown",
   "metadata": {},
   "source": [
    "## Estandarizar / Escalar / Normalizar"
   ]
  },
  {
   "cell_type": "markdown",
   "metadata": {},
   "source": [
    "* Igualdad de peso: Cuando las variables numéricas tienen diferentes escalas, algunos algoritmos de ML pueden tratar a las variables con valores más grandes como más importantes. Estandarizar las variables garantiza que todas tengan un rango similar, lo que permite que el modelo trate todas las características por igual.\n",
    "* La estandarización ayuda a que los algoritmos converjan más rápido y alcancen resultados más precisos.\n",
    "* La estandarización facilita la interpretación de coeficientes en modelos lineales. Los coeficientes estandarizados se pueden comparar directamente para evaluar la importancia relativa de las características.\n",
    "* Algunos algoritmos numéricos pueden ser propensos a errores numéricos si los datos tienen magnitudes muy diferentes. La estandarización reduce el riesgo de tales errores.\n",
    "* La estandarización de las variables numéricas es una buena práctica que puede mejorar el rendimiento de los modelos y garantizar resultados más consistentes y significativos en el análisis de datos y ML.\n",
    "* Al estandarizar con StandardScaler, los datos se centran en cero, lo que significa que la media de las variables escaladas será cero. Esto es útil para algoritmos sensibles a la media, como la regresión lineal. El centrado en cero también facilita la interpretación de los coeficientes en modelos lineales.\n",
    "* Después de la estandarización, todas las variables tienen una desviación estándar de 1. Esto asegura que todas las variables tengan la misma escala.\n",
    "* El StandardScaler es adecuado para una amplia variedad de datos, incluidos los datos que se asemejan a una distribución normal, ya que no asume una distribución específica para los datos.\n",
    "* El StandardScaler es moderadamente robusto ante valores atípicos, (no se verá significativamente afectado por observaciones atípicas). Si los datos contienen valores extremos, esta técnica es efectiva."
   ]
  },
  {
   "cell_type": "code",
   "execution_count": 13,
   "metadata": {},
   "outputs": [],
   "source": [
    "caracteristicas_a_escalar = ['Administrative', 'Administrative_Duration', 'Informational', 'Informational_Duration',\n",
    "                            'ProductRelated', 'ProductRelated_Duration', 'BounceRates', 'ExitRates', 'PageValues', 'SpecialDay',\n",
    "                            'OperatingSystems','Browser', 'Region', 'TrafficType', \"Weekend\"]\n",
    "\n",
    "caracteristicas_numericas = df_transformado[caracteristicas_a_escalar]\n",
    "\n",
    "sc = StandardScaler()\n",
    "\n",
    "escaladas = sc.fit_transform(caracteristicas_numericas)\n",
    "\n",
    "df_transformado[caracteristicas_a_escalar] = escaladas"
   ]
  },
  {
   "cell_type": "code",
   "execution_count": 14,
   "metadata": {},
   "outputs": [
    {
     "data": {
      "text/html": [
       "<div>\n",
       "<style scoped>\n",
       "    .dataframe tbody tr th:only-of-type {\n",
       "        vertical-align: middle;\n",
       "    }\n",
       "\n",
       "    .dataframe tbody tr th {\n",
       "        vertical-align: top;\n",
       "    }\n",
       "\n",
       "    .dataframe thead th {\n",
       "        text-align: right;\n",
       "    }\n",
       "</style>\n",
       "<table border=\"1\" class=\"dataframe\">\n",
       "  <thead>\n",
       "    <tr style=\"text-align: right;\">\n",
       "      <th></th>\n",
       "      <th>Administrative</th>\n",
       "      <th>Administrative_Duration</th>\n",
       "      <th>Informational</th>\n",
       "      <th>Informational_Duration</th>\n",
       "      <th>ProductRelated</th>\n",
       "      <th>ProductRelated_Duration</th>\n",
       "      <th>BounceRates</th>\n",
       "      <th>ExitRates</th>\n",
       "      <th>PageValues</th>\n",
       "      <th>SpecialDay</th>\n",
       "      <th>...</th>\n",
       "      <th>Month_Feb</th>\n",
       "      <th>Month_Jul</th>\n",
       "      <th>Month_June</th>\n",
       "      <th>Month_Mar</th>\n",
       "      <th>Month_May</th>\n",
       "      <th>Month_Nov</th>\n",
       "      <th>Month_Oct</th>\n",
       "      <th>Month_Sep</th>\n",
       "      <th>VisitorType_Other</th>\n",
       "      <th>VisitorType_Returning_Visitor</th>\n",
       "    </tr>\n",
       "  </thead>\n",
       "  <tbody>\n",
       "    <tr>\n",
       "      <th>0</th>\n",
       "      <td>-0.696993</td>\n",
       "      <td>-0.457191</td>\n",
       "      <td>-0.396478</td>\n",
       "      <td>-0.244931</td>\n",
       "      <td>-0.691003</td>\n",
       "      <td>-0.624348</td>\n",
       "      <td>3.667189</td>\n",
       "      <td>3.229316</td>\n",
       "      <td>-0.317178</td>\n",
       "      <td>-0.308821</td>\n",
       "      <td>...</td>\n",
       "      <td>True</td>\n",
       "      <td>False</td>\n",
       "      <td>False</td>\n",
       "      <td>False</td>\n",
       "      <td>False</td>\n",
       "      <td>False</td>\n",
       "      <td>False</td>\n",
       "      <td>False</td>\n",
       "      <td>False</td>\n",
       "      <td>True</td>\n",
       "    </tr>\n",
       "    <tr>\n",
       "      <th>1</th>\n",
       "      <td>-0.696993</td>\n",
       "      <td>-0.457191</td>\n",
       "      <td>-0.396478</td>\n",
       "      <td>-0.244931</td>\n",
       "      <td>-0.668518</td>\n",
       "      <td>-0.590903</td>\n",
       "      <td>-0.457683</td>\n",
       "      <td>1.171473</td>\n",
       "      <td>-0.317178</td>\n",
       "      <td>-0.308821</td>\n",
       "      <td>...</td>\n",
       "      <td>True</td>\n",
       "      <td>False</td>\n",
       "      <td>False</td>\n",
       "      <td>False</td>\n",
       "      <td>False</td>\n",
       "      <td>False</td>\n",
       "      <td>False</td>\n",
       "      <td>False</td>\n",
       "      <td>False</td>\n",
       "      <td>True</td>\n",
       "    </tr>\n",
       "    <tr>\n",
       "      <th>2</th>\n",
       "      <td>-0.696993</td>\n",
       "      <td>-0.457191</td>\n",
       "      <td>-0.396478</td>\n",
       "      <td>-0.244931</td>\n",
       "      <td>-0.691003</td>\n",
       "      <td>-0.624348</td>\n",
       "      <td>3.667189</td>\n",
       "      <td>3.229316</td>\n",
       "      <td>-0.317178</td>\n",
       "      <td>-0.308821</td>\n",
       "      <td>...</td>\n",
       "      <td>True</td>\n",
       "      <td>False</td>\n",
       "      <td>False</td>\n",
       "      <td>False</td>\n",
       "      <td>False</td>\n",
       "      <td>False</td>\n",
       "      <td>False</td>\n",
       "      <td>False</td>\n",
       "      <td>False</td>\n",
       "      <td>True</td>\n",
       "    </tr>\n",
       "    <tr>\n",
       "      <th>3</th>\n",
       "      <td>-0.696993</td>\n",
       "      <td>-0.457191</td>\n",
       "      <td>-0.396478</td>\n",
       "      <td>-0.244931</td>\n",
       "      <td>-0.668518</td>\n",
       "      <td>-0.622954</td>\n",
       "      <td>0.573535</td>\n",
       "      <td>1.994610</td>\n",
       "      <td>-0.317178</td>\n",
       "      <td>-0.308821</td>\n",
       "      <td>...</td>\n",
       "      <td>True</td>\n",
       "      <td>False</td>\n",
       "      <td>False</td>\n",
       "      <td>False</td>\n",
       "      <td>False</td>\n",
       "      <td>False</td>\n",
       "      <td>False</td>\n",
       "      <td>False</td>\n",
       "      <td>False</td>\n",
       "      <td>True</td>\n",
       "    </tr>\n",
       "    <tr>\n",
       "      <th>4</th>\n",
       "      <td>-0.696993</td>\n",
       "      <td>-0.457191</td>\n",
       "      <td>-0.396478</td>\n",
       "      <td>-0.244931</td>\n",
       "      <td>-0.488636</td>\n",
       "      <td>-0.296430</td>\n",
       "      <td>-0.045196</td>\n",
       "      <td>0.142551</td>\n",
       "      <td>-0.317178</td>\n",
       "      <td>-0.308821</td>\n",
       "      <td>...</td>\n",
       "      <td>True</td>\n",
       "      <td>False</td>\n",
       "      <td>False</td>\n",
       "      <td>False</td>\n",
       "      <td>False</td>\n",
       "      <td>False</td>\n",
       "      <td>False</td>\n",
       "      <td>False</td>\n",
       "      <td>False</td>\n",
       "      <td>True</td>\n",
       "    </tr>\n",
       "    <tr>\n",
       "      <th>...</th>\n",
       "      <td>...</td>\n",
       "      <td>...</td>\n",
       "      <td>...</td>\n",
       "      <td>...</td>\n",
       "      <td>...</td>\n",
       "      <td>...</td>\n",
       "      <td>...</td>\n",
       "      <td>...</td>\n",
       "      <td>...</td>\n",
       "      <td>...</td>\n",
       "      <td>...</td>\n",
       "      <td>...</td>\n",
       "      <td>...</td>\n",
       "      <td>...</td>\n",
       "      <td>...</td>\n",
       "      <td>...</td>\n",
       "      <td>...</td>\n",
       "      <td>...</td>\n",
       "      <td>...</td>\n",
       "      <td>...</td>\n",
       "      <td>...</td>\n",
       "    </tr>\n",
       "    <tr>\n",
       "      <th>12325</th>\n",
       "      <td>0.206173</td>\n",
       "      <td>0.363075</td>\n",
       "      <td>-0.396478</td>\n",
       "      <td>-0.244931</td>\n",
       "      <td>0.478227</td>\n",
       "      <td>0.307822</td>\n",
       "      <td>-0.310366</td>\n",
       "      <td>-0.288966</td>\n",
       "      <td>0.342125</td>\n",
       "      <td>-0.308821</td>\n",
       "      <td>...</td>\n",
       "      <td>False</td>\n",
       "      <td>False</td>\n",
       "      <td>False</td>\n",
       "      <td>False</td>\n",
       "      <td>False</td>\n",
       "      <td>False</td>\n",
       "      <td>False</td>\n",
       "      <td>False</td>\n",
       "      <td>False</td>\n",
       "      <td>True</td>\n",
       "    </tr>\n",
       "    <tr>\n",
       "      <th>12326</th>\n",
       "      <td>-0.696993</td>\n",
       "      <td>-0.457191</td>\n",
       "      <td>-0.396478</td>\n",
       "      <td>-0.244931</td>\n",
       "      <td>-0.601062</td>\n",
       "      <td>-0.380957</td>\n",
       "      <td>-0.457683</td>\n",
       "      <td>-0.447364</td>\n",
       "      <td>-0.317178</td>\n",
       "      <td>-0.308821</td>\n",
       "      <td>...</td>\n",
       "      <td>False</td>\n",
       "      <td>False</td>\n",
       "      <td>False</td>\n",
       "      <td>False</td>\n",
       "      <td>False</td>\n",
       "      <td>True</td>\n",
       "      <td>False</td>\n",
       "      <td>False</td>\n",
       "      <td>False</td>\n",
       "      <td>True</td>\n",
       "    </tr>\n",
       "    <tr>\n",
       "      <th>12327</th>\n",
       "      <td>-0.696993</td>\n",
       "      <td>-0.457191</td>\n",
       "      <td>-0.396478</td>\n",
       "      <td>-0.244931</td>\n",
       "      <td>-0.578577</td>\n",
       "      <td>-0.528063</td>\n",
       "      <td>1.261014</td>\n",
       "      <td>0.897093</td>\n",
       "      <td>-0.317178</td>\n",
       "      <td>-0.308821</td>\n",
       "      <td>...</td>\n",
       "      <td>False</td>\n",
       "      <td>False</td>\n",
       "      <td>False</td>\n",
       "      <td>False</td>\n",
       "      <td>False</td>\n",
       "      <td>True</td>\n",
       "      <td>False</td>\n",
       "      <td>False</td>\n",
       "      <td>False</td>\n",
       "      <td>True</td>\n",
       "    </tr>\n",
       "    <tr>\n",
       "      <th>12328</th>\n",
       "      <td>0.507228</td>\n",
       "      <td>-0.032916</td>\n",
       "      <td>-0.396478</td>\n",
       "      <td>-0.244931</td>\n",
       "      <td>-0.376210</td>\n",
       "      <td>-0.443536</td>\n",
       "      <td>-0.457683</td>\n",
       "      <td>-0.453140</td>\n",
       "      <td>-0.317178</td>\n",
       "      <td>-0.308821</td>\n",
       "      <td>...</td>\n",
       "      <td>False</td>\n",
       "      <td>False</td>\n",
       "      <td>False</td>\n",
       "      <td>False</td>\n",
       "      <td>False</td>\n",
       "      <td>True</td>\n",
       "      <td>False</td>\n",
       "      <td>False</td>\n",
       "      <td>False</td>\n",
       "      <td>True</td>\n",
       "    </tr>\n",
       "    <tr>\n",
       "      <th>12329</th>\n",
       "      <td>-0.696993</td>\n",
       "      <td>-0.457191</td>\n",
       "      <td>-0.396478</td>\n",
       "      <td>-0.244931</td>\n",
       "      <td>-0.646033</td>\n",
       "      <td>-0.613243</td>\n",
       "      <td>-0.457683</td>\n",
       "      <td>0.485525</td>\n",
       "      <td>-0.317178</td>\n",
       "      <td>-0.308821</td>\n",
       "      <td>...</td>\n",
       "      <td>False</td>\n",
       "      <td>False</td>\n",
       "      <td>False</td>\n",
       "      <td>False</td>\n",
       "      <td>False</td>\n",
       "      <td>True</td>\n",
       "      <td>False</td>\n",
       "      <td>False</td>\n",
       "      <td>False</td>\n",
       "      <td>False</td>\n",
       "    </tr>\n",
       "  </tbody>\n",
       "</table>\n",
       "<p>12330 rows × 27 columns</p>\n",
       "</div>"
      ],
      "text/plain": [
       "       Administrative  Administrative_Duration  Informational  \\\n",
       "0           -0.696993                -0.457191      -0.396478   \n",
       "1           -0.696993                -0.457191      -0.396478   \n",
       "2           -0.696993                -0.457191      -0.396478   \n",
       "3           -0.696993                -0.457191      -0.396478   \n",
       "4           -0.696993                -0.457191      -0.396478   \n",
       "...               ...                      ...            ...   \n",
       "12325        0.206173                 0.363075      -0.396478   \n",
       "12326       -0.696993                -0.457191      -0.396478   \n",
       "12327       -0.696993                -0.457191      -0.396478   \n",
       "12328        0.507228                -0.032916      -0.396478   \n",
       "12329       -0.696993                -0.457191      -0.396478   \n",
       "\n",
       "       Informational_Duration  ProductRelated  ProductRelated_Duration  \\\n",
       "0                   -0.244931       -0.691003                -0.624348   \n",
       "1                   -0.244931       -0.668518                -0.590903   \n",
       "2                   -0.244931       -0.691003                -0.624348   \n",
       "3                   -0.244931       -0.668518                -0.622954   \n",
       "4                   -0.244931       -0.488636                -0.296430   \n",
       "...                       ...             ...                      ...   \n",
       "12325               -0.244931        0.478227                 0.307822   \n",
       "12326               -0.244931       -0.601062                -0.380957   \n",
       "12327               -0.244931       -0.578577                -0.528063   \n",
       "12328               -0.244931       -0.376210                -0.443536   \n",
       "12329               -0.244931       -0.646033                -0.613243   \n",
       "\n",
       "       BounceRates  ExitRates  PageValues  SpecialDay  ...  Month_Feb  \\\n",
       "0         3.667189   3.229316   -0.317178   -0.308821  ...       True   \n",
       "1        -0.457683   1.171473   -0.317178   -0.308821  ...       True   \n",
       "2         3.667189   3.229316   -0.317178   -0.308821  ...       True   \n",
       "3         0.573535   1.994610   -0.317178   -0.308821  ...       True   \n",
       "4        -0.045196   0.142551   -0.317178   -0.308821  ...       True   \n",
       "...            ...        ...         ...         ...  ...        ...   \n",
       "12325    -0.310366  -0.288966    0.342125   -0.308821  ...      False   \n",
       "12326    -0.457683  -0.447364   -0.317178   -0.308821  ...      False   \n",
       "12327     1.261014   0.897093   -0.317178   -0.308821  ...      False   \n",
       "12328    -0.457683  -0.453140   -0.317178   -0.308821  ...      False   \n",
       "12329    -0.457683   0.485525   -0.317178   -0.308821  ...      False   \n",
       "\n",
       "       Month_Jul  Month_June  Month_Mar  Month_May  Month_Nov  Month_Oct  \\\n",
       "0          False       False      False      False      False      False   \n",
       "1          False       False      False      False      False      False   \n",
       "2          False       False      False      False      False      False   \n",
       "3          False       False      False      False      False      False   \n",
       "4          False       False      False      False      False      False   \n",
       "...          ...         ...        ...        ...        ...        ...   \n",
       "12325      False       False      False      False      False      False   \n",
       "12326      False       False      False      False       True      False   \n",
       "12327      False       False      False      False       True      False   \n",
       "12328      False       False      False      False       True      False   \n",
       "12329      False       False      False      False       True      False   \n",
       "\n",
       "       Month_Sep  VisitorType_Other  VisitorType_Returning_Visitor  \n",
       "0          False              False                           True  \n",
       "1          False              False                           True  \n",
       "2          False              False                           True  \n",
       "3          False              False                           True  \n",
       "4          False              False                           True  \n",
       "...          ...                ...                            ...  \n",
       "12325      False              False                           True  \n",
       "12326      False              False                           True  \n",
       "12327      False              False                           True  \n",
       "12328      False              False                           True  \n",
       "12329      False              False                          False  \n",
       "\n",
       "[12330 rows x 27 columns]"
      ]
     },
     "execution_count": 14,
     "metadata": {},
     "output_type": "execute_result"
    }
   ],
   "source": [
    "df_transformado"
   ]
  },
  {
   "cell_type": "code",
   "execution_count": 15,
   "metadata": {},
   "outputs": [
    {
     "name": "stdout",
     "output_type": "stream",
     "text": [
      "El archivo CSV se ha guardado en: C:\\Users\\axa\\THE BRIDGE_23\\SEMANA 24. CORE. PROYECTO ML\\81. PROYECTO ML\\src\\data\\processed\\datos_procesados.csv\n"
     ]
    }
   ],
   "source": [
    "ruta_guardado = r\"C:\\Users\\axa\\THE BRIDGE_23\\SEMANA 24. CORE. PROYECTO ML\\81. PROYECTO ML\\src\\data\\processed\\datos_procesados.csv\"\n",
    "\n",
    "df_transformado.to_csv(ruta_guardado, index=False)\n",
    "\n",
    "print(f\"El archivo CSV se ha guardado en: {ruta_guardado}\")"
   ]
  },
  {
   "cell_type": "markdown",
   "metadata": {},
   "source": [
    "## my_model: BalancedRandomForestClassifier"
   ]
  },
  {
   "cell_type": "code",
   "execution_count": 16,
   "metadata": {},
   "outputs": [],
   "source": [
    "X = df_transformado.drop('Revenue', axis=1)\n",
    "y = df_transformado['Revenue']\n",
    "\n",
    "X_train, X_test, y_train, y_test = train_test_split(X, y, test_size=0.3, random_state=1, shuffle=True)"
   ]
  },
  {
   "cell_type": "code",
   "execution_count": null,
   "metadata": {},
   "outputs": [],
   "source": [
    "# Guardar X_train, X_test, y_train, y_test"
   ]
  },
  {
   "cell_type": "code",
   "execution_count": 21,
   "metadata": {},
   "outputs": [
    {
     "data": {
      "text/html": [
       "<style>#sk-container-id-2 {color: black;}#sk-container-id-2 pre{padding: 0;}#sk-container-id-2 div.sk-toggleable {background-color: white;}#sk-container-id-2 label.sk-toggleable__label {cursor: pointer;display: block;width: 100%;margin-bottom: 0;padding: 0.3em;box-sizing: border-box;text-align: center;}#sk-container-id-2 label.sk-toggleable__label-arrow:before {content: \"▸\";float: left;margin-right: 0.25em;color: #696969;}#sk-container-id-2 label.sk-toggleable__label-arrow:hover:before {color: black;}#sk-container-id-2 div.sk-estimator:hover label.sk-toggleable__label-arrow:before {color: black;}#sk-container-id-2 div.sk-toggleable__content {max-height: 0;max-width: 0;overflow: hidden;text-align: left;background-color: #f0f8ff;}#sk-container-id-2 div.sk-toggleable__content pre {margin: 0.2em;color: black;border-radius: 0.25em;background-color: #f0f8ff;}#sk-container-id-2 input.sk-toggleable__control:checked~div.sk-toggleable__content {max-height: 200px;max-width: 100%;overflow: auto;}#sk-container-id-2 input.sk-toggleable__control:checked~label.sk-toggleable__label-arrow:before {content: \"▾\";}#sk-container-id-2 div.sk-estimator input.sk-toggleable__control:checked~label.sk-toggleable__label {background-color: #d4ebff;}#sk-container-id-2 div.sk-label input.sk-toggleable__control:checked~label.sk-toggleable__label {background-color: #d4ebff;}#sk-container-id-2 input.sk-hidden--visually {border: 0;clip: rect(1px 1px 1px 1px);clip: rect(1px, 1px, 1px, 1px);height: 1px;margin: -1px;overflow: hidden;padding: 0;position: absolute;width: 1px;}#sk-container-id-2 div.sk-estimator {font-family: monospace;background-color: #f0f8ff;border: 1px dotted black;border-radius: 0.25em;box-sizing: border-box;margin-bottom: 0.5em;}#sk-container-id-2 div.sk-estimator:hover {background-color: #d4ebff;}#sk-container-id-2 div.sk-parallel-item::after {content: \"\";width: 100%;border-bottom: 1px solid gray;flex-grow: 1;}#sk-container-id-2 div.sk-label:hover label.sk-toggleable__label {background-color: #d4ebff;}#sk-container-id-2 div.sk-serial::before {content: \"\";position: absolute;border-left: 1px solid gray;box-sizing: border-box;top: 0;bottom: 0;left: 50%;z-index: 0;}#sk-container-id-2 div.sk-serial {display: flex;flex-direction: column;align-items: center;background-color: white;padding-right: 0.2em;padding-left: 0.2em;position: relative;}#sk-container-id-2 div.sk-item {position: relative;z-index: 1;}#sk-container-id-2 div.sk-parallel {display: flex;align-items: stretch;justify-content: center;background-color: white;position: relative;}#sk-container-id-2 div.sk-item::before, #sk-container-id-2 div.sk-parallel-item::before {content: \"\";position: absolute;border-left: 1px solid gray;box-sizing: border-box;top: 0;bottom: 0;left: 50%;z-index: -1;}#sk-container-id-2 div.sk-parallel-item {display: flex;flex-direction: column;z-index: 1;position: relative;background-color: white;}#sk-container-id-2 div.sk-parallel-item:first-child::after {align-self: flex-end;width: 50%;}#sk-container-id-2 div.sk-parallel-item:last-child::after {align-self: flex-start;width: 50%;}#sk-container-id-2 div.sk-parallel-item:only-child::after {width: 0;}#sk-container-id-2 div.sk-dashed-wrapped {border: 1px dashed gray;margin: 0 0.4em 0.5em 0.4em;box-sizing: border-box;padding-bottom: 0.4em;background-color: white;}#sk-container-id-2 div.sk-label label {font-family: monospace;font-weight: bold;display: inline-block;line-height: 1.2em;}#sk-container-id-2 div.sk-label-container {text-align: center;}#sk-container-id-2 div.sk-container {/* jupyter's `normalize.less` sets `[hidden] { display: none; }` but bootstrap.min.css set `[hidden] { display: none !important; }` so we also need the `!important` here to be able to override the default hidden behavior on the sphinx rendered scikit-learn.org. See: https://github.com/scikit-learn/scikit-learn/issues/21755 */display: inline-block !important;position: relative;}#sk-container-id-2 div.sk-text-repr-fallback {display: none;}</style><div id=\"sk-container-id-2\" class=\"sk-top-container\"><div class=\"sk-text-repr-fallback\"><pre>BalancedRandomForestClassifier(class_weight=&#x27;balanced&#x27;, max_depth=5,\n",
       "                               random_state=1)</pre><b>In a Jupyter environment, please rerun this cell to show the HTML representation or trust the notebook. <br />On GitHub, the HTML representation is unable to render, please try loading this page with nbviewer.org.</b></div><div class=\"sk-container\" hidden><div class=\"sk-item\"><div class=\"sk-estimator sk-toggleable\"><input class=\"sk-toggleable__control sk-hidden--visually\" id=\"sk-estimator-id-2\" type=\"checkbox\" checked><label for=\"sk-estimator-id-2\" class=\"sk-toggleable__label sk-toggleable__label-arrow\">BalancedRandomForestClassifier</label><div class=\"sk-toggleable__content\"><pre>BalancedRandomForestClassifier(class_weight=&#x27;balanced&#x27;, max_depth=5,\n",
       "                               random_state=1)</pre></div></div></div></div></div>"
      ],
      "text/plain": [
       "BalancedRandomForestClassifier(class_weight='balanced', max_depth=5,\n",
       "                               random_state=1)"
      ]
     },
     "execution_count": 21,
     "metadata": {},
     "output_type": "execute_result"
    }
   ],
   "source": [
    "my_model = BalancedRandomForestClassifier(n_estimators=100, max_depth=5, class_weight= \"balanced\", random_state=1)\n",
    "my_model.fit(X_train, y_train)"
   ]
  },
  {
   "cell_type": "code",
   "execution_count": 22,
   "metadata": {},
   "outputs": [
    {
     "data": {
      "text/plain": [
       "['my_model.pkl']"
      ]
     },
     "execution_count": 22,
     "metadata": {},
     "output_type": "execute_result"
    }
   ],
   "source": [
    "joblib.dump(my_model, 'my_model.pkl')"
   ]
  },
  {
   "cell_type": "code",
   "execution_count": 23,
   "metadata": {},
   "outputs": [],
   "source": [
    "y_pred = my_model.predict(X_test)"
   ]
  },
  {
   "cell_type": "code",
   "execution_count": 24,
   "metadata": {},
   "outputs": [
    {
     "name": "stdout",
     "output_type": "stream",
     "text": [
      "Accuracy my_model: 0.5355501486888348\n",
      "Precision my_model: 0.24113475177304963\n",
      "Recall my_model: 0.9890909090909091\n",
      "F1-score my_model: 0.3877405559515324\n",
      "AUC-ROC my_model: 0.9158913363549757\n",
      "Matriz de Confusión my_model:\n",
      "[[1437 1712]\n",
      " [   6  544]]\n"
     ]
    }
   ],
   "source": [
    "accuracy = accuracy_score(y_test, y_pred)\n",
    "precision = precision_score(y_test, y_pred)\n",
    "recall = recall_score(y_test, y_pred)\n",
    "f1 = f1_score(y_test, y_pred)\n",
    "roc_auc = roc_auc_score(y_test, my_model.predict_proba(X_test)[:, 1])\n",
    "conf_matrix = confusion_matrix(y_test, y_pred)\n",
    "\n",
    "print(\"Accuracy my_model:\", accuracy)\n",
    "print(\"Precision my_model:\", precision)\n",
    "print(\"Recall my_model:\", recall)\n",
    "print(\"F1-score my_model:\", f1)\n",
    "print(\"AUC-ROC my_model:\", roc_auc)\n",
    "print(\"Matriz de Confusión my_model:\")\n",
    "print(conf_matrix)"
   ]
  },
  {
   "cell_type": "markdown",
   "metadata": {},
   "source": [
    "## Trazabilidad  (Incluirla en la fase 4)"
   ]
  }
 ],
 "metadata": {
  "kernelspec": {
   "display_name": "modeloml",
   "language": "python",
   "name": "python3"
  },
  "language_info": {
   "codemirror_mode": {
    "name": "ipython",
    "version": 3
   },
   "file_extension": ".py",
   "mimetype": "text/x-python",
   "name": "python",
   "nbconvert_exporter": "python",
   "pygments_lexer": "ipython3",
   "version": "3.9.18"
  },
  "orig_nbformat": 4
 },
 "nbformat": 4,
 "nbformat_minor": 2
}
