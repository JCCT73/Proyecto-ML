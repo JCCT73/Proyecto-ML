{
 "cells": [
  {
   "cell_type": "markdown",
   "metadata": {},
   "source": [
    "# PROYECTO Machine Learning. "
   ]
  },
  {
   "cell_type": "markdown",
   "metadata": {},
   "source": [
    "### 1) ¿Qué problema o necesidad vamos a resolver? ¿Podemos solucionarlo con ML?\n",
    "\n",
    "* El problema o necesidad que podemos resolver con un proyecto de machine learning utilizando el conjunto de datos \"Online Shoppers Purchasing Intention\" es comprender y predecir la intención de compra de los usuarios en línea. \n",
    "* Puede ser relevante para las empresas de comercio electrónico y sitios web que desean mejorar la experiencia del usuario y aumentar las conversiones.\n",
    "* Algunas de las casuísticas que podemos abordar serían: \n",
    "\n",
    "#### Optimización de la Experiencia del Usuario: \n",
    "* Al comprender la intención de compra de los usuarios mientras navegan por un sitio web de comercio electrónico, podemos personalizar la experiencia del usuario. \n",
    "* Por ejemplo, mostrar productos relacionados o ofrecer descuentos a usuarios que muestren una alta intención de compra.\n",
    "\n",
    "#### Reducción de Carritos Abandonados: \n",
    "* Uno de los problemas comunes en el comercio electrónico es que los usuarios agregan productos a su carrito pero no finalizan la compra. \n",
    "* Con modelos de Machine Learning, podemos identificar patrones que indiquen cuándo es más probable que los usuarios abandonen sus carritos y tomar medidas para retenerlos, como enviar recordatorios o incentivos.\n",
    "* Podremos construir un modelo que se centre en predecir cuándo un usuario está a punto de abandonar su carrito de compras. \n",
    "* Podríamos incluir la identificación de patrones de comportamiento que indican indecisión o distracción.\n",
    "\n",
    "#### Segmentación de Usuarios: \n",
    "* Podemos utilizar el Aprendizaje Automático para segmentar a los usuarios en función de su intención de compra. \n",
    "* Podríamos ayudar a dirigir estrategias de marketing específicas a grupos de usuarios con diferentes comportamientos de compra.\n",
    "\n",
    "#### Predicción de Ventas: \n",
    "* Un modelo de Machine Learning puede ayudar a predecir las ventas futuras en función de la intención de compra de los usuarios. \n",
    "* Puede ser útil para la gestión de inventario y la planificación de recursos.\n",
    "\n",
    "#### Detección de Fraude: \n",
    "* Detectar posibles fraudes en las transacciones en línea. \n",
    "* Al analizar el comportamiento de compra de los usuarios, podemos identificar patrones sospechosos y tomar medidas preventivas.\n",
    "\n",
    "Estos modelos pueden proporcionar información valiosa para tomar decisiones comerciales informadas y mejorar la eficiencia de las estrategias de marketing y ventas."
   ]
  },
  {
   "cell_type": "markdown",
   "metadata": {},
   "source": [
    "### 2) ¿Qué solución aporta tu modelo de ML?\n",
    "\n",
    "* La solución que aportaría mi modelo de Machine Learning es la capacidad de tomar decisiones más informadas y automatizadas basadas en los datos, para mejorar la experiencia del cliente, aumentar las conversiones y optimizar la operación del negocio en línea. \n",
    "* Esto se traduciría en un aumento en las ventas, una mejor retención de clientes y una mayor eficiencia operativa, lo que beneficiaría significativamente a una empresa de comercio electrónico."
   ]
  },
  {
   "cell_type": "markdown",
   "metadata": {},
   "source": [
    "### 3) ¿Qué modelos has probado? Procedimiento del Proyecto\n",
    "\n",
    "Paso 1: Comprender el conjunto de datos\n",
    "* Comprender a fondo el conjunto de datos. \n",
    "* Investigar la documentación del conjunto de datos para entender las características, las etiquetas, etc.\n",
    "\n",
    "Paso 2: Preprocesar los datos\n",
    "* Manejar valores faltantes.\n",
    "* Codificar variables categóricas.\n",
    "* Normalizar o estandarizar características numéricas.\n",
    "* Dividir los datos en conjuntos de entrenamiento, validación y prueba.\n",
    "\n",
    "Paso 3: Análisis exploratorio de datos (EDA)\n",
    "* Realizar un EDA para entender mejor los datos. \n",
    "* Incluir la creación de visualizaciones\n",
    "* Estadísticas descriptivas para obtener información sobre las relaciones entre las características y la variable dependiente (\"Revenue\").\n",
    "* Tipo de Distribución de cada variable (Distribución normal o no)\n",
    "\n",
    "Paso 4: Selección de características (si es necesario)\n",
    "* Mantenemos la totalidad de las Caracteristicas\n",
    "\n",
    "Paso 5: Dividir los datos\n",
    "* Dividir los datos en conjuntos de entrenamiento y prueba. \n",
    "* Entrenar, ajustar hiperparámetros y evaluar el modelo de manera adecuada.\n",
    "\n",
    "Paso 6: Selección de algoritmo\n",
    "* Elegir un algoritmo de machine learning adecuado. \n",
    "* Se han probado 8 algoritmos: 4 Robustos Ensambladores:  Random Forest Classifier, Gradient Boosting Classifier, Ada Boost Classifier, BalancedRandomForest, y otros algoritmos de clasificación: Naive Bayes Gaussian NB,  Regresión Logística, Support Vector Machines (SVM), y KNN\n",
    "\n",
    "Paso 7: Entrenamiento del modelo\n",
    "* Entrenar el modelo en el conjunto de entrenamiento.\n",
    "* Ajustar los hiperparámetros si es necesario. \n",
    "* Utilizar métricas de evaluación adecuadas, como precisión, recall, F1-score, y área bajo la curva ROC, para medir el rendimiento del modelo.\n",
    "\n",
    "Paso 8: Evaluación del modelo\n",
    "* Evaluar el modelo en el conjunto de validación para asegurarte de que esté generalizando bien. \n",
    "* Realizar ajustes en el modelo según sea necesario.\n",
    "\n",
    "Paso 9: Prueba del modelo\n",
    "* Probar el modelo en el conjunto de prueba para obtener una evaluación imparcial de su rendimiento.\n",
    "\n",
    "Paso 10: Interpretación de resultados\n",
    "* Interpretar los resultados del modelo para entender qué características son más importantes para la intención de compra en línea. \n",
    "* Proporcionar información valiosa para la toma de decisiones comerciales. \n",
    "* Documentar todo el proceso y comunicar los resultados.\n",
    "\n",
    "* Este proyecto permitirá aplicar conceptos de Machine Learning y análisis de datos para comprender mejor el comportamiento de los compradores en línea y desarrollar un modelo que pueda predecir la intención de compra."
   ]
  },
  {
   "cell_type": "markdown",
   "metadata": {},
   "source": [
    "Marcos: Será interesante observar y agrupar todos los pasos del usuarios antes de la compra, diseñar un journey y detectar como patrón para el modelo. Ya me contarás..."
   ]
  },
  {
   "cell_type": "markdown",
   "metadata": {},
   "source": [
    "# Abordaremos la predicción de compra de nuevos usuarios"
   ]
  },
  {
   "cell_type": "code",
   "execution_count": 146,
   "metadata": {},
   "outputs": [],
   "source": [
    "import pandas as pd\n",
    "import numpy as np\n",
    "import joblib\n",
    "import pickle\n",
    "import json\n",
    "from itertools import product\n",
    "import mlflow\n",
    "import mlflow.sklearn\n",
    "import warnings\n",
    "warnings.filterwarnings('ignore')"
   ]
  },
  {
   "cell_type": "code",
   "execution_count": null,
   "metadata": {},
   "outputs": [],
   "source": [
    "import statsmodels.api as sm\n",
    "import scipy.stats as st\n",
    "from scipy.stats import shapiro, mannwhitneyu, chi2_contingency"
   ]
  },
  {
   "cell_type": "code",
   "execution_count": 127,
   "metadata": {},
   "outputs": [],
   "source": [
    "import matplotlib.pyplot as plt\n",
    "import seaborn as snb\n",
    "from mlxtend.plotting import plot_decision_regions"
   ]
  },
  {
   "cell_type": "code",
   "execution_count": null,
   "metadata": {},
   "outputs": [],
   "source": [
    "from sklearn import metrics"
   ]
  },
  {
   "cell_type": "code",
   "execution_count": 128,
   "metadata": {},
   "outputs": [],
   "source": [
    "from sklearn.preprocessing import LabelEncoder\n",
    "from sklearn.preprocessing import StandardScaler\n",
    "from sklearn.preprocessing import power_transform\n",
    "from sklearn.preprocessing import maxabs_scale"
   ]
  },
  {
   "cell_type": "code",
   "execution_count": 129,
   "metadata": {},
   "outputs": [],
   "source": [
    "from imblearn.under_sampling import NearMiss\n",
    "from imblearn.over_sampling import RandomOverSampler\n",
    "from imblearn.combine import SMOTETomek\n",
    "from imblearn.ensemble import BalancedBaggingClassifier"
   ]
  },
  {
   "cell_type": "code",
   "execution_count": 130,
   "metadata": {},
   "outputs": [],
   "source": [
    "from sklearn.model_selection import train_test_split\n",
    "from sklearn.model_selection import GridSearchCV\n",
    "from sklearn.model_selection import RandomizedSearchCV\n",
    "from sklearn.model_selection import cross_val_score\n",
    "from sklearn.model_selection import cross_validate"
   ]
  },
  {
   "cell_type": "code",
   "execution_count": 131,
   "metadata": {},
   "outputs": [],
   "source": [
    "from sklearn.feature_extraction.text import TfidfVectorizer\n",
    "from sklearn.feature_extraction.text import CountVectorizer"
   ]
  },
  {
   "cell_type": "code",
   "execution_count": 132,
   "metadata": {},
   "outputs": [],
   "source": [
    "from sklearn.naive_bayes import GaussianNB\n",
    "from sklearn.naive_bayes import BernoulliNB\n",
    "from sklearn.naive_bayes import MultinomialNB\n",
    "from sklearn.linear_model import LogisticRegression\n",
    "from sklearn.linear_model import Ridge\n",
    "from sklearn.linear_model import Lasso\n",
    "from sklearn.linear_model import ElasticNet\n",
    "from sklearn.neighbors import KNeighborsClassifier\n",
    "from sklearn.svm import SVC\n",
    "from sklearn.svm import SVR\n",
    "from sklearn.tree import DecisionTreeClassifier\n",
    "from sklearn.tree import DecisionTreeRegressor\n",
    "from sklearn.tree import export_graphviz\n",
    "from sklearn.ensemble import RandomForestClassifier\n",
    "from sklearn.ensemble import RandomForestRegressor\n",
    "from sklearn.ensemble import BaggingClassifier\n",
    "from sklearn.ensemble import BaggingRegressor\n",
    "from sklearn.ensemble import AdaBoostClassifier\n",
    "from sklearn.ensemble import AdaBoostRegressor\n",
    "from sklearn.ensemble import GradientBoostingClassifier\n",
    "from sklearn.ensemble import GradientBoostingRegressor\n",
    "from sklearn.cluster import KMeans\n",
    "from sklearn.cluster import DBSCAN\n",
    "from sklearn.mixture import GaussianMixture\n",
    "from sklearn.decomposition import PCA"
   ]
  },
  {
   "cell_type": "code",
   "execution_count": 142,
   "metadata": {},
   "outputs": [],
   "source": [
    "from hdbscan import HDBSCAN"
   ]
  },
  {
   "cell_type": "code",
   "execution_count": 133,
   "metadata": {},
   "outputs": [],
   "source": [
    "from sklearn.metrics import classification_report\n",
    "from sklearn.metrics import mean_squared_error\n",
    "from sklearn.metrics import accuracy_score\n",
    "from sklearn.metrics import precision_score\n",
    "from sklearn.metrics import recall_score\n",
    "from sklearn.metrics import f1_score\n",
    "from sklearn.metrics import roc_auc_score \n",
    "from sklearn.metrics import confusion_matrix\n",
    "from sklearn.metrics import silhouette_score\n",
    "from sklearn.metrics import homogeneity_completeness_v_measure\n",
    "from sklearn.metrics import mean_absolute_percentage_error\n",
    "from sklearn.metrics import mean_absolute_error"
   ]
  },
  {
   "cell_type": "code",
   "execution_count": 83,
   "metadata": {},
   "outputs": [
    {
     "data": {
      "text/html": [
       "<div>\n",
       "<style scoped>\n",
       "    .dataframe tbody tr th:only-of-type {\n",
       "        vertical-align: middle;\n",
       "    }\n",
       "\n",
       "    .dataframe tbody tr th {\n",
       "        vertical-align: top;\n",
       "    }\n",
       "\n",
       "    .dataframe thead th {\n",
       "        text-align: right;\n",
       "    }\n",
       "</style>\n",
       "<table border=\"1\" class=\"dataframe\">\n",
       "  <thead>\n",
       "    <tr style=\"text-align: right;\">\n",
       "      <th></th>\n",
       "      <th>Administrative</th>\n",
       "      <th>Administrative_Duration</th>\n",
       "      <th>Informational</th>\n",
       "      <th>Informational_Duration</th>\n",
       "      <th>ProductRelated</th>\n",
       "      <th>ProductRelated_Duration</th>\n",
       "      <th>BounceRates</th>\n",
       "      <th>ExitRates</th>\n",
       "      <th>PageValues</th>\n",
       "      <th>SpecialDay</th>\n",
       "      <th>Month</th>\n",
       "      <th>OperatingSystems</th>\n",
       "      <th>Browser</th>\n",
       "      <th>Region</th>\n",
       "      <th>TrafficType</th>\n",
       "      <th>VisitorType</th>\n",
       "      <th>Weekend</th>\n",
       "      <th>Revenue</th>\n",
       "    </tr>\n",
       "  </thead>\n",
       "  <tbody>\n",
       "    <tr>\n",
       "      <th>0</th>\n",
       "      <td>0</td>\n",
       "      <td>0.0</td>\n",
       "      <td>0</td>\n",
       "      <td>0.0</td>\n",
       "      <td>1</td>\n",
       "      <td>0.000000</td>\n",
       "      <td>0.20</td>\n",
       "      <td>0.20</td>\n",
       "      <td>0.0</td>\n",
       "      <td>0.0</td>\n",
       "      <td>Feb</td>\n",
       "      <td>1</td>\n",
       "      <td>1</td>\n",
       "      <td>1</td>\n",
       "      <td>1</td>\n",
       "      <td>Returning_Visitor</td>\n",
       "      <td>False</td>\n",
       "      <td>False</td>\n",
       "    </tr>\n",
       "    <tr>\n",
       "      <th>1</th>\n",
       "      <td>0</td>\n",
       "      <td>0.0</td>\n",
       "      <td>0</td>\n",
       "      <td>0.0</td>\n",
       "      <td>2</td>\n",
       "      <td>64.000000</td>\n",
       "      <td>0.00</td>\n",
       "      <td>0.10</td>\n",
       "      <td>0.0</td>\n",
       "      <td>0.0</td>\n",
       "      <td>Feb</td>\n",
       "      <td>2</td>\n",
       "      <td>2</td>\n",
       "      <td>1</td>\n",
       "      <td>2</td>\n",
       "      <td>Returning_Visitor</td>\n",
       "      <td>False</td>\n",
       "      <td>False</td>\n",
       "    </tr>\n",
       "    <tr>\n",
       "      <th>2</th>\n",
       "      <td>0</td>\n",
       "      <td>0.0</td>\n",
       "      <td>0</td>\n",
       "      <td>0.0</td>\n",
       "      <td>1</td>\n",
       "      <td>0.000000</td>\n",
       "      <td>0.20</td>\n",
       "      <td>0.20</td>\n",
       "      <td>0.0</td>\n",
       "      <td>0.0</td>\n",
       "      <td>Feb</td>\n",
       "      <td>4</td>\n",
       "      <td>1</td>\n",
       "      <td>9</td>\n",
       "      <td>3</td>\n",
       "      <td>Returning_Visitor</td>\n",
       "      <td>False</td>\n",
       "      <td>False</td>\n",
       "    </tr>\n",
       "    <tr>\n",
       "      <th>3</th>\n",
       "      <td>0</td>\n",
       "      <td>0.0</td>\n",
       "      <td>0</td>\n",
       "      <td>0.0</td>\n",
       "      <td>2</td>\n",
       "      <td>2.666667</td>\n",
       "      <td>0.05</td>\n",
       "      <td>0.14</td>\n",
       "      <td>0.0</td>\n",
       "      <td>0.0</td>\n",
       "      <td>Feb</td>\n",
       "      <td>3</td>\n",
       "      <td>2</td>\n",
       "      <td>2</td>\n",
       "      <td>4</td>\n",
       "      <td>Returning_Visitor</td>\n",
       "      <td>False</td>\n",
       "      <td>False</td>\n",
       "    </tr>\n",
       "    <tr>\n",
       "      <th>4</th>\n",
       "      <td>0</td>\n",
       "      <td>0.0</td>\n",
       "      <td>0</td>\n",
       "      <td>0.0</td>\n",
       "      <td>10</td>\n",
       "      <td>627.500000</td>\n",
       "      <td>0.02</td>\n",
       "      <td>0.05</td>\n",
       "      <td>0.0</td>\n",
       "      <td>0.0</td>\n",
       "      <td>Feb</td>\n",
       "      <td>3</td>\n",
       "      <td>3</td>\n",
       "      <td>1</td>\n",
       "      <td>4</td>\n",
       "      <td>Returning_Visitor</td>\n",
       "      <td>True</td>\n",
       "      <td>False</td>\n",
       "    </tr>\n",
       "  </tbody>\n",
       "</table>\n",
       "</div>"
      ],
      "text/plain": [
       "   Administrative  Administrative_Duration  Informational  \\\n",
       "0               0                      0.0              0   \n",
       "1               0                      0.0              0   \n",
       "2               0                      0.0              0   \n",
       "3               0                      0.0              0   \n",
       "4               0                      0.0              0   \n",
       "\n",
       "   Informational_Duration  ProductRelated  ProductRelated_Duration  \\\n",
       "0                     0.0               1                 0.000000   \n",
       "1                     0.0               2                64.000000   \n",
       "2                     0.0               1                 0.000000   \n",
       "3                     0.0               2                 2.666667   \n",
       "4                     0.0              10               627.500000   \n",
       "\n",
       "   BounceRates  ExitRates  PageValues  SpecialDay Month  OperatingSystems  \\\n",
       "0         0.20       0.20         0.0         0.0   Feb                 1   \n",
       "1         0.00       0.10         0.0         0.0   Feb                 2   \n",
       "2         0.20       0.20         0.0         0.0   Feb                 4   \n",
       "3         0.05       0.14         0.0         0.0   Feb                 3   \n",
       "4         0.02       0.05         0.0         0.0   Feb                 3   \n",
       "\n",
       "   Browser  Region  TrafficType        VisitorType  Weekend  Revenue  \n",
       "0        1       1            1  Returning_Visitor    False    False  \n",
       "1        2       1            2  Returning_Visitor    False    False  \n",
       "2        1       9            3  Returning_Visitor    False    False  \n",
       "3        2       2            4  Returning_Visitor    False    False  \n",
       "4        3       1            4  Returning_Visitor     True    False  "
      ]
     },
     "execution_count": 83,
     "metadata": {},
     "output_type": "execute_result"
    }
   ],
   "source": [
    "df = pd.read_csv( r\"C:\\Users\\axa\\THE BRIDGE_23\\SEMANA 24. CORE. PROYECTO ML\\81. PROYECTO ML\\src\\data\\raw\\online_shoppers_intention.csv\", sep=\",\")\n",
    "df.head()"
   ]
  },
  {
   "cell_type": "code",
   "execution_count": 84,
   "metadata": {},
   "outputs": [
    {
     "name": "stdout",
     "output_type": "stream",
     "text": [
      "<class 'pandas.core.frame.DataFrame'>\n",
      "RangeIndex: 12330 entries, 0 to 12329\n",
      "Data columns (total 18 columns):\n",
      " #   Column                   Non-Null Count  Dtype  \n",
      "---  ------                   --------------  -----  \n",
      " 0   Administrative           12330 non-null  int64  \n",
      " 1   Administrative_Duration  12330 non-null  float64\n",
      " 2   Informational            12330 non-null  int64  \n",
      " 3   Informational_Duration   12330 non-null  float64\n",
      " 4   ProductRelated           12330 non-null  int64  \n",
      " 5   ProductRelated_Duration  12330 non-null  float64\n",
      " 6   BounceRates              12330 non-null  float64\n",
      " 7   ExitRates                12330 non-null  float64\n",
      " 8   PageValues               12330 non-null  float64\n",
      " 9   SpecialDay               12330 non-null  float64\n",
      " 10  Month                    12330 non-null  object \n",
      " 11  OperatingSystems         12330 non-null  int64  \n",
      " 12  Browser                  12330 non-null  int64  \n",
      " 13  Region                   12330 non-null  int64  \n",
      " 14  TrafficType              12330 non-null  int64  \n",
      " 15  VisitorType              12330 non-null  object \n",
      " 16  Weekend                  12330 non-null  bool   \n",
      " 17  Revenue                  12330 non-null  bool   \n",
      "dtypes: bool(2), float64(7), int64(7), object(2)\n",
      "memory usage: 1.5+ MB\n"
     ]
    }
   ],
   "source": [
    "df.info()"
   ]
  },
  {
   "cell_type": "markdown",
   "metadata": {},
   "source": [
    " * Recopilar datos relevantes: \n",
    " * Información sobre el comportamiento del usuario: Tiempo que pasa en el sitio web, número de productos en el carrito, historial de navegación y compras anteriores, y cualquier otra característica relevante...\n",
    "* Mis datos tienen sólo información sobre: Nº de paginas Administrative, Administrative_Duration, Nº de paginas Informational, Informational_Duration, Nº de paginas ProductRelated, ProductRelated_Duration, BounceRates, ExitRates, PageValues, SpecialDay, Month, OperatingSystems, Browser, Region, TrafficType, VisitorType, Weekend, Revenue. "
   ]
  },
  {
   "cell_type": "markdown",
   "metadata": {},
   "source": [
    "* Selección de Características Relevantes: \n",
    "* Algunas de las columnas en tu conjunto de datos pueden no ser relevantes para predecir el abandono del carrito. \n",
    "* Por ejemplo, las columnas \"Administrative\" y \"Administrative_Duration\" pueden no ser tan importantes como otras. \n",
    "* Evaluar cuáles características son más relevantes para el problema\n",
    "* Considerar la posibilidad de eliminar o seleccionar un subconjunto de características."
   ]
  },
  {
   "cell_type": "markdown",
   "metadata": {},
   "source": [
    "* Evaluación de la relevancia de las características y la selección de un subconjunto de características:\n",
    "* Análisis de Correlación: Calcula la matriz de correlación entre las características numéricas y la variable objetivo (\"Revenue\"). \n",
    "* Las características con una correlación más alta (positiva o negativa) son potencialmente más relevantes."
   ]
  },
  {
   "cell_type": "markdown",
   "metadata": {},
   "source": [
    "* Importancia de Características en Modelos de Machine Learning: \n",
    "* Entrenar un modelo inicial (un bosque aleatorio) utilizando todas las características.\n",
    "* Examinar la importancia de cada característica según el modelo. \n",
    "* Las características con una importancia más alta son consideradas más relevantes."
   ]
  },
  {
   "cell_type": "markdown",
   "metadata": {},
   "source": [
    "* Pruebas Estadísticas: Análisis de varianza (ANOVA) o la prueba t de Student, para evaluar si existe una diferencia significativa en la variable objetivo entre diferentes categorías de una característica categórica. \n",
    "* Esto ayudará a determinar la relevancia de las características categóricas \"Month\" y \"VisitorType\".\n",
    "* Realizado en el EDA, si hay diferencias significativas entre REVENUE y MONTH"
   ]
  },
  {
   "cell_type": "markdown",
   "metadata": {},
   "source": [
    "* Selección Recursiva de Características (RFE): \n",
    "* Usar Métodos de selección de características como Recursive Feature Elimination (RFE) junto con un modelo (regresión logística) para identificar iterativamente las características más importantes. \n",
    "* El RFE elimina características menos relevantes en cada iteración."
   ]
  },
  {
   "cell_type": "markdown",
   "metadata": {},
   "source": [
    "* Análisis de Componentes Principales (PCA): \n",
    "* Si existen muchas características, podría valorar reducir la dimensionalidad.\n",
    "* Realizar un análisis de componentes principales (PCA) para proyectar las características en un espacio de menor dimensión. \n",
    "* Esto puede ayudar a identificar las dimensiones (componentes) más informativas."
   ]
  },
  {
   "cell_type": "markdown",
   "metadata": {},
   "source": [
    "* Visualización de Datos: \n",
    "* Utilizar técnicas de visualización, como gráficos de dispersión (scatter plots)\n",
    "* Gráficos de barras, para explorar cómo las características se relacionan con la variable objetivo. \n",
    "* Visualizar los datos puede revelar patrones y relaciones."
   ]
  },
  {
   "cell_type": "markdown",
   "metadata": {},
   "source": [
    "* Ingeniería de Características: \n",
    "* Crear nuevas características o transformar las existentes de manera que sean más informativas para analizar el problema. \n",
    "* Por ejemplo, crear características de agregación o características de interacción."
   ]
  },
  {
   "cell_type": "markdown",
   "metadata": {},
   "source": [
    "* Validación Cruzada: \n",
    "* Realizar validación cruzada con diferentes subconjuntos de características para evaluar cómo afecta la eliminación o inclusión de características en el rendimiento del modelo."
   ]
  },
  {
   "cell_type": "code",
   "execution_count": 85,
   "metadata": {},
   "outputs": [],
   "source": [
    "# Transformar la columna \"Month\" en variables Dummies (sólo hay 10 meses, por lo que no existe multicolinealidad)\n",
    "df_transformado = pd.get_dummies(df, columns=['Month'], prefix='Month')"
   ]
  },
  {
   "cell_type": "code",
   "execution_count": 86,
   "metadata": {},
   "outputs": [],
   "source": [
    "# Transformar la columna \"VisitorType\" en variables Dummies y eliminar la primera columna para evitar Multicolinealidad\n",
    "df_transformado = pd.get_dummies(df_transformado, columns=['VisitorType'], prefix='VisitorType', drop_first=True)"
   ]
  },
  {
   "cell_type": "code",
   "execution_count": 87,
   "metadata": {},
   "outputs": [
    {
     "name": "stdout",
     "output_type": "stream",
     "text": [
      "<class 'pandas.core.frame.DataFrame'>\n",
      "RangeIndex: 12330 entries, 0 to 12329\n",
      "Data columns (total 28 columns):\n",
      " #   Column                         Non-Null Count  Dtype  \n",
      "---  ------                         --------------  -----  \n",
      " 0   Administrative                 12330 non-null  int64  \n",
      " 1   Administrative_Duration        12330 non-null  float64\n",
      " 2   Informational                  12330 non-null  int64  \n",
      " 3   Informational_Duration         12330 non-null  float64\n",
      " 4   ProductRelated                 12330 non-null  int64  \n",
      " 5   ProductRelated_Duration        12330 non-null  float64\n",
      " 6   BounceRates                    12330 non-null  float64\n",
      " 7   ExitRates                      12330 non-null  float64\n",
      " 8   PageValues                     12330 non-null  float64\n",
      " 9   SpecialDay                     12330 non-null  float64\n",
      " 10  OperatingSystems               12330 non-null  int64  \n",
      " 11  Browser                        12330 non-null  int64  \n",
      " 12  Region                         12330 non-null  int64  \n",
      " 13  TrafficType                    12330 non-null  int64  \n",
      " 14  Weekend                        12330 non-null  bool   \n",
      " 15  Revenue                        12330 non-null  bool   \n",
      " 16  Month_Aug                      12330 non-null  bool   \n",
      " 17  Month_Dec                      12330 non-null  bool   \n",
      " 18  Month_Feb                      12330 non-null  bool   \n",
      " 19  Month_Jul                      12330 non-null  bool   \n",
      " 20  Month_June                     12330 non-null  bool   \n",
      " 21  Month_Mar                      12330 non-null  bool   \n",
      " 22  Month_May                      12330 non-null  bool   \n",
      " 23  Month_Nov                      12330 non-null  bool   \n",
      " 24  Month_Oct                      12330 non-null  bool   \n",
      " 25  Month_Sep                      12330 non-null  bool   \n",
      " 26  VisitorType_Other              12330 non-null  bool   \n",
      " 27  VisitorType_Returning_Visitor  12330 non-null  bool   \n",
      "dtypes: bool(14), float64(7), int64(7)\n",
      "memory usage: 1.5 MB\n"
     ]
    }
   ],
   "source": [
    "df_transformado.info()"
   ]
  },
  {
   "cell_type": "markdown",
   "metadata": {},
   "source": [
    "La variable \"Revenue\" y las variables independientes, NO SIGUEN UNA DISTRIBUCION NORMAL, (basado en el EDA)"
   ]
  },
  {
   "cell_type": "markdown",
   "metadata": {},
   "source": [
    "* La Normalización o Estandarización depende del algoritmo de ML a utilizar y del rango de valores de las  características. \n",
    "* Normalización: \n",
    "* * Consiste en escalar las características al rango [0, 1]. \n",
    "* * Esto puede ser útil si tengo características con diferentes unidades y deseo que todas estén en la misma escala.\n",
    "\n",
    "* Estandarización: \n",
    "* * Implica transformar las características para que tengan una media de 0 y una desviación estándar de 1. \n",
    "* * Esto es útil cuando deseo que las características tengan una distribución más cercana a la normal (distribución estándar) y cuando los valores atípicos pueden ser problemáticos.\n",
    "\n",
    "* Algoritmos Sensibles a la Escala: \n",
    "* * La regresión logística, el análisis de discriminante lineal y las máquinas de soporte vectorial (SVM), pueden beneficiarse de la estandarización, ya que asumen que las características están en la misma escala. \n",
    "* Los algoritmos que utilizan distancias euclidianas, como k-NN, también se benefician de la estandarización.\n",
    "\n",
    "* Algoritmos No Sensibles a la Escala: \n",
    "* * Los árboles de decisión y los bosques aleatorios, no son sensibles a la escala de las características y pueden funcionar bien sin estandarización o normalización. \n",
    "* * Las redes neuronales profundas también pueden beneficiarse de la estandarización, pero en muchos casos, los optimizadores como el descenso de gradiente pueden manejar características en diferentes escalas.\n",
    "\n",
    "* Distribución de las Características: \n",
    "* * Si las características siguen una distribución normal o se asemejan a ella, la estandarización puede ser una buena opción. \n",
    "* * Si las características no siguen una distribución normal, la normalización puede ser preferible para llevarlas al rango [0, 1]."
   ]
  },
  {
   "cell_type": "markdown",
   "metadata": {},
   "source": [
    "* Transformación de Datos: \n",
    "* * Si las características no siguen una distribución normal, podre aplicar transformaciones para que se asemejen más a una distribución normal. \n",
    "* * Las transformaciones comunes incluyen la transformación logarítmica o Box-Cox. \n",
    "* * Esto puede ayudar a mejorar el rendimiento de modelos que asumen una distribución normal, como la regresión logística.\n",
    "\n",
    "* Selección de Modelos: \n",
    "* * Si las características no siguen una distribución normal y utilizaría modelos que no asumen normalidad, (árboles de decisión o bosques aleatorios), no necesito preocuparme, estos modelos son menos sensibles a la distribución de características.\n",
    "\n",
    "* Estandarización: \n",
    "* * Si decido estandarizar las características numéricas, esto no transformará automáticamente los datos en una distribución normal. \n",
    "* * La estandarización ajustará las medias y las desviaciones estándar, pero no necesariamente cambiará la forma general de la distribución.\n",
    "\n",
    "* Validación Cruzada: \n",
    "* * Al realizar la validación cruzada para evaluar el rendimiento del modelo, verificar que las diferencias en la distribución de datos entre los pliegues no sean un problema. \n",
    "* * La estratificación y las técnicas de validación cruzada específicas pueden ayudar a abordar esto.\n",
    "\n",
    "* Enfoques Robustos: \n",
    "* * En algunos casos, podré utilizar modelos robustos que no asuman normalidad, como (SVM) con núcleos no lineales o modelos basados en árboles."
   ]
  },
  {
   "cell_type": "markdown",
   "metadata": {},
   "source": [
    "* Mis datos no siguen una distribución normal y tengo un conjunto de datos con 28 columnas, es más apropiado considerar la estandarización en lugar de la normalización. \n",
    "* La estandarización transformará las características de manera que tengan una media de 0 y una desviación estándar de 1, lo que puede ser beneficioso para muchos algoritmos de ML.\n",
    "* La estandarización es particularmente útil cuando trabajo con modelos que asumen que las características tienen una distribución normal o cuando deseo que las características tengan una escala común. \n",
    "* Algunos algoritmos, como la regresión logística y las máquinas de soporte vectorial (SVM), pueden beneficiarse especialmente de la estandarización."
   ]
  },
  {
   "cell_type": "code",
   "execution_count": 88,
   "metadata": {},
   "outputs": [],
   "source": [
    "caracteristicas_a_escalar = ['Administrative', 'Administrative_Duration', 'Informational', 'Informational_Duration',\n",
    "                            'ProductRelated', 'ProductRelated_Duration', 'BounceRates', 'ExitRates', 'PageValues', \n",
    "                            'SpecialDay', 'OperatingSystems','Browser', 'Region', 'TrafficType']"
   ]
  },
  {
   "cell_type": "code",
   "execution_count": 89,
   "metadata": {},
   "outputs": [],
   "source": [
    "from sklearn.preprocessing import StandardScaler\n",
    "\n",
    "caracteristicas_a_escalar = ['Administrative', 'Administrative_Duration', 'Informational', 'Informational_Duration',\n",
    "                            'ProductRelated', 'ProductRelated_Duration', 'BounceRates', 'ExitRates', 'PageValues', 'SpecialDay',\n",
    "                            'OperatingSystems','Browser', 'Region', 'TrafficType']\n",
    "\n",
    "caracteristicas_numericas = df_transformado[caracteristicas_a_escalar]\n",
    "\n",
    "scaler = StandardScaler()\n",
    "\n",
    "escaladas = scaler.fit_transform(caracteristicas_numericas)\n",
    "\n",
    "df_transformado[caracteristicas_a_escalar] = escaladas"
   ]
  },
  {
   "cell_type": "code",
   "execution_count": 90,
   "metadata": {},
   "outputs": [
    {
     "data": {
      "text/html": [
       "<div>\n",
       "<style scoped>\n",
       "    .dataframe tbody tr th:only-of-type {\n",
       "        vertical-align: middle;\n",
       "    }\n",
       "\n",
       "    .dataframe tbody tr th {\n",
       "        vertical-align: top;\n",
       "    }\n",
       "\n",
       "    .dataframe thead th {\n",
       "        text-align: right;\n",
       "    }\n",
       "</style>\n",
       "<table border=\"1\" class=\"dataframe\">\n",
       "  <thead>\n",
       "    <tr style=\"text-align: right;\">\n",
       "      <th></th>\n",
       "      <th>Administrative</th>\n",
       "      <th>Administrative_Duration</th>\n",
       "      <th>Informational</th>\n",
       "      <th>Informational_Duration</th>\n",
       "      <th>ProductRelated</th>\n",
       "      <th>ProductRelated_Duration</th>\n",
       "      <th>BounceRates</th>\n",
       "      <th>ExitRates</th>\n",
       "      <th>PageValues</th>\n",
       "      <th>SpecialDay</th>\n",
       "      <th>...</th>\n",
       "      <th>Month_Feb</th>\n",
       "      <th>Month_Jul</th>\n",
       "      <th>Month_June</th>\n",
       "      <th>Month_Mar</th>\n",
       "      <th>Month_May</th>\n",
       "      <th>Month_Nov</th>\n",
       "      <th>Month_Oct</th>\n",
       "      <th>Month_Sep</th>\n",
       "      <th>VisitorType_Other</th>\n",
       "      <th>VisitorType_Returning_Visitor</th>\n",
       "    </tr>\n",
       "  </thead>\n",
       "  <tbody>\n",
       "    <tr>\n",
       "      <th>0</th>\n",
       "      <td>-0.696993</td>\n",
       "      <td>-0.457191</td>\n",
       "      <td>-0.396478</td>\n",
       "      <td>-0.244931</td>\n",
       "      <td>-0.691003</td>\n",
       "      <td>-0.624348</td>\n",
       "      <td>3.667189</td>\n",
       "      <td>3.229316</td>\n",
       "      <td>-0.317178</td>\n",
       "      <td>-0.308821</td>\n",
       "      <td>...</td>\n",
       "      <td>True</td>\n",
       "      <td>False</td>\n",
       "      <td>False</td>\n",
       "      <td>False</td>\n",
       "      <td>False</td>\n",
       "      <td>False</td>\n",
       "      <td>False</td>\n",
       "      <td>False</td>\n",
       "      <td>False</td>\n",
       "      <td>True</td>\n",
       "    </tr>\n",
       "    <tr>\n",
       "      <th>1</th>\n",
       "      <td>-0.696993</td>\n",
       "      <td>-0.457191</td>\n",
       "      <td>-0.396478</td>\n",
       "      <td>-0.244931</td>\n",
       "      <td>-0.668518</td>\n",
       "      <td>-0.590903</td>\n",
       "      <td>-0.457683</td>\n",
       "      <td>1.171473</td>\n",
       "      <td>-0.317178</td>\n",
       "      <td>-0.308821</td>\n",
       "      <td>...</td>\n",
       "      <td>True</td>\n",
       "      <td>False</td>\n",
       "      <td>False</td>\n",
       "      <td>False</td>\n",
       "      <td>False</td>\n",
       "      <td>False</td>\n",
       "      <td>False</td>\n",
       "      <td>False</td>\n",
       "      <td>False</td>\n",
       "      <td>True</td>\n",
       "    </tr>\n",
       "    <tr>\n",
       "      <th>2</th>\n",
       "      <td>-0.696993</td>\n",
       "      <td>-0.457191</td>\n",
       "      <td>-0.396478</td>\n",
       "      <td>-0.244931</td>\n",
       "      <td>-0.691003</td>\n",
       "      <td>-0.624348</td>\n",
       "      <td>3.667189</td>\n",
       "      <td>3.229316</td>\n",
       "      <td>-0.317178</td>\n",
       "      <td>-0.308821</td>\n",
       "      <td>...</td>\n",
       "      <td>True</td>\n",
       "      <td>False</td>\n",
       "      <td>False</td>\n",
       "      <td>False</td>\n",
       "      <td>False</td>\n",
       "      <td>False</td>\n",
       "      <td>False</td>\n",
       "      <td>False</td>\n",
       "      <td>False</td>\n",
       "      <td>True</td>\n",
       "    </tr>\n",
       "    <tr>\n",
       "      <th>3</th>\n",
       "      <td>-0.696993</td>\n",
       "      <td>-0.457191</td>\n",
       "      <td>-0.396478</td>\n",
       "      <td>-0.244931</td>\n",
       "      <td>-0.668518</td>\n",
       "      <td>-0.622954</td>\n",
       "      <td>0.573535</td>\n",
       "      <td>1.994610</td>\n",
       "      <td>-0.317178</td>\n",
       "      <td>-0.308821</td>\n",
       "      <td>...</td>\n",
       "      <td>True</td>\n",
       "      <td>False</td>\n",
       "      <td>False</td>\n",
       "      <td>False</td>\n",
       "      <td>False</td>\n",
       "      <td>False</td>\n",
       "      <td>False</td>\n",
       "      <td>False</td>\n",
       "      <td>False</td>\n",
       "      <td>True</td>\n",
       "    </tr>\n",
       "    <tr>\n",
       "      <th>4</th>\n",
       "      <td>-0.696993</td>\n",
       "      <td>-0.457191</td>\n",
       "      <td>-0.396478</td>\n",
       "      <td>-0.244931</td>\n",
       "      <td>-0.488636</td>\n",
       "      <td>-0.296430</td>\n",
       "      <td>-0.045196</td>\n",
       "      <td>0.142551</td>\n",
       "      <td>-0.317178</td>\n",
       "      <td>-0.308821</td>\n",
       "      <td>...</td>\n",
       "      <td>True</td>\n",
       "      <td>False</td>\n",
       "      <td>False</td>\n",
       "      <td>False</td>\n",
       "      <td>False</td>\n",
       "      <td>False</td>\n",
       "      <td>False</td>\n",
       "      <td>False</td>\n",
       "      <td>False</td>\n",
       "      <td>True</td>\n",
       "    </tr>\n",
       "  </tbody>\n",
       "</table>\n",
       "<p>5 rows × 28 columns</p>\n",
       "</div>"
      ],
      "text/plain": [
       "   Administrative  Administrative_Duration  Informational  \\\n",
       "0       -0.696993                -0.457191      -0.396478   \n",
       "1       -0.696993                -0.457191      -0.396478   \n",
       "2       -0.696993                -0.457191      -0.396478   \n",
       "3       -0.696993                -0.457191      -0.396478   \n",
       "4       -0.696993                -0.457191      -0.396478   \n",
       "\n",
       "   Informational_Duration  ProductRelated  ProductRelated_Duration  \\\n",
       "0               -0.244931       -0.691003                -0.624348   \n",
       "1               -0.244931       -0.668518                -0.590903   \n",
       "2               -0.244931       -0.691003                -0.624348   \n",
       "3               -0.244931       -0.668518                -0.622954   \n",
       "4               -0.244931       -0.488636                -0.296430   \n",
       "\n",
       "   BounceRates  ExitRates  PageValues  SpecialDay  ...  Month_Feb  Month_Jul  \\\n",
       "0     3.667189   3.229316   -0.317178   -0.308821  ...       True      False   \n",
       "1    -0.457683   1.171473   -0.317178   -0.308821  ...       True      False   \n",
       "2     3.667189   3.229316   -0.317178   -0.308821  ...       True      False   \n",
       "3     0.573535   1.994610   -0.317178   -0.308821  ...       True      False   \n",
       "4    -0.045196   0.142551   -0.317178   -0.308821  ...       True      False   \n",
       "\n",
       "   Month_June  Month_Mar  Month_May  Month_Nov  Month_Oct  Month_Sep  \\\n",
       "0       False      False      False      False      False      False   \n",
       "1       False      False      False      False      False      False   \n",
       "2       False      False      False      False      False      False   \n",
       "3       False      False      False      False      False      False   \n",
       "4       False      False      False      False      False      False   \n",
       "\n",
       "   VisitorType_Other  VisitorType_Returning_Visitor  \n",
       "0              False                           True  \n",
       "1              False                           True  \n",
       "2              False                           True  \n",
       "3              False                           True  \n",
       "4              False                           True  \n",
       "\n",
       "[5 rows x 28 columns]"
      ]
     },
     "execution_count": 90,
     "metadata": {},
     "output_type": "execute_result"
    }
   ],
   "source": [
    "df_transformado.head()"
   ]
  },
  {
   "cell_type": "code",
   "execution_count": 91,
   "metadata": {},
   "outputs": [
    {
     "name": "stdout",
     "output_type": "stream",
     "text": [
      "<class 'pandas.core.frame.DataFrame'>\n",
      "RangeIndex: 12330 entries, 0 to 12329\n",
      "Data columns (total 28 columns):\n",
      " #   Column                         Non-Null Count  Dtype  \n",
      "---  ------                         --------------  -----  \n",
      " 0   Administrative                 12330 non-null  float64\n",
      " 1   Administrative_Duration        12330 non-null  float64\n",
      " 2   Informational                  12330 non-null  float64\n",
      " 3   Informational_Duration         12330 non-null  float64\n",
      " 4   ProductRelated                 12330 non-null  float64\n",
      " 5   ProductRelated_Duration        12330 non-null  float64\n",
      " 6   BounceRates                    12330 non-null  float64\n",
      " 7   ExitRates                      12330 non-null  float64\n",
      " 8   PageValues                     12330 non-null  float64\n",
      " 9   SpecialDay                     12330 non-null  float64\n",
      " 10  OperatingSystems               12330 non-null  float64\n",
      " 11  Browser                        12330 non-null  float64\n",
      " 12  Region                         12330 non-null  float64\n",
      " 13  TrafficType                    12330 non-null  float64\n",
      " 14  Weekend                        12330 non-null  bool   \n",
      " 15  Revenue                        12330 non-null  bool   \n",
      " 16  Month_Aug                      12330 non-null  bool   \n",
      " 17  Month_Dec                      12330 non-null  bool   \n",
      " 18  Month_Feb                      12330 non-null  bool   \n",
      " 19  Month_Jul                      12330 non-null  bool   \n",
      " 20  Month_June                     12330 non-null  bool   \n",
      " 21  Month_Mar                      12330 non-null  bool   \n",
      " 22  Month_May                      12330 non-null  bool   \n",
      " 23  Month_Nov                      12330 non-null  bool   \n",
      " 24  Month_Oct                      12330 non-null  bool   \n",
      " 25  Month_Sep                      12330 non-null  bool   \n",
      " 26  VisitorType_Other              12330 non-null  bool   \n",
      " 27  VisitorType_Returning_Visitor  12330 non-null  bool   \n",
      "dtypes: bool(14), float64(14)\n",
      "memory usage: 1.5 MB\n"
     ]
    }
   ],
   "source": [
    "df_transformado.info()"
   ]
  },
  {
   "cell_type": "markdown",
   "metadata": {},
   "source": [
    "# Random Forrest"
   ]
  },
  {
   "cell_type": "markdown",
   "metadata": {},
   "source": [
    "* Entrenar un modelo inicial como un Bosque Aleatorio (Random Forest) utilizando todas las características.\n",
    "* Examinar la importancia de cada característica para saber cuáles son las características más relevantes.\n",
    "* Ajustar los hiperparámetros del modelo, como el número de árboles y la profundidad máxima del árbol, para obtener un modelo inicial sólido.\n",
    "* Evaluar la Importancia de las Características:\n",
    "* En el caso de un Bosque Aleatorio, puedo utilizar el atributo \"feature_importances_\""
   ]
  },
  {
   "cell_type": "code",
   "execution_count": 114,
   "metadata": {},
   "outputs": [],
   "source": [
    "from sklearn.model_selection import train_test_split\n",
    "\n",
    "X = df_transformado.drop('Revenue', axis=1)  \n",
    "y = df_transformado['Revenue']\n",
    "\n",
    "X_train, X_test, y_train, y_test = train_test_split(X, y, test_size=0.3, random_state=1, shuffle=True)\n",
    "X_val, X_test, y_val, y_test = train_test_split(X_test, y_test, test_size=0.5, random_state=1, shuffle=True)"
   ]
  },
  {
   "cell_type": "code",
   "execution_count": 113,
   "metadata": {},
   "outputs": [],
   "source": [
    "from sklearn.ensemble import RandomForestClassifier\n",
    "\n",
    "modeloRFC_1 = RandomForestClassifier(n_estimators=100, max_depth=10, random_state=1)\n",
    "modeloRFC_1.fit(X_train, y_train)\n",
    "\n",
    "feature_importance = modeloRFC_1.feature_importances_"
   ]
  },
  {
   "cell_type": "code",
   "execution_count": 108,
   "metadata": {},
   "outputs": [
    {
     "data": {
      "text/plain": [
       "array([3.29212640e-02, 4.03980557e-02, 1.33087836e-02, 2.05170280e-02,\n",
       "       5.15692989e-02, 7.03114966e-02, 5.01557611e-02, 7.61313922e-02,\n",
       "       5.11065869e-01, 2.81860243e-03, 1.10178127e-02, 1.21580193e-02,\n",
       "       1.66210381e-02, 1.94761250e-02, 5.67812925e-03, 1.43891648e-03,\n",
       "       4.16395065e-03, 2.36067963e-04, 2.35347701e-03, 1.49637577e-03,\n",
       "       4.60772935e-03, 5.25988356e-03, 2.83629146e-02, 3.25594688e-03,\n",
       "       2.86434861e-03, 5.63710824e-04, 1.12480028e-02])"
      ]
     },
     "execution_count": 108,
     "metadata": {},
     "output_type": "execute_result"
    }
   ],
   "source": [
    "feature_importance"
   ]
  },
  {
   "cell_type": "code",
   "execution_count": 109,
   "metadata": {},
   "outputs": [
    {
     "data": {
      "image/png": "[encoded data removed]",
      "text/plain": [
       "<Figure size 1200x600 with 1 Axes>"
      ]
     },
     "metadata": {},
     "output_type": "display_data"
    }
   ],
   "source": [
    "sorted_indices = np.argsort(feature_importance)[::-1]\n",
    "\n",
    "feature_labels = X.columns\n",
    "\n",
    "sorted_labels = [feature_labels[i] for i in sorted_indices]\n",
    "sorted_importance = [feature_importance[i] for i in sorted_indices]\n",
    "\n",
    "plt.figure(figsize=(6, 6))\n",
    "plt.bar(range(len(sorted_importance)), sorted_importance)\n",
    "plt.xlabel('Características')\n",
    "plt.ylabel('Importancia')\n",
    "plt.xticks(range(len(sorted_importance)), sorted_labels, rotation=90)\n",
    "plt.title('Importancia de las Características (Ordenadas)')\n",
    "plt.show()"
   ]
  },
  {
   "cell_type": "markdown",
   "metadata": {},
   "source": [
    "* Evaluar en el Conjunto de Validación: \n",
    "\n",
    "* Una vez entrenado el modelo inicial, evalúamos su rendimiento en el conjunto de validación (X_val y y_val).\n",
    "\n",
    "* Usar métricas relevantes: como precisión, recall, F1-score, AUC-ROC, matriz de confusión\n",
    "\n",
    "* Precisión (Accuracy): Mide la proporción de predicciones correctas entre todas las predicciones. Es útil cuando las clases están equilibradas.\n",
    "\n",
    "* Recall (Sensibilidad): Mide la proporción de verdaderos positivos entre todos los casos positivos reales. Es útil cuando es importante identificar todos los casos positivos, incluso a expensas de los falsos positivos.\n",
    "\n",
    "* F1-Score: El F1-score es la media armónica de precisión y recall. Es útil cuando quiero equilibrar precisión y recall.\n",
    "\n",
    "* AUC-ROC: La curva y el área bajo la curva ROC son útiles para evaluar la capacidad de discriminación del modelo, especialmente en problemas de clasificación binaria.\n",
    "\n",
    "* Matriz de Confusión: Proporciona una vista detallada de los resultados de clasificación, mostrando el número de verdaderos positivos, verdaderos negativos, falsos positivos y falsos negativos.\n",
    "\n",
    "* Ajustar Hiperparámetros: \n",
    "* En base a la evaluación en el conjunto de validación, podremos ajustar los hiperparámetros del modelo si es necesario. \n",
    "* Técnicas: búsqueda en cuadrícula, optimización bayesiana, etc.\n",
    "\n",
    "* Re-Entrenar el Modelo: \n",
    "* Si ajusto los hiperparámetros, debo reentrenar el modelo con los nuevos valores de hiperparámetros utilizando el conjunto de entrenamiento.\n",
    "\n",
    "* Evaluar en el Conjunto de Prueba: \n",
    "* Finalmente, después de entrenar el modelo con los hiperparámetros ajustados, evalúamos el rendimiento en el conjunto de prueba (X_test y y_test). \n",
    "* Esto nos dará una evaluación imparcial de cómo se desempeñará el modelo con datos nuevos y desconocidos."
   ]
  },
  {
   "cell_type": "code",
   "execution_count": 110,
   "metadata": {},
   "outputs": [],
   "source": [
    "y_pred = modeloRFC_1.predict(X_val)"
   ]
  },
  {
   "cell_type": "code",
   "execution_count": 111,
   "metadata": {},
   "outputs": [
    {
     "name": "stdout",
     "output_type": "stream",
     "text": [
      "Accuracy: 0.90\n",
      "Precision: 0.76\n",
      "Recall: 0.53\n",
      "F1-Score: 0.63\n",
      "AUC-ROC: 0.93\n",
      "Matriz de Confusión:\n",
      "[[1525   47]\n",
      " [ 129  148]]\n"
     ]
    }
   ],
   "source": [
    "from sklearn.metrics import accuracy_score, precision_score, recall_score, f1_score, roc_auc_score, confusion_matrix\n",
    "\n",
    "accuracy = accuracy_score(y_val, y_pred)\n",
    "precision = precision_score(y_val, y_pred)\n",
    "recall = recall_score(y_val, y_pred)\n",
    "f1 = f1_score(y_val, y_pred)\n",
    "roc_auc = roc_auc_score(y_val, modeloRFC_1.predict_proba(X_val)[:, 1])\n",
    "confusion = confusion_matrix(y_val, y_pred)\n",
    "\n",
    "print(f'Accuracy: {accuracy:.2f}')\n",
    "print(f'Precision: {precision:.2f}')\n",
    "print(f'Recall: {recall:.2f}')\n",
    "print(f'F1-Score: {f1:.2f}')\n",
    "print(f'AUC-ROC: {roc_auc:.2f}')\n",
    "print('Matriz de Confusión:')\n",
    "print(confusion)"
   ]
  },
  {
   "cell_type": "markdown",
   "metadata": {},
   "source": [
    "Accuracy (Precisión): La precisión es la proporción de predicciones correctas (verdaderos positivos más verdaderos negativos) en relación con todas las predicciones realizadas. En este caso, el valor 0.90 significa que el 90% de las predicciones son correctas en el conjunto de validación.\n",
    "\n",
    "Precision (Precisión): La precisión mide la proporción de verdaderos positivos (casos positivos correctamente predichos) en relación con todos los casos positivos predichos por el modelo. En este caso, el valor 0.74 significa que el 74% de las predicciones positivas son correctas.\n",
    "\n",
    "Recall (Recuperación o Sensibilidad): El recall mide la proporción de verdaderos positivos en relación con todos los casos positivos reales en los datos. En este caso, el valor 0.54 significa que el modelo identifica correctamente el 54% de todos los casos positivos en el conjunto de validación.\n",
    "\n",
    "F1-Score (Puntuación F1): El F1-Score es la media armónica de precisión y recall. Es útil cuando deseas equilibrar la precisión y el recall. En este caso, el valor 0.62 indica un equilibrio entre la precisión y el recall.\n",
    "\n",
    "AUC-ROC (Área bajo la curva ROC): El AUC-ROC es una métrica que evalúa la capacidad de discriminación del modelo en problemas de clasificación binaria. Un valor de 0.93 sugiere que el modelo tiene una muy buena capacidad para distinguir entre las dos clases.\n",
    "\n",
    "Matriz de Confusión: La matriz de confusión muestra cómo se distribuyen las predicciones del modelo en comparación con las clases reales. En esta matriz de confusión, los números en la diagonal principal representan las predicciones correctas (verdaderos positivos y verdaderos negativos), mientras que los números fuera de la diagonal principal son los errores (falsos positivos y falsos negativos).\n",
    "\n",
    "En resumen, tu modelo tiene una precisión general del 90%, lo que indica un buen rendimiento en términos de predicciones correctas. Sin embargo, el recall es un poco más bajo (54%), lo que significa que el modelo podría estar perdiendo algunos casos positivos. El equilibrio entre precisión y recall se refleja en el F1-Score (62%), que se encuentra en un punto intermedio. Además, el AUC-ROC es alto (93%), lo que indica una buena capacidad de discriminación del modelo. La matriz de confusión proporciona detalles adicionales sobre cómo se distribuyen las predicciones."
   ]
  },
  {
   "cell_type": "code",
   "execution_count": 98,
   "metadata": {},
   "outputs": [
    {
     "data": {
      "image/png": "[encoded data removed]",
      "text/plain": [
       "<Figure size 800x600 with 1 Axes>"
      ]
     },
     "metadata": {},
     "output_type": "display_data"
    }
   ],
   "source": [
    "from sklearn.metrics import roc_curve, roc_auc_score\n",
    "\n",
    "y_scores = modeloRFC_1.predict_proba(X_val)[:, 1]\n",
    "\n",
    "roc_auc = roc_auc_score(y_val, y_scores)\n",
    "\n",
    "fpr, tpr, _ = roc_curve(y_val, y_scores)\n",
    "\n",
    "plt.figure(figsize=(8, 6))\n",
    "plt.plot(fpr, tpr, label=f'AUC-ROC = {roc_auc:.2f}')\n",
    "plt.plot([0, 1], [0, 1], 'k--')\n",
    "plt.xlim([0.0, 1.0])\n",
    "plt.ylim([0.0, 1.05])\n",
    "plt.xlabel('Tasa de Falsos Positivos (FPR)')\n",
    "plt.ylabel('Tasa de Verdaderos Positivos (TPR)')\n",
    "plt.title('Curva ROC')\n",
    "plt.legend(loc=\"lower right\")\n",
    "plt.show()"
   ]
  },
  {
   "cell_type": "code",
   "execution_count": 99,
   "metadata": {},
   "outputs": [
    {
     "data": {
      "image/png": "[encoded data removed]",
      "text/plain": [
       "<Figure size 400x400 with 1 Axes>"
      ]
     },
     "metadata": {},
     "output_type": "display_data"
    }
   ],
   "source": [
    "import seaborn as sns\n",
    "plt.figure(figsize=(4, 4))\n",
    "sns.heatmap(confusion, annot=True, fmt=\"d\", cmap=\"RdBu_r\", cbar=False)\n",
    "plt.xlabel('Predicciones')\n",
    "plt.ylabel('Valores Reales')\n",
    "plt.title('Matriz de Confusión')\n",
    "plt.show()"
   ]
  },
  {
   "cell_type": "markdown",
   "metadata": {},
   "source": [
    "### Ajuste de los Hiperparámetros del Bosque aleatorio."
   ]
  },
  {
   "cell_type": "markdown",
   "metadata": {},
   "source": [
    "* Recall (Recuperación): \n",
    "* Reducir la tasa de abandono del carrito de la compra implica identificar a los usuarios van a abandonar y persuadirlos para que completen la compra, el recall es una métrica importante. \n",
    "* Debo ajustar los hiperparámetros de manera para maximizar el recall, lo que significa que estoy identificando la mayoría de los casos de abandono.\n",
    "\n",
    "* Número de Árboles (n_estimators): Experimento con diferentes valores para n_estimators. \n",
    "* En general, un mayor número de árboles puede mejorar la generalización del modelo, pero también puede aumentar el tiempo de entrenamiento.\n",
    "* Aumentar el número de árboles puede ayudar a capturar patrones más complejos en los datos. \n",
    "\n",
    "* Profundidad Máxima (max_depth): Ajusta la profundidad máxima de los árboles (max_depth). \n",
    "* Una profundidad más profunda puede permitir que el modelo capture relaciones más complejas, pero debemos tener en cuenta el riesgo de sobreajuste. \n",
    "* Probaremos con diferentes valores y podremos usar la validación cruzada para encontrar el equilibrio adecuado.\n",
    "\n",
    "* Min Samples Split y Min Samples Leaf: \n",
    "* Probar con min_samples_split y min_samples_leaf para controlar la división de nodos y el tamaño mínimo de las hojas de los árboles. \n",
    "* Estos hiperparámetros pueden ayudar a regularizar el modelo y evitar el sobreajuste.\n",
    "\n",
    "* Balanceo de Clases: Si tengo un desequilibrio significativo entre las clases (abandono y no abandono del carrito), puedo considerar técnicas de balanceo de clases, como la ponderación de clases o el muestreo estratificado, para asegurar de que el modelo se entrene de manera equitativa en ambas clases.\n",
    "\n",
    "* Feature Importance: Utiliza la importancia de las características (feature_importances_) para identificar qué características son las más influyentes en las predicciones del modelo. \n",
    "* Puede ayudar a focalizar las características clave relacionadas con la reducción del abandono del carrito.\n",
    "\n",
    "* Validación Cruzada: para evaluar cómo se desempeña el modelo en diferentes conjuntos de datos de validación y ajustar los hiperparámetros en función de esas métricas.\n",
    "\n",
    "* Análisis de Errores: \n",
    "* Examinar los casos de abandono de carrito que el modelo no predice correctamente y buscar patrones o características comunes en esos casos. \n",
    "* Esto puede proporcionar información adicional para el ajuste de hiperparámetros.\n",
    "\n",
    "* El proceso de ajuste de hiperparámetros es iterativo, y es posible probar varias configuraciones antes de encontrar la óptima para el problema que estamos analizando. \n",
    "* Además, considerar la posibilidad de realizar experimentos controlados, como enviar recordatorios a los usuarios basados en las predicciones del modelo, para evaluar el impacto en la reducción de tasas de abandono en un entorno real."
   ]
  },
  {
   "cell_type": "markdown",
   "metadata": {},
   "source": [
    "Búsqueda en Cuadrícula (Grid Search):\n",
    "\n",
    "La búsqueda en cuadrícula permite especificar una lista de valores para cada hiperparámetro que deseo ajustar y evalúa todas las combinaciones posibles para encontrar la mejor: "
   ]
  },
  {
   "cell_type": "code",
   "execution_count": 100,
   "metadata": {},
   "outputs": [
    {
     "name": "stdout",
     "output_type": "stream",
     "text": [
      "Fitting 3 folds for each of 81 candidates, totalling 243 fits\n",
      "[CV] END max_depth=5, min_samples_leaf=1, min_samples_split=2, n_estimators=50; total time=   0.3s\n",
      "[CV] END max_depth=5, min_samples_leaf=1, min_samples_split=2, n_estimators=50; total time=   0.2s\n",
      "[CV] END max_depth=5, min_samples_leaf=1, min_samples_split=2, n_estimators=50; total time=   0.2s\n",
      "[CV] END max_depth=5, min_samples_leaf=1, min_samples_split=2, n_estimators=100; total time=   0.6s\n",
      "[CV] END max_depth=5, min_samples_leaf=1, min_samples_split=2, n_estimators=100; total time=   0.9s\n",
      "[CV] END max_depth=5, min_samples_leaf=1, min_samples_split=2, n_estimators=100; total time=   0.7s\n",
      "[CV] END max_depth=5, min_samples_leaf=1, min_samples_split=2, n_estimators=150; total time=   1.1s\n",
      "[CV] END max_depth=5, min_samples_leaf=1, min_samples_split=2, n_estimators=150; total time=   1.0s\n",
      "[CV] END max_depth=5, min_samples_leaf=1, min_samples_split=2, n_estimators=150; total time=   1.0s\n",
      "[CV] END max_depth=5, min_samples_leaf=1, min_samples_split=5, n_estimators=50; total time=   0.3s\n",
      "[CV] END max_depth=5, min_samples_leaf=1, min_samples_split=5, n_estimators=50; total time=   0.3s\n",
      "[CV] END max_depth=5, min_samples_leaf=1, min_samples_split=5, n_estimators=50; total time=   0.3s\n",
      "[CV] END max_depth=5, min_samples_leaf=1, min_samples_split=5, n_estimators=100; total time=   0.7s\n",
      "[CV] END max_depth=5, min_samples_leaf=1, min_samples_split=5, n_estimators=100; total time=   0.6s\n",
      "[CV] END max_depth=5, min_samples_leaf=1, min_samples_split=5, n_estimators=100; total time=   0.6s\n",
      "[CV] END max_depth=5, min_samples_leaf=1, min_samples_split=5, n_estimators=150; total time=   1.3s\n",
      "[CV] END max_depth=5, min_samples_leaf=1, min_samples_split=5, n_estimators=150; total time=   1.1s\n",
      "[CV] END max_depth=5, min_samples_leaf=1, min_samples_split=5, n_estimators=150; total time=   1.4s\n",
      "[CV] END max_depth=5, min_samples_leaf=1, min_samples_split=10, n_estimators=50; total time=   0.4s\n",
      "[CV] END max_depth=5, min_samples_leaf=1, min_samples_split=10, n_estimators=50; total time=   0.4s\n",
      "[CV] END max_depth=5, min_samples_leaf=1, min_samples_split=10, n_estimators=50; total time=   0.3s\n",
      "[CV] END max_depth=5, min_samples_leaf=1, min_samples_split=10, n_estimators=100; total time=   0.7s\n",
      "[CV] END max_depth=5, min_samples_leaf=1, min_samples_split=10, n_estimators=100; total time=   1.0s\n",
      "[CV] END max_depth=5, min_samples_leaf=1, min_samples_split=10, n_estimators=100; total time=   0.7s\n",
      "[CV] END max_depth=5, min_samples_leaf=1, min_samples_split=10, n_estimators=150; total time=   0.8s\n",
      "[CV] END max_depth=5, min_samples_leaf=1, min_samples_split=10, n_estimators=150; total time=   1.1s\n",
      "[CV] END max_depth=5, min_samples_leaf=1, min_samples_split=10, n_estimators=150; total time=   1.3s\n",
      "[CV] END max_depth=5, min_samples_leaf=2, min_samples_split=2, n_estimators=50; total time=   0.3s\n",
      "[CV] END max_depth=5, min_samples_leaf=2, min_samples_split=2, n_estimators=50; total time=   0.3s\n",
      "[CV] END max_depth=5, min_samples_leaf=2, min_samples_split=2, n_estimators=50; total time=   0.2s\n",
      "[CV] END max_depth=5, min_samples_leaf=2, min_samples_split=2, n_estimators=100; total time=   0.6s\n",
      "[CV] END max_depth=5, min_samples_leaf=2, min_samples_split=2, n_estimators=100; total time=   0.5s\n",
      "[CV] END max_depth=5, min_samples_leaf=2, min_samples_split=2, n_estimators=100; total time=   0.6s\n",
      "[CV] END max_depth=5, min_samples_leaf=2, min_samples_split=2, n_estimators=150; total time=   1.0s\n",
      "[CV] END max_depth=5, min_samples_leaf=2, min_samples_split=2, n_estimators=150; total time=   0.8s\n",
      "[CV] END max_depth=5, min_samples_leaf=2, min_samples_split=2, n_estimators=150; total time=   1.0s\n",
      "[CV] END max_depth=5, min_samples_leaf=2, min_samples_split=5, n_estimators=50; total time=   0.3s\n",
      "[CV] END max_depth=5, min_samples_leaf=2, min_samples_split=5, n_estimators=50; total time=   0.2s\n",
      "[CV] END max_depth=5, min_samples_leaf=2, min_samples_split=5, n_estimators=50; total time=   0.2s\n",
      "[CV] END max_depth=5, min_samples_leaf=2, min_samples_split=5, n_estimators=100; total time=   0.6s\n",
      "[CV] END max_depth=5, min_samples_leaf=2, min_samples_split=5, n_estimators=100; total time=   0.5s\n",
      "[CV] END max_depth=5, min_samples_leaf=2, min_samples_split=5, n_estimators=100; total time=   0.5s\n",
      "[CV] END max_depth=5, min_samples_leaf=2, min_samples_split=5, n_estimators=150; total time=   0.8s\n",
      "[CV] END max_depth=5, min_samples_leaf=2, min_samples_split=5, n_estimators=150; total time=   0.8s\n",
      "[CV] END max_depth=5, min_samples_leaf=2, min_samples_split=5, n_estimators=150; total time=   0.8s\n",
      "[CV] END max_depth=5, min_samples_leaf=2, min_samples_split=10, n_estimators=50; total time=   0.2s\n",
      "[CV] END max_depth=5, min_samples_leaf=2, min_samples_split=10, n_estimators=50; total time=   0.2s\n",
      "[CV] END max_depth=5, min_samples_leaf=2, min_samples_split=10, n_estimators=50; total time=   0.4s\n",
      "[CV] END max_depth=5, min_samples_leaf=2, min_samples_split=10, n_estimators=100; total time=   0.6s\n",
      "[CV] END max_depth=5, min_samples_leaf=2, min_samples_split=10, n_estimators=100; total time=   0.5s\n",
      "[CV] END max_depth=5, min_samples_leaf=2, min_samples_split=10, n_estimators=100; total time=   0.7s\n",
      "[CV] END max_depth=5, min_samples_leaf=2, min_samples_split=10, n_estimators=150; total time=   1.2s\n",
      "[CV] END max_depth=5, min_samples_leaf=2, min_samples_split=10, n_estimators=150; total time=   1.1s\n",
      "[CV] END max_depth=5, min_samples_leaf=2, min_samples_split=10, n_estimators=150; total time=   1.0s\n",
      "[CV] END max_depth=5, min_samples_leaf=4, min_samples_split=2, n_estimators=50; total time=   0.3s\n",
      "[CV] END max_depth=5, min_samples_leaf=4, min_samples_split=2, n_estimators=50; total time=   0.2s\n",
      "[CV] END max_depth=5, min_samples_leaf=4, min_samples_split=2, n_estimators=50; total time=   0.3s\n",
      "[CV] END max_depth=5, min_samples_leaf=4, min_samples_split=2, n_estimators=100; total time=   0.6s\n",
      "[CV] END max_depth=5, min_samples_leaf=4, min_samples_split=2, n_estimators=100; total time=   0.6s\n",
      "[CV] END max_depth=5, min_samples_leaf=4, min_samples_split=2, n_estimators=100; total time=   0.6s\n",
      "[CV] END max_depth=5, min_samples_leaf=4, min_samples_split=2, n_estimators=150; total time=   1.1s\n",
      "[CV] END max_depth=5, min_samples_leaf=4, min_samples_split=2, n_estimators=150; total time=   1.1s\n",
      "[CV] END max_depth=5, min_samples_leaf=4, min_samples_split=2, n_estimators=150; total time=   1.2s\n",
      "[CV] END max_depth=5, min_samples_leaf=4, min_samples_split=5, n_estimators=50; total time=   0.2s\n",
      "[CV] END max_depth=5, min_samples_leaf=4, min_samples_split=5, n_estimators=50; total time=   0.2s\n",
      "[CV] END max_depth=5, min_samples_leaf=4, min_samples_split=5, n_estimators=50; total time=   0.2s\n",
      "[CV] END max_depth=5, min_samples_leaf=4, min_samples_split=5, n_estimators=100; total time=   0.5s\n",
      "[CV] END max_depth=5, min_samples_leaf=4, min_samples_split=5, n_estimators=100; total time=   0.5s\n",
      "[CV] END max_depth=5, min_samples_leaf=4, min_samples_split=5, n_estimators=100; total time=   0.5s\n",
      "[CV] END max_depth=5, min_samples_leaf=4, min_samples_split=5, n_estimators=150; total time=   0.9s\n",
      "[CV] END max_depth=5, min_samples_leaf=4, min_samples_split=5, n_estimators=150; total time=   0.9s\n",
      "[CV] END max_depth=5, min_samples_leaf=4, min_samples_split=5, n_estimators=150; total time=   0.9s\n",
      "[CV] END max_depth=5, min_samples_leaf=4, min_samples_split=10, n_estimators=50; total time=   0.3s\n",
      "[CV] END max_depth=5, min_samples_leaf=4, min_samples_split=10, n_estimators=50; total time=   0.3s\n",
      "[CV] END max_depth=5, min_samples_leaf=4, min_samples_split=10, n_estimators=50; total time=   0.3s\n",
      "[CV] END max_depth=5, min_samples_leaf=4, min_samples_split=10, n_estimators=100; total time=   0.5s\n",
      "[CV] END max_depth=5, min_samples_leaf=4, min_samples_split=10, n_estimators=100; total time=   0.6s\n",
      "[CV] END max_depth=5, min_samples_leaf=4, min_samples_split=10, n_estimators=100; total time=   0.6s\n",
      "[CV] END max_depth=5, min_samples_leaf=4, min_samples_split=10, n_estimators=150; total time=   1.1s\n",
      "[CV] END max_depth=5, min_samples_leaf=4, min_samples_split=10, n_estimators=150; total time=   0.8s\n",
      "[CV] END max_depth=5, min_samples_leaf=4, min_samples_split=10, n_estimators=150; total time=   0.9s\n",
      "[CV] END max_depth=10, min_samples_leaf=1, min_samples_split=2, n_estimators=50; total time=   0.5s\n",
      "[CV] END max_depth=10, min_samples_leaf=1, min_samples_split=2, n_estimators=50; total time=   0.5s\n",
      "[CV] END max_depth=10, min_samples_leaf=1, min_samples_split=2, n_estimators=50; total time=   0.5s\n",
      "[CV] END max_depth=10, min_samples_leaf=1, min_samples_split=2, n_estimators=100; total time=   1.3s\n",
      "[CV] END max_depth=10, min_samples_leaf=1, min_samples_split=2, n_estimators=100; total time=   1.1s\n",
      "[CV] END max_depth=10, min_samples_leaf=1, min_samples_split=2, n_estimators=100; total time=   1.2s\n",
      "[CV] END max_depth=10, min_samples_leaf=1, min_samples_split=2, n_estimators=150; total time=   1.6s\n",
      "[CV] END max_depth=10, min_samples_leaf=1, min_samples_split=2, n_estimators=150; total time=   1.6s\n",
      "[CV] END max_depth=10, min_samples_leaf=1, min_samples_split=2, n_estimators=150; total time=   1.5s\n",
      "[CV] END max_depth=10, min_samples_leaf=1, min_samples_split=5, n_estimators=50; total time=   0.6s\n",
      "[CV] END max_depth=10, min_samples_leaf=1, min_samples_split=5, n_estimators=50; total time=   0.6s\n",
      "[CV] END max_depth=10, min_samples_leaf=1, min_samples_split=5, n_estimators=50; total time=   0.5s\n",
      "[CV] END max_depth=10, min_samples_leaf=1, min_samples_split=5, n_estimators=100; total time=   1.0s\n",
      "[CV] END max_depth=10, min_samples_leaf=1, min_samples_split=5, n_estimators=100; total time=   1.3s\n",
      "[CV] END max_depth=10, min_samples_leaf=1, min_samples_split=5, n_estimators=100; total time=   1.2s\n",
      "[CV] END max_depth=10, min_samples_leaf=1, min_samples_split=5, n_estimators=150; total time=   1.5s\n",
      "[CV] END max_depth=10, min_samples_leaf=1, min_samples_split=5, n_estimators=150; total time=   1.5s\n",
      "[CV] END max_depth=10, min_samples_leaf=1, min_samples_split=5, n_estimators=150; total time=   1.4s\n",
      "[CV] END max_depth=10, min_samples_leaf=1, min_samples_split=10, n_estimators=50; total time=   0.4s\n",
      "[CV] END max_depth=10, min_samples_leaf=1, min_samples_split=10, n_estimators=50; total time=   0.4s\n",
      "[CV] END max_depth=10, min_samples_leaf=1, min_samples_split=10, n_estimators=50; total time=   0.5s\n",
      "[CV] END max_depth=10, min_samples_leaf=1, min_samples_split=10, n_estimators=100; total time=   1.0s\n",
      "[CV] END max_depth=10, min_samples_leaf=1, min_samples_split=10, n_estimators=100; total time=   1.0s\n",
      "[CV] END max_depth=10, min_samples_leaf=1, min_samples_split=10, n_estimators=100; total time=   0.9s\n",
      "[CV] END max_depth=10, min_samples_leaf=1, min_samples_split=10, n_estimators=150; total time=   1.4s\n",
      "[CV] END max_depth=10, min_samples_leaf=1, min_samples_split=10, n_estimators=150; total time=   1.5s\n",
      "[CV] END max_depth=10, min_samples_leaf=1, min_samples_split=10, n_estimators=150; total time=   1.6s\n",
      "[CV] END max_depth=10, min_samples_leaf=2, min_samples_split=2, n_estimators=50; total time=   0.4s\n",
      "[CV] END max_depth=10, min_samples_leaf=2, min_samples_split=2, n_estimators=50; total time=   0.5s\n",
      "[CV] END max_depth=10, min_samples_leaf=2, min_samples_split=2, n_estimators=50; total time=   0.5s\n",
      "[CV] END max_depth=10, min_samples_leaf=2, min_samples_split=2, n_estimators=100; total time=   0.9s\n",
      "[CV] END max_depth=10, min_samples_leaf=2, min_samples_split=2, n_estimators=100; total time=   1.0s\n",
      "[CV] END max_depth=10, min_samples_leaf=2, min_samples_split=2, n_estimators=100; total time=   1.0s\n",
      "[CV] END max_depth=10, min_samples_leaf=2, min_samples_split=2, n_estimators=150; total time=   1.6s\n",
      "[CV] END max_depth=10, min_samples_leaf=2, min_samples_split=2, n_estimators=150; total time=   2.0s\n",
      "[CV] END max_depth=10, min_samples_leaf=2, min_samples_split=2, n_estimators=150; total time=   1.4s\n",
      "[CV] END max_depth=10, min_samples_leaf=2, min_samples_split=5, n_estimators=50; total time=   0.4s\n",
      "[CV] END max_depth=10, min_samples_leaf=2, min_samples_split=5, n_estimators=50; total time=   0.4s\n",
      "[CV] END max_depth=10, min_samples_leaf=2, min_samples_split=5, n_estimators=50; total time=   0.4s\n",
      "[CV] END max_depth=10, min_samples_leaf=2, min_samples_split=5, n_estimators=100; total time=   0.9s\n",
      "[CV] END max_depth=10, min_samples_leaf=2, min_samples_split=5, n_estimators=100; total time=   0.9s\n",
      "[CV] END max_depth=10, min_samples_leaf=2, min_samples_split=5, n_estimators=100; total time=   0.9s\n",
      "[CV] END max_depth=10, min_samples_leaf=2, min_samples_split=5, n_estimators=150; total time=   1.3s\n",
      "[CV] END max_depth=10, min_samples_leaf=2, min_samples_split=5, n_estimators=150; total time=   1.3s\n",
      "[CV] END max_depth=10, min_samples_leaf=2, min_samples_split=5, n_estimators=150; total time=   1.4s\n",
      "[CV] END max_depth=10, min_samples_leaf=2, min_samples_split=10, n_estimators=50; total time=   0.5s\n",
      "[CV] END max_depth=10, min_samples_leaf=2, min_samples_split=10, n_estimators=50; total time=   0.4s\n",
      "[CV] END max_depth=10, min_samples_leaf=2, min_samples_split=10, n_estimators=50; total time=   0.4s\n",
      "[CV] END max_depth=10, min_samples_leaf=2, min_samples_split=10, n_estimators=100; total time=   0.9s\n",
      "[CV] END max_depth=10, min_samples_leaf=2, min_samples_split=10, n_estimators=100; total time=   0.9s\n",
      "[CV] END max_depth=10, min_samples_leaf=2, min_samples_split=10, n_estimators=100; total time=   0.9s\n",
      "[CV] END max_depth=10, min_samples_leaf=2, min_samples_split=10, n_estimators=150; total time=   1.4s\n",
      "[CV] END max_depth=10, min_samples_leaf=2, min_samples_split=10, n_estimators=150; total time=   1.4s\n",
      "[CV] END max_depth=10, min_samples_leaf=2, min_samples_split=10, n_estimators=150; total time=   1.5s\n",
      "[CV] END max_depth=10, min_samples_leaf=4, min_samples_split=2, n_estimators=50; total time=   0.4s\n",
      "[CV] END max_depth=10, min_samples_leaf=4, min_samples_split=2, n_estimators=50; total time=   0.4s\n",
      "[CV] END max_depth=10, min_samples_leaf=4, min_samples_split=2, n_estimators=50; total time=   0.4s\n",
      "[CV] END max_depth=10, min_samples_leaf=4, min_samples_split=2, n_estimators=100; total time=   0.9s\n",
      "[CV] END max_depth=10, min_samples_leaf=4, min_samples_split=2, n_estimators=100; total time=   0.9s\n",
      "[CV] END max_depth=10, min_samples_leaf=4, min_samples_split=2, n_estimators=100; total time=   0.8s\n",
      "[CV] END max_depth=10, min_samples_leaf=4, min_samples_split=2, n_estimators=150; total time=   1.3s\n",
      "[CV] END max_depth=10, min_samples_leaf=4, min_samples_split=2, n_estimators=150; total time=   1.5s\n",
      "[CV] END max_depth=10, min_samples_leaf=4, min_samples_split=2, n_estimators=150; total time=   1.4s\n",
      "[CV] END max_depth=10, min_samples_leaf=4, min_samples_split=5, n_estimators=50; total time=   0.4s\n",
      "[CV] END max_depth=10, min_samples_leaf=4, min_samples_split=5, n_estimators=50; total time=   0.4s\n",
      "[CV] END max_depth=10, min_samples_leaf=4, min_samples_split=5, n_estimators=50; total time=   0.4s\n",
      "[CV] END max_depth=10, min_samples_leaf=4, min_samples_split=5, n_estimators=100; total time=   0.9s\n",
      "[CV] END max_depth=10, min_samples_leaf=4, min_samples_split=5, n_estimators=100; total time=   0.9s\n",
      "[CV] END max_depth=10, min_samples_leaf=4, min_samples_split=5, n_estimators=100; total time=   1.0s\n",
      "[CV] END max_depth=10, min_samples_leaf=4, min_samples_split=5, n_estimators=150; total time=   1.4s\n",
      "[CV] END max_depth=10, min_samples_leaf=4, min_samples_split=5, n_estimators=150; total time=   1.4s\n",
      "[CV] END max_depth=10, min_samples_leaf=4, min_samples_split=5, n_estimators=150; total time=   1.5s\n",
      "[CV] END max_depth=10, min_samples_leaf=4, min_samples_split=10, n_estimators=50; total time=   0.4s\n",
      "[CV] END max_depth=10, min_samples_leaf=4, min_samples_split=10, n_estimators=50; total time=   0.4s\n",
      "[CV] END max_depth=10, min_samples_leaf=4, min_samples_split=10, n_estimators=50; total time=   0.4s\n",
      "[CV] END max_depth=10, min_samples_leaf=4, min_samples_split=10, n_estimators=100; total time=   1.0s\n",
      "[CV] END max_depth=10, min_samples_leaf=4, min_samples_split=10, n_estimators=100; total time=   0.9s\n",
      "[CV] END max_depth=10, min_samples_leaf=4, min_samples_split=10, n_estimators=100; total time=   0.9s\n",
      "[CV] END max_depth=10, min_samples_leaf=4, min_samples_split=10, n_estimators=150; total time=   1.4s\n",
      "[CV] END max_depth=10, min_samples_leaf=4, min_samples_split=10, n_estimators=150; total time=   1.4s\n",
      "[CV] END max_depth=10, min_samples_leaf=4, min_samples_split=10, n_estimators=150; total time=   1.3s\n",
      "[CV] END max_depth=15, min_samples_leaf=1, min_samples_split=2, n_estimators=50; total time=   0.6s\n",
      "[CV] END max_depth=15, min_samples_leaf=1, min_samples_split=2, n_estimators=50; total time=   0.5s\n",
      "[CV] END max_depth=15, min_samples_leaf=1, min_samples_split=2, n_estimators=50; total time=   0.5s\n",
      "[CV] END max_depth=15, min_samples_leaf=1, min_samples_split=2, n_estimators=100; total time=   1.2s\n",
      "[CV] END max_depth=15, min_samples_leaf=1, min_samples_split=2, n_estimators=100; total time=   1.2s\n",
      "[CV] END max_depth=15, min_samples_leaf=1, min_samples_split=2, n_estimators=100; total time=   1.2s\n",
      "[CV] END max_depth=15, min_samples_leaf=1, min_samples_split=2, n_estimators=150; total time=   1.8s\n",
      "[CV] END max_depth=15, min_samples_leaf=1, min_samples_split=2, n_estimators=150; total time=   1.9s\n",
      "[CV] END max_depth=15, min_samples_leaf=1, min_samples_split=2, n_estimators=150; total time=   2.0s\n",
      "[CV] END max_depth=15, min_samples_leaf=1, min_samples_split=5, n_estimators=50; total time=   0.5s\n",
      "[CV] END max_depth=15, min_samples_leaf=1, min_samples_split=5, n_estimators=50; total time=   0.5s\n",
      "[CV] END max_depth=15, min_samples_leaf=1, min_samples_split=5, n_estimators=50; total time=   0.5s\n",
      "[CV] END max_depth=15, min_samples_leaf=1, min_samples_split=5, n_estimators=100; total time=   1.2s\n",
      "[CV] END max_depth=15, min_samples_leaf=1, min_samples_split=5, n_estimators=100; total time=   1.1s\n",
      "[CV] END max_depth=15, min_samples_leaf=1, min_samples_split=5, n_estimators=100; total time=   1.2s\n",
      "[CV] END max_depth=15, min_samples_leaf=1, min_samples_split=5, n_estimators=150; total time=   1.9s\n",
      "[CV] END max_depth=15, min_samples_leaf=1, min_samples_split=5, n_estimators=150; total time=   1.8s\n",
      "[CV] END max_depth=15, min_samples_leaf=1, min_samples_split=5, n_estimators=150; total time=   1.7s\n",
      "[CV] END max_depth=15, min_samples_leaf=1, min_samples_split=10, n_estimators=50; total time=   0.5s\n",
      "[CV] END max_depth=15, min_samples_leaf=1, min_samples_split=10, n_estimators=50; total time=   0.5s\n",
      "[CV] END max_depth=15, min_samples_leaf=1, min_samples_split=10, n_estimators=50; total time=   0.5s\n",
      "[CV] END max_depth=15, min_samples_leaf=1, min_samples_split=10, n_estimators=100; total time=   1.1s\n",
      "[CV] END max_depth=15, min_samples_leaf=1, min_samples_split=10, n_estimators=100; total time=   1.1s\n",
      "[CV] END max_depth=15, min_samples_leaf=1, min_samples_split=10, n_estimators=100; total time=   1.2s\n",
      "[CV] END max_depth=15, min_samples_leaf=1, min_samples_split=10, n_estimators=150; total time=   1.7s\n",
      "[CV] END max_depth=15, min_samples_leaf=1, min_samples_split=10, n_estimators=150; total time=   2.0s\n",
      "[CV] END max_depth=15, min_samples_leaf=1, min_samples_split=10, n_estimators=150; total time=   1.8s\n",
      "[CV] END max_depth=15, min_samples_leaf=2, min_samples_split=2, n_estimators=50; total time=   0.5s\n",
      "[CV] END max_depth=15, min_samples_leaf=2, min_samples_split=2, n_estimators=50; total time=   0.5s\n",
      "[CV] END max_depth=15, min_samples_leaf=2, min_samples_split=2, n_estimators=50; total time=   0.5s\n",
      "[CV] END max_depth=15, min_samples_leaf=2, min_samples_split=2, n_estimators=100; total time=   1.1s\n",
      "[CV] END max_depth=15, min_samples_leaf=2, min_samples_split=2, n_estimators=100; total time=   1.2s\n",
      "[CV] END max_depth=15, min_samples_leaf=2, min_samples_split=2, n_estimators=100; total time=   1.1s\n",
      "[CV] END max_depth=15, min_samples_leaf=2, min_samples_split=2, n_estimators=150; total time=   1.8s\n",
      "[CV] END max_depth=15, min_samples_leaf=2, min_samples_split=2, n_estimators=150; total time=   1.8s\n",
      "[CV] END max_depth=15, min_samples_leaf=2, min_samples_split=2, n_estimators=150; total time=   1.9s\n",
      "[CV] END max_depth=15, min_samples_leaf=2, min_samples_split=5, n_estimators=50; total time=   0.5s\n",
      "[CV] END max_depth=15, min_samples_leaf=2, min_samples_split=5, n_estimators=50; total time=   0.5s\n",
      "[CV] END max_depth=15, min_samples_leaf=2, min_samples_split=5, n_estimators=50; total time=   0.5s\n",
      "[CV] END max_depth=15, min_samples_leaf=2, min_samples_split=5, n_estimators=100; total time=   1.1s\n",
      "[CV] END max_depth=15, min_samples_leaf=2, min_samples_split=5, n_estimators=100; total time=   1.2s\n",
      "[CV] END max_depth=15, min_samples_leaf=2, min_samples_split=5, n_estimators=100; total time=   1.2s\n",
      "[CV] END max_depth=15, min_samples_leaf=2, min_samples_split=5, n_estimators=150; total time=   1.8s\n",
      "[CV] END max_depth=15, min_samples_leaf=2, min_samples_split=5, n_estimators=150; total time=   1.8s\n",
      "[CV] END max_depth=15, min_samples_leaf=2, min_samples_split=5, n_estimators=150; total time=   1.8s\n",
      "[CV] END max_depth=15, min_samples_leaf=2, min_samples_split=10, n_estimators=50; total time=   0.5s\n",
      "[CV] END max_depth=15, min_samples_leaf=2, min_samples_split=10, n_estimators=50; total time=   0.5s\n",
      "[CV] END max_depth=15, min_samples_leaf=2, min_samples_split=10, n_estimators=50; total time=   0.5s\n",
      "[CV] END max_depth=15, min_samples_leaf=2, min_samples_split=10, n_estimators=100; total time=   1.1s\n",
      "[CV] END max_depth=15, min_samples_leaf=2, min_samples_split=10, n_estimators=100; total time=   1.1s\n",
      "[CV] END max_depth=15, min_samples_leaf=2, min_samples_split=10, n_estimators=100; total time=   1.1s\n",
      "[CV] END max_depth=15, min_samples_leaf=2, min_samples_split=10, n_estimators=150; total time=   1.7s\n",
      "[CV] END max_depth=15, min_samples_leaf=2, min_samples_split=10, n_estimators=150; total time=   1.7s\n",
      "[CV] END max_depth=15, min_samples_leaf=2, min_samples_split=10, n_estimators=150; total time=   1.7s\n",
      "[CV] END max_depth=15, min_samples_leaf=4, min_samples_split=2, n_estimators=50; total time=   0.5s\n",
      "[CV] END max_depth=15, min_samples_leaf=4, min_samples_split=2, n_estimators=50; total time=   0.5s\n",
      "[CV] END max_depth=15, min_samples_leaf=4, min_samples_split=2, n_estimators=50; total time=   0.5s\n",
      "[CV] END max_depth=15, min_samples_leaf=4, min_samples_split=2, n_estimators=100; total time=   1.1s\n",
      "[CV] END max_depth=15, min_samples_leaf=4, min_samples_split=2, n_estimators=100; total time=   1.1s\n",
      "[CV] END max_depth=15, min_samples_leaf=4, min_samples_split=2, n_estimators=100; total time=   1.1s\n",
      "[CV] END max_depth=15, min_samples_leaf=4, min_samples_split=2, n_estimators=150; total time=   1.7s\n",
      "[CV] END max_depth=15, min_samples_leaf=4, min_samples_split=2, n_estimators=150; total time=   1.7s\n",
      "[CV] END max_depth=15, min_samples_leaf=4, min_samples_split=2, n_estimators=150; total time=   1.8s\n",
      "[CV] END max_depth=15, min_samples_leaf=4, min_samples_split=5, n_estimators=50; total time=   0.7s\n",
      "[CV] END max_depth=15, min_samples_leaf=4, min_samples_split=5, n_estimators=50; total time=   0.5s\n",
      "[CV] END max_depth=15, min_samples_leaf=4, min_samples_split=5, n_estimators=50; total time=   0.5s\n",
      "[CV] END max_depth=15, min_samples_leaf=4, min_samples_split=5, n_estimators=100; total time=   1.1s\n",
      "[CV] END max_depth=15, min_samples_leaf=4, min_samples_split=5, n_estimators=100; total time=   1.1s\n",
      "[CV] END max_depth=15, min_samples_leaf=4, min_samples_split=5, n_estimators=100; total time=   1.2s\n",
      "[CV] END max_depth=15, min_samples_leaf=4, min_samples_split=5, n_estimators=150; total time=   1.7s\n",
      "[CV] END max_depth=15, min_samples_leaf=4, min_samples_split=5, n_estimators=150; total time=   1.7s\n",
      "[CV] END max_depth=15, min_samples_leaf=4, min_samples_split=5, n_estimators=150; total time=   1.7s\n",
      "[CV] END max_depth=15, min_samples_leaf=4, min_samples_split=10, n_estimators=50; total time=   0.5s\n",
      "[CV] END max_depth=15, min_samples_leaf=4, min_samples_split=10, n_estimators=50; total time=   0.5s\n",
      "[CV] END max_depth=15, min_samples_leaf=4, min_samples_split=10, n_estimators=50; total time=   0.7s\n",
      "[CV] END max_depth=15, min_samples_leaf=4, min_samples_split=10, n_estimators=100; total time=   1.2s\n",
      "[CV] END max_depth=15, min_samples_leaf=4, min_samples_split=10, n_estimators=100; total time=   1.1s\n",
      "[CV] END max_depth=15, min_samples_leaf=4, min_samples_split=10, n_estimators=100; total time=   1.0s\n",
      "[CV] END max_depth=15, min_samples_leaf=4, min_samples_split=10, n_estimators=150; total time=   1.7s\n",
      "[CV] END max_depth=15, min_samples_leaf=4, min_samples_split=10, n_estimators=150; total time=   1.6s\n",
      "[CV] END max_depth=15, min_samples_leaf=4, min_samples_split=10, n_estimators=150; total time=   1.7s\n",
      "Mejores hiperparámetros encontrados:\n",
      "{'max_depth': 15, 'min_samples_leaf': 2, 'min_samples_split': 2, 'n_estimators': 100}\n"
     ]
    }
   ],
   "source": [
    "from sklearn.model_selection import GridSearchCV\n",
    "from sklearn.ensemble import RandomForestClassifier\n",
    "\n",
    "param_grid = {'n_estimators': [50, 100, 150], 'max_depth': [5, 10, 15], 'min_samples_split': [2, 5, 10], 'min_samples_leaf': [1, 2, 4]}\n",
    "\n",
    "modeloRFC_1 = RandomForestClassifier(random_state=1)\n",
    "modeloRFC_1\n",
    "\n",
    "grid_search = GridSearchCV(modeloRFC_1, param_grid, scoring='recall', cv=3, verbose=2)\n",
    "grid_search.fit(X_train, y_train)\n",
    "\n",
    "print(\"Mejores hiperparámetros encontrados:\")\n",
    "print(grid_search.best_params_)\n",
    "\n",
    "best_model = grid_search.best_estimator_"
   ]
  },
  {
   "cell_type": "code",
   "execution_count": 101,
   "metadata": {},
   "outputs": [],
   "source": [
    "modeloRFC_2 = RandomForestClassifier(n_estimators=150, max_depth=15, min_samples_split=5, min_samples_leaf=1, random_state=1)\n",
    "\n",
    "modeloRFC_2.fit(X_train, y_train)\n",
    "\n",
    "y_pred = modeloRFC_2.predict(X_test)"
   ]
  },
  {
   "cell_type": "code",
   "execution_count": 102,
   "metadata": {},
   "outputs": [
    {
     "name": "stdout",
     "output_type": "stream",
     "text": [
      "Accuracy: 0.90\n",
      "Precision: 0.72\n",
      "Recall: 0.56\n",
      "F1-Score: 0.63\n",
      "AUC-ROC: 0.93\n",
      "Matriz de Confusión:\n",
      "[[1518   59]\n",
      " [ 121  152]]\n"
     ]
    }
   ],
   "source": [
    "accuracy = accuracy_score(y_test, y_pred)\n",
    "precision = precision_score(y_test, y_pred)\n",
    "recall = recall_score(y_test, y_pred)\n",
    "f1 = f1_score(y_test, y_pred)\n",
    "roc_auc = roc_auc_score(y_test, modeloRFC_2.predict_proba(X_test)[:, 1])\n",
    "confusion = confusion_matrix(y_test, y_pred)\n",
    "\n",
    "print(f'Accuracy: {accuracy:.2f}')\n",
    "print(f'Precision: {precision:.2f}')\n",
    "print(f'Recall: {recall:.2f}')\n",
    "print(f'F1-Score: {f1:.2f}')\n",
    "print(f'AUC-ROC: {roc_auc:.2f}')\n",
    "print('Matriz de Confusión:')\n",
    "print(confusion)"
   ]
  },
  {
   "cell_type": "code",
   "execution_count": 103,
   "metadata": {},
   "outputs": [],
   "source": [
    "modeloRFC_3 = RandomForestClassifier(n_estimators=125, max_depth=12, min_samples_split=6, min_samples_leaf=3, random_state=1)\n",
    "\n",
    "modeloRFC_3.fit(X_train, y_train)\n",
    "\n",
    "y_pred = modeloRFC_3.predict(X_test)"
   ]
  },
  {
   "cell_type": "code",
   "execution_count": 104,
   "metadata": {},
   "outputs": [
    {
     "name": "stdout",
     "output_type": "stream",
     "text": [
      "Accuracy: 0.90\n",
      "Precision: 0.73\n",
      "Recall: 0.55\n",
      "F1-Score: 0.63\n",
      "AUC-ROC: 0.93\n",
      "Matriz de Confusión:\n",
      "[[1522   55]\n",
      " [ 122  151]]\n"
     ]
    }
   ],
   "source": [
    "accuracy = accuracy_score(y_test, y_pred)\n",
    "precision = precision_score(y_test, y_pred)\n",
    "recall = recall_score(y_test, y_pred)\n",
    "f1 = f1_score(y_test, y_pred)\n",
    "roc_auc = roc_auc_score(y_test, modeloRFC_3.predict_proba(X_test)[:, 1])\n",
    "confusion = confusion_matrix(y_test, y_pred)\n",
    "\n",
    "print(f'Accuracy: {accuracy:.2f}')\n",
    "print(f'Precision: {precision:.2f}')\n",
    "print(f'Recall: {recall:.2f}')\n",
    "print(f'F1-Score: {f1:.2f}')\n",
    "print(f'AUC-ROC: {roc_auc:.2f}')\n",
    "print('Matriz de Confusión:')\n",
    "print(confusion)"
   ]
  },
  {
   "cell_type": "markdown",
   "metadata": {},
   "source": [
    "## Modelo 2: Gradient Boosting Classifier"
   ]
  },
  {
   "cell_type": "markdown",
   "metadata": {},
   "source": [
    "* Separar los datos en dos grupos: datos de Entrenamiento (70%) y test (30%).\n",
    "* Entrenar el Modelo 2, con Gradient Boosting Classifier (Ensamblador) utilizando todas las características (26 variables) y con la variable dependiente desbalanceada.\n",
    "* Ajustar los hiperparámetros del modelo.\n",
    "* Elegir el mejor modelo, ajustadando los hiperparámetros."
   ]
  },
  {
   "cell_type": "code",
   "execution_count": null,
   "metadata": {},
   "outputs": [],
   "source": [
    "X = df_transformado.drop('Revenue', axis=1)\n",
    "y = df_transformado['Revenue']\n",
    "\n",
    "X_train, X_test, y_train, y_test = train_test_split(X, y, test_size=0.3, random_state=1, shuffle=True)"
   ]
  },
  {
   "cell_type": "code",
   "execution_count": null,
   "metadata": {},
   "outputs": [],
   "source": [
    "modeloGBC = GradientBoostingClassifier(learning_rate=0.1, n_estimators=100, max_depth=3, random_state=1)\n",
    "modeloGBC.fit(X_train, y_train)"
   ]
  },
  {
   "cell_type": "code",
   "execution_count": null,
   "metadata": {},
   "outputs": [],
   "source": [
    "y_pred = modeloGBC.predict(X_test)"
   ]
  },
  {
   "cell_type": "code",
   "execution_count": null,
   "metadata": {},
   "outputs": [],
   "source": [
    "accuracy = accuracy_score(y_test, y_pred)\n",
    "precision = precision_score(y_test, y_pred)\n",
    "recall = recall_score(y_test, y_pred)\n",
    "f1 = f1_score(y_test, y_pred)\n",
    "roc_auc = roc_auc_score(y_test, modeloGBC.predict_proba(X_test)[:, 1])\n",
    "confusion = confusion_matrix(y_test, y_pred)\n",
    "\n",
    "print(f'Accuracy modeloGBC: {accuracy}')\n",
    "print(f'Precision modeloGBC: {precision}')\n",
    "print(f'Recall modeloGBC: {recall}')\n",
    "print(f'F1-Score modeloGBC: {f1}')\n",
    "print(f'AUC-ROC modeloGBC: {roc_auc}')\n",
    "print('Matriz de Confusión modeloGBC:')\n",
    "print(confusion)"
   ]
  },
  {
   "cell_type": "code",
   "execution_count": null,
   "metadata": {},
   "outputs": [],
   "source": [
    "param_grid = {'n_estimators': [100, 200, 300],'learning_rate': [0.01, 0.1, 0.2],'max_depth': [3, 4, 5]}\n",
    "modeloGBC= GradientBoostingClassifier(random_state=1)\n",
    "grid_search = GridSearchCV(modeloGBC, param_grid, cv=5, scoring='f1')\n",
    "grid_search.fit(X_train, y_train)\n",
    "best_params = grid_search.best_params_\n",
    "print(\"Mejores hiperparámetros:\", best_params)\n",
    "\n",
    "best_model_GBC = grid_search.best_estimator_\n",
    "\n",
    "cv_scores = cross_val_score(best_model_GBC, X_train, y_train, cv=5, scoring='f1')\n",
    "print(\"Puntuaciones de Validación Cruzada (F1-score):\", cv_scores)\n",
    "print(\"Promedio de F1-score en Validación Cruzada:\", np.mean(cv_scores))"
   ]
  },
  {
   "cell_type": "code",
   "execution_count": null,
   "metadata": {},
   "outputs": [],
   "source": [
    "best_model_GBC = grid_search.best_estimator_\n",
    "best_model_GBC.fit(X_train, y_train)\n",
    "y_pred_best_GBC = best_model_GBC.predict(X_test)"
   ]
  },
  {
   "cell_type": "code",
   "execution_count": null,
   "metadata": {},
   "outputs": [],
   "source": [
    "accuracy = accuracy_score(y_test, y_pred_best_GBC)\n",
    "precision = precision_score(y_test, y_pred_best_GBC)\n",
    "recall = recall_score(y_test, y_pred_best_GBC)\n",
    "f1 = f1_score(y_test, y_pred_best_GBC)\n",
    "roc_auc = roc_auc_score(y_test, best_model_GBC.predict_proba(X_test)[:, 1])\n",
    "confusion = confusion_matrix(y_test, y_pred_best_GBC)\n",
    "\n",
    "print(f'Accuracy best_model_GBC: {accuracy}')\n",
    "print(f'Precision best_model_GBC: {precision}')\n",
    "print(f'Recall best_model_GBC: {recall}')\n",
    "print(f'F1-Score best_model_GBC: {f1}')\n",
    "print(f'AUC-ROC best_model_GBC: {roc_auc}')\n",
    "print('Matriz de Confusión best_model_GBC:')\n",
    "print(confusion)"
   ]
  },
  {
   "cell_type": "markdown",
   "metadata": {},
   "source": [
    "## Modelo 3: Ada Boost Classifier"
   ]
  },
  {
   "cell_type": "code",
   "execution_count": null,
   "metadata": {},
   "outputs": [],
   "source": [
    "* Separar los datos en dos grupos: datos de Entrenamiento (70%) y Test (30%)\n",
    "* Entrenar el Modelo 3, con Ada Boost Classifier (Ensamblador) utilizando todas las características (26 variables) y con la variable dependiente desbalanceada.\n",
    "* Ajustar los hiperparámetros del modelo.\n",
    "* Elegir el mejor modelo, ajustadando los hiperparámetros."
   ]
  },
  {
   "cell_type": "code",
   "execution_count": null,
   "metadata": {},
   "outputs": [],
   "source": [
    "X = df_transformado.drop('Revenue', axis=1)\n",
    "y = df_transformado['Revenue']\n",
    "\n",
    "X_train, X_test, y_train, y_test = train_test_split(X, y, test_size=0.3, random_state=1, shuffle=True)"
   ]
  },
  {
   "cell_type": "code",
   "execution_count": null,
   "metadata": {},
   "outputs": [],
   "source": [
    "modeloABC= AdaBoostClassifier(base_estimator=DecisionTreeClassifier(max_depth=1), n_estimators=50, random_state=1)\n",
    "modeloABC.fit(X_train, y_train)"
   ]
  },
  {
   "cell_type": "code",
   "execution_count": null,
   "metadata": {},
   "outputs": [],
   "source": [
    "y_pred = modeloABC.predict(X_test)"
   ]
  },
  {
   "cell_type": "code",
   "execution_count": null,
   "metadata": {},
   "outputs": [],
   "source": [
    "accuracy= accuracy_score(y_test, y_pred)\n",
    "precision= precision_score(y_test, y_pred)\n",
    "recall= recall_score(y_test, y_pred)\n",
    "f1= f1_score(y_test, y_pred)\n",
    "roc_auc= roc_auc_score(y_test, modeloABC.predict_proba(X_test)[:, 1])\n",
    "confusion= confusion_matrix(y_test, y_pred)\n",
    "\n",
    "print(\"Accuracy modeloABC:\", accuracy)\n",
    "print(\"Precisión modeloABC:\", precision)\n",
    "print(\"Recall modeloABC:\", recall)\n",
    "print(\"F1-Score modeloABC:\", f1)\n",
    "print(\"AUC-ROC modeloABC:\", roc_auc)\n",
    "print(\"Matriz de Confusión modeloABC:\")\n",
    "print(confusion)"
   ]
  },
  {
   "cell_type": "code",
   "execution_count": null,
   "metadata": {},
   "outputs": [],
   "source": [
    "feature_importance = modeloABC.feature_importances_"
   ]
  },
  {
   "cell_type": "code",
   "execution_count": null,
   "metadata": {},
   "outputs": [],
   "source": [
    "feature_names = X.columns\n",
    "sorted_indices = np.argsort(feature_importance)\n",
    "sorted_feature_importance = feature_importance[sorted_indices]\n",
    "sorted_feature_names = feature_names[sorted_indices]\n",
    "\n",
    "plt.figure(figsize=(5,5))\n",
    "plt.barh(range(len(sorted_feature_importance)), sorted_feature_importance, align='center')\n",
    "plt.yticks(range(len(sorted_feature_importance)), sorted_feature_names)\n",
    "plt.xlabel('Importancia de Características')\n",
    "plt.ylabel('Características')\n",
    "plt.title('Importancia de Características en el Modelo AdaBoost')\n",
    "plt.show()"
   ]
  },
  {
   "cell_type": "code",
   "execution_count": null,
   "metadata": {},
   "outputs": [],
   "source": [
    "param_grid = {'n_estimators': [50, 100, 150],'learning_rate': [0.01, 0.1, 1.0],'base_estimator__max_depth': [1, 2, 3]}\n",
    "modeloABC = AdaBoostClassifier(base_estimator=DecisionTreeClassifier(max_depth=1), n_estimators=50, random_state=1)\n",
    "grid_search = GridSearchCV(modeloABC, param_grid, cv=5, scoring='f1')\n",
    "grid_search.fit(X_train, y_train)\n",
    "best_params = grid_search.best_params_\n",
    "print(\"Mejores hiperparámetros:\", best_params)"
   ]
  },
  {
   "cell_type": "code",
   "execution_count": null,
   "metadata": {},
   "outputs": [],
   "source": [
    "best_model_ABC = grid_search.best_estimator_\n",
    "best_model_ABC.fit(X_train, y_train)\n",
    "y_pred_best_ABC = best_model_ABC.predict(X_test)"
   ]
  },
  {
   "cell_type": "code",
   "execution_count": null,
   "metadata": {},
   "outputs": [],
   "source": [
    "accuracy_best_ABC = accuracy_score(y_test, y_pred_best_ABC)\n",
    "precision_best_ABC = precision_score(y_test, y_pred_best_ABC)\n",
    "recall_best_ABC = recall_score(y_test, y_pred_best_ABC)\n",
    "f1_best_ABC = f1_score(y_test, y_pred_best_ABC)\n",
    "roc_auc_best_ABC = roc_auc_score(y_test, best_model_ABC.predict_proba(X_test)[:, 1])\n",
    "confusion_best_ABC = confusion_matrix(y_test, y_pred_best_ABC)\n",
    "\n",
    "print(\"Accuracy best_model_ABC:\", accuracy_best_ABC)\n",
    "print(\"Precisión best_model_ABC:\", precision_best_ABC)\n",
    "print(\"Recall best_model_ABC:\", recall_best_ABC)\n",
    "print(\"F1-Score best_model_ABC:\", f1_best_ABC)\n",
    "print(\"AUC-ROC best_model_ABC:\", roc_auc_best_ABC)\n",
    "print(\"Matriz de Confusión best_model_ABC:\")\n",
    "print(confusion_best_ABC)"
   ]
  },
  {
   "cell_type": "markdown",
   "metadata": {},
   "source": [
    "## Modelo 4: BalancedRandomForest"
   ]
  },
  {
   "cell_type": "code",
   "execution_count": null,
   "metadata": {},
   "outputs": [],
   "source": [
    "X = df_transformado.drop('Revenue', axis=1)\n",
    "y = df_transformado['Revenue']\n",
    "\n",
    "X_train, X_test, y_train, y_test = train_test_split(X, y, test_size=0.3, random_state=1, shuffle=True)"
   ]
  },
  {
   "cell_type": "code",
   "execution_count": null,
   "metadata": {},
   "outputs": [],
   "source": [
    "modeloBRF = BalancedRandomForestClassifier(n_estimators=100, max_depth=5, class_weight= \"balanced\", random_state=1)\n",
    "modeloBRF.fit(X_train, y_train)"
   ]
  },
  {
   "cell_type": "code",
   "execution_count": null,
   "metadata": {},
   "outputs": [],
   "source": [
    "y_pred_BRF = modeloBRF.predict(X_test)"
   ]
  },
  {
   "cell_type": "code",
   "execution_count": null,
   "metadata": {},
   "outputs": [],
   "source": [
    "accuracy_BRF = accuracy_score(y_test, y_pred_BRF)\n",
    "precision_BRF = precision_score(y_test, y_pred_BRF)\n",
    "recall_BRF = recall_score(y_test, y_pred_BRF)\n",
    "f1_BRF = f1_score(y_test, y_pred_BRF)\n",
    "roc_auc_BRF = roc_auc_score(y_test, modeloBRF.predict_proba(X_test)[:, 1])\n",
    "conf_matrix_BRF = confusion_matrix(y_test, y_pred_BRF)\n",
    "\n",
    "print(\"Accuracy modeloBRF:\", accuracy_BRF)\n",
    "print(\"Precision modeloBRF:\", precision_BRF)\n",
    "print(\"Recall modeloBRF:\", recall_BRF)\n",
    "print(\"F1-score modeloBRF:\", f1_BRF)\n",
    "print(\"AUC-ROC modeloBRF:\", roc_auc_BRF)\n",
    "print(\"Matriz de Confusión modeloBRF:\")\n",
    "print(conf_matrix_BRF)"
   ]
  },
  {
   "cell_type": "code",
   "execution_count": null,
   "metadata": {},
   "outputs": [],
   "source": [
    "param_grid = {'n_estimators': [300, 500, 800],'max_depth': [15, 20, 25],'min_samples_split': [1, 2, 3]}\n",
    "modeloBRF = BalancedRandomForestClassifier(class_weight=\"balanced\", random_state=1)\n",
    "grid_search = GridSearchCV(modeloBRF, param_grid, cv=5, scoring='f1')\n",
    "grid_search.fit(X_train, y_train)\n",
    "best_params = grid_search.best_params_\n",
    "print(\"Mejores hiperparámetros:\", best_params)"
   ]
  },
  {
   "cell_type": "code",
   "execution_count": null,
   "metadata": {},
   "outputs": [],
   "source": [
    "best_model_BRF = grid_search.best_estimator_\n",
    "best_model_BRF.fit(X_train, y_train)\n",
    "y_pred_best = best_model_BRF.predict(X_test)"
   ]
  },
  {
   "cell_type": "code",
   "execution_count": null,
   "metadata": {},
   "outputs": [],
   "source": [
    "accuracy_best = accuracy_score(y_test, y_pred_best)\n",
    "precision_best = precision_score(y_test, y_pred_best)\n",
    "recall_best = recall_score(y_test, y_pred_best)\n",
    "f1_best = f1_score(y_test, y_pred_best)\n",
    "roc_auc_best = roc_auc_score(y_test, best_model_BRF.predict_proba(X_test)[:, 1])\n",
    "conf_matrix_best = confusion_matrix(y_test, y_pred_best)\n",
    "\n",
    "print(\"Accuracy best_model_BRF:\", accuracy_best)\n",
    "print(\"Precision best_model_BRF:\", precision_best)\n",
    "print(\"Recall best_model_BRF:\", recall_best)\n",
    "print(\"F1-score best_model_BRF:\", f1_best)\n",
    "print(\"AUC-ROC best_model_BRF:\", roc_auc_best)\n",
    "print(\"Matriz de Confusión best_model_BRF:\")\n",
    "print(conf_matrix_best)"
   ]
  },
  {
   "cell_type": "markdown",
   "metadata": {},
   "source": [
    "## Modelo 5: Naive Bayes  Gaussian NB"
   ]
  },
  {
   "cell_type": "code",
   "execution_count": null,
   "metadata": {},
   "outputs": [],
   "source": [
    "X = df_transformado.drop('Revenue', axis=1)\n",
    "y = df_transformado['Revenue']\n",
    "\n",
    "X_train, X_test, y_train, y_test = train_test_split(X, y, test_size=0.3, random_state=1)"
   ]
  },
  {
   "cell_type": "code",
   "execution_count": null,
   "metadata": {},
   "outputs": [],
   "source": [
    "modeloNB= GaussianNB()\n",
    "modeloNB.fit(X_train, y_train)"
   ]
  },
  {
   "cell_type": "code",
   "execution_count": null,
   "metadata": {},
   "outputs": [],
   "source": [
    "y_pred = modeloNB.predict(X_test)"
   ]
  },
  {
   "cell_type": "code",
   "execution_count": null,
   "metadata": {},
   "outputs": [],
   "source": [
    "accuracy = accuracy_score(y_test, y_pred)\n",
    "precision = precision_score(y_test, y_pred)\n",
    "recall = recall_score(y_test, y_pred)\n",
    "f1 = f1_score(y_test, y_pred)\n",
    "roc_auc = roc_auc_score(y_test, modeloNB.predict_proba(X_test)[:, 1])\n",
    "conf_matrix = confusion_matrix(y_test, y_pred)\n",
    "\n",
    "print(\"Accuracy modeloNB:\", accuracy)\n",
    "print(\"Precision modeloNB:\", precision)\n",
    "print(\"Recall modeloNB:\", recall)\n",
    "print(\"F1-score modeloNB:\", f1)\n",
    "print(\"AUC-ROC modeloNB:\", roc_auc)\n",
    "print(\"Matriz de Confusión modeloNB:\")\n",
    "print(conf_matrix)"
   ]
  },
  {
   "cell_type": "markdown",
   "metadata": {},
   "source": [
    "### Balancear los datos de la variable Dependiente"
   ]
  },
  {
   "cell_type": "code",
   "execution_count": null,
   "metadata": {},
   "outputs": [],
   "source": [
    "smote = SMOTE(random_state=1)\n",
    "X_train_resampled, y_train_resampled = smote.fit_resample(X_train, y_train)"
   ]
  },
  {
   "cell_type": "code",
   "execution_count": null,
   "metadata": {},
   "outputs": [],
   "source": [
    "modeloNB= GaussianNB()\n",
    "modeloNB.fit(X_train_resampled, y_train_resampled)"
   ]
  },
  {
   "cell_type": "code",
   "execution_count": null,
   "metadata": {},
   "outputs": [],
   "source": [
    "y_pred = modeloNB.predict(X_test)"
   ]
  },
  {
   "cell_type": "code",
   "execution_count": null,
   "metadata": {},
   "outputs": [],
   "source": [
    "accuracy_oversampled = accuracy_score(y_test, y_pred)\n",
    "precision_oversampled = precision_score(y_test, y_pred)\n",
    "recall_oversampled = recall_score(y_test, y_pred)\n",
    "f1_oversampled = f1_score(y_test, y_pred)\n",
    "roc_auc_oversampled = roc_auc_score(y_test, modeloNB.predict_proba(X_test)[:, 1])\n",
    "conf_matrix_oversampled = confusion_matrix(y_test, y_pred)\n",
    "\n",
    "print(\"Accuracy modeloNB:\", accuracy_oversampled)\n",
    "print(\"Precision modeloNB:\", precision_oversampled)\n",
    "print(\"Recall modeloNB:\", recall_oversampled)\n",
    "print(\"F1-score modeloNB:\", f1_oversampled)\n",
    "print(\"AUC-ROC modeloNB:\", roc_auc_oversampled)\n",
    "print(\"Matriz de Confusión modeloNB:\")\n",
    "print(conf_matrix_oversampled)"
   ]
  },
  {
   "cell_type": "code",
   "execution_count": null,
   "metadata": {},
   "outputs": [],
   "source": [
    "param_grid = {'var_smoothing': [1e-9, 1e-8, 1e-7, 1e-6, 1e-5]}\n",
    "modeloNB = GaussianNB()\n",
    "grid_search = GridSearchCV(modeloNB, param_grid, cv=5, scoring='f1')\n",
    "grid_search.fit(X_train_resampled, y_train_resampled)\n",
    "best_params = grid_search.best_params_\n",
    "print(\"Mejores hiperparámetros:\", best_params)"
   ]
  },
  {
   "cell_type": "code",
   "execution_count": null,
   "metadata": {},
   "outputs": [],
   "source": [
    "best_model_NB = grid_search.best_estimator_\n",
    "best_model_NB.fit(X_train, y_train)\n",
    "y_pred_best_NB = best_model_NB.predict(X_test)"
   ]
  },
  {
   "cell_type": "code",
   "execution_count": null,
   "metadata": {},
   "outputs": [],
   "source": [
    "accuracy_best_NB = accuracy_score(y_test, y_pred_best_NB)\n",
    "precision_best_NB = precision_score(y_test, y_pred_best_NB)\n",
    "recall_best_NB = recall_score(y_test, y_pred_best_NB)\n",
    "f1_best_NB = f1_score(y_test, y_pred_best_NB)\n",
    "roc_auc_best_NB = roc_auc_score(y_test, best_model_NB.predict_proba(X_test)[:, 1])\n",
    "conf_matrix_best_NB = confusion_matrix(y_test, y_pred_best_NB)\n",
    "\n",
    "print(\"Accuracy best_model_NB:\", accuracy_best_NB)\n",
    "print(\"Precision best_model_NB:\", precision_best_NB)\n",
    "print(\"Recall best_model_NB:\", recall_best_NB)\n",
    "print(\"F1-Score best_model_NB:\", f1_best_NB)\n",
    "print(\"AUC-ROC best_model_NB:\", roc_auc_best_NB)\n",
    "print(\"Matriz de Confusión best_model_NB:\")\n",
    "print(conf_matrix_best_NB)"
   ]
  },
  {
   "cell_type": "markdown",
   "metadata": {},
   "source": [
    "## Modelo 6: SVC"
   ]
  },
  {
   "cell_type": "code",
   "execution_count": null,
   "metadata": {},
   "outputs": [],
   "source": [
    "X = df_transformado.drop('Revenue', axis=1)\n",
    "y = df_transformado['Revenue']\n",
    "\n",
    "X_train, X_test, y_train, y_test = train_test_split(X, y, test_size=0.3, random_state=1, shuffle=True)"
   ]
  },
  {
   "cell_type": "code",
   "execution_count": null,
   "metadata": {},
   "outputs": [],
   "source": [
    "modeloSVC = SVC(kernel='rbf', C=1.0, gamma='scale', class_weight='balanced', random_state=1)\n",
    "modeloSVC.fit(X_train, y_train)"
   ]
  },
  {
   "cell_type": "code",
   "execution_count": null,
   "metadata": {},
   "outputs": [],
   "source": [
    "y_pred_SVC = modeloSVC.predict(X_test)"
   ]
  },
  {
   "cell_type": "code",
   "execution_count": null,
   "metadata": {},
   "outputs": [],
   "source": [
    "accuracy_SVC = accuracy_score(y_test, y_pred_SVC)\n",
    "precision_SVC = precision_score(y_test, y_pred_SVC)\n",
    "recall_SVC = recall_score(y_test, y_pred_SVC)\n",
    "f1_SVC = f1_score(y_test, y_pred_SVC)\n",
    "roc_auc_SVC = roc_auc_score(y_test, modeloSVC.decision_function(X_test))\n",
    "conf_matrix_SVC = confusion_matrix(y_test, y_pred_SVC)\n",
    "\n",
    "print(\"Accuracy modeloSVC:\", accuracy_SVC)\n",
    "print(\"Precision modeloSVC:\", precision_SVC)\n",
    "print(\"Recall modeloSVC:\", recall_SVC)\n",
    "print(\"F1-score modeloSVC:\", f1_SVC)\n",
    "print(\"AUC-ROC modeloSVC:\", roc_auc_SVC)\n",
    "print(\"Matriz de Confusión modeloSVC:\")\n",
    "print(conf_matrix_SVC)"
   ]
  },
  {
   "cell_type": "code",
   "execution_count": null,
   "metadata": {},
   "outputs": [],
   "source": [
    "param_grid = {'C': [1, 10],'gamma': [0.1, 1]}\n",
    "modeloSVC = SVC(class_weight='balanced', random_state=1)\n",
    "grid_search = GridSearchCV(modeloSVC, param_grid, cv=5, scoring='f1')\n",
    "grid_search.fit(X_train_resampled, y_train_resampled)\n",
    "best_params_SVC = grid_search.best_params_\n",
    "print(\"Mejores hiperparámetros para SVC:\", best_params_SVC)"
   ]
  },
  {
   "cell_type": "code",
   "execution_count": null,
   "metadata": {},
   "outputs": [],
   "source": [
    "best_model_SVC = grid_search.best_estimator_\n",
    "best_model_SVC.fit(X_train, y_train)\n",
    "y_pred_best_SVC = best_model_SVC.predict(X_test)"
   ]
  },
  {
   "cell_type": "code",
   "execution_count": null,
   "metadata": {},
   "outputs": [],
   "source": [
    "accuracy_best_SVC = accuracy_score(y_test, y_pred_best_SVC)\n",
    "precision_best_SVC = precision_score(y_test, y_pred_best_SVC)\n",
    "recall_best_SVC = recall_score(y_test, y_pred_best_SVC)\n",
    "f1_best_SVC = f1_score(y_test, y_pred_best_SVC)\n",
    "roc_auc_best_SVC = roc_auc_score(y_test, best_model_SVC.decision_function(X_test))\n",
    "conf_matrix_best_SVC = confusion_matrix(y_test, y_pred_best_SVC)\n",
    "\n",
    "print(\"Accuracy best_model_SVC:\", accuracy_best_SVC)\n",
    "print(\"Precision best_model_SVC:\", precision_best_SVC)\n",
    "print(\"Recall best_model_SVC:\", recall_best_SVC)\n",
    "print(\"F1-Score best_model_SVC:\", f1_best_SVC)\n",
    "print(\"AUC-ROC best_model_SVC:\", roc_auc_best_SVC)\n",
    "print(\"Matriz de Confusión best_model_SVC:\")\n",
    "print(conf_matrix_best_SVC)"
   ]
  },
  {
   "cell_type": "markdown",
   "metadata": {},
   "source": [
    "## Modelo 7: Logistic Regression"
   ]
  },
  {
   "cell_type": "code",
   "execution_count": null,
   "metadata": {},
   "outputs": [],
   "source": [
    "X = df_transformado.drop('Revenue', axis=1)\n",
    "y = df_transformado['Revenue'] \n",
    "\n",
    "X_train, X_test, y_train, y_test = train_test_split(X, y, test_size=0.3, random_state=1, shuffle=True)"
   ]
  },
  {
   "cell_type": "code",
   "execution_count": null,
   "metadata": {},
   "outputs": [],
   "source": [
    "modeloLogReg = LogisticRegression(class_weight='balanced', penalty='l2', C=1.0, solver='liblinear', random_state=1, max_iter=1000, fit_intercept=True,dual=False, warm_start=True)\n",
    "modeloLogReg.fit(X_train, y_train)"
   ]
  },
  {
   "cell_type": "code",
   "execution_count": null,
   "metadata": {},
   "outputs": [],
   "source": [
    "y_pred_LogReg = modeloLogReg.predict(X_test)"
   ]
  },
  {
   "cell_type": "code",
   "execution_count": null,
   "metadata": {},
   "outputs": [],
   "source": [
    "accuracy_LogReg = accuracy_score(y_test, y_pred_LogReg)\n",
    "precision_LogReg = precision_score(y_test, y_pred_LogReg)\n",
    "recall_LogReg = recall_score(y_test, y_pred_LogReg)\n",
    "f1_LogReg = f1_score(y_test, y_pred_LogReg)\n",
    "roc_auc_LogReg = roc_auc_score(y_test, modeloLogReg.predict_proba(X_test)[:, 1])\n",
    "conf_matrix_LogReg = confusion_matrix(y_test, y_pred_LogReg)\n",
    "\n",
    "print(\"Accuracy modeloLogReg:\", accuracy_LogReg)\n",
    "print(\"Precision modeloLogReg:\", precision_LogReg)\n",
    "print(\"Recall modeloLogReg:\", recall_LogReg)\n",
    "print(\"F1-score modeloLogReg:\", f1_LogReg)\n",
    "print(\"AUC-ROC modeloLogReg:\", roc_auc_LogReg)\n",
    "print(\"Matriz de Confusión modeloLogReg:\")\n",
    "print(conf_matrix_LogReg)"
   ]
  },
  {
   "cell_type": "code",
   "execution_count": null,
   "metadata": {},
   "outputs": [],
   "source": [
    "param_grid = {'penalty': ['l1', 'l2'],'C': [1, 10, 100],'solver': ['liblinear', 'saga']}\n",
    "grid_search = GridSearchCV(modeloLogReg, param_grid, cv=5, scoring='f1', n_jobs=-1)\n",
    "grid_search.fit(X_train, y_train)\n",
    "best_params_LogReg = grid_search.best_params_\n",
    "print(\"Mejores hiperparámetros para Regresión Logística:\", best_params_LogReg)"
   ]
  },
  {
   "cell_type": "code",
   "execution_count": null,
   "metadata": {},
   "outputs": [],
   "source": [
    "best_model_LogReg = grid_search.best_estimator_\n",
    "best_model_LogReg.fit(X_train, y_train)\n",
    "y_pred_LogReg = best_model_LogReg.predict(X_test)"
   ]
  },
  {
   "cell_type": "code",
   "execution_count": null,
   "metadata": {},
   "outputs": [],
   "source": [
    "accuracy_LogReg = accuracy_score(y_test, y_pred_LogReg)\n",
    "precision_LogReg = precision_score(y_test, y_pred_LogReg)\n",
    "recall_LogReg = recall_score(y_test, y_pred_LogReg)\n",
    "f1_LogReg = f1_score(y_test, y_pred_LogReg)\n",
    "roc_auc_LogReg = roc_auc_score(y_test, best_model_LogReg.predict_proba(X_test)[:, 1])\n",
    "confusion_matrix_LogReg = confusion_matrix(y_test, y_pred_LogReg)\n",
    "\n",
    "print(\"Accuracy best_model_LogReg:\", accuracy_LogReg)\n",
    "print(\"Precisión best_model_LogReg:\", precision_LogReg)\n",
    "print(\"Recall best_model_LogReg:\", recall_LogReg)\n",
    "print(\"F1-Score best_model_LogReg:\", f1_LogReg)\n",
    "print(\"AUC-ROC best_model_LogReg:\", roc_auc_LogReg)\n",
    "print(\"Matriz de Confusión best_model_LogReg:\")\n",
    "print(confusion_matrix_LogReg)"
   ]
  },
  {
   "cell_type": "markdown",
   "metadata": {},
   "source": [
    "## Modelo 8: KNN"
   ]
  },
  {
   "cell_type": "code",
   "execution_count": null,
   "metadata": {},
   "outputs": [],
   "source": [
    "X = df_transformado.drop('Revenue', axis=1)\n",
    "y = df_transformado['Revenue']  \n",
    "\n",
    "X_train, X_test, y_train, y_test = train_test_split(X, y, test_size=0.3, random_state=1, shuffle=True)"
   ]
  },
  {
   "cell_type": "code",
   "execution_count": null,
   "metadata": {},
   "outputs": [],
   "source": [
    "modeloKNN = KNeighborsClassifier(n_neighbors=10, weights='distance', algorithm='auto', leaf_size=30, p=2,metric='minkowski')\n",
    "modeloKNN.fit(X_train, y_train)"
   ]
  },
  {
   "cell_type": "code",
   "execution_count": null,
   "metadata": {},
   "outputs": [],
   "source": [
    "y_pred_KNN = modeloKNN.predict(X_test)"
   ]
  },
  {
   "cell_type": "code",
   "execution_count": null,
   "metadata": {},
   "outputs": [],
   "source": [
    "accuracy_KNN = accuracy_score(y_test, y_pred_KNN)\n",
    "precision_KNN = precision_score(y_test, y_pred_KNN)\n",
    "recall_KNN = recall_score(y_test, y_pred_KNN)\n",
    "f1_KNN = f1_score(y_test, y_pred_KNN)\n",
    "roc_auc_KNN = roc_auc_score(y_test, modeloKNN.predict_proba(X_test)[:, 1])\n",
    "conf_matrix_KNN = confusion_matrix(y_test, y_pred_KNN)\n",
    "\n",
    "print(\"Accuracy modeloKNN:\", accuracy_KNN)\n",
    "print(\"Precision modeloKNN:\", precision_KNN)\n",
    "print(\"Recall modeloKNN:\", recall_KNN)\n",
    "print(\"F1-score modeloKNN:\", f1_KNN)\n",
    "print(\"AUC-ROC modeloKNN:\", roc_auc_KNN)\n",
    "print(\"Matriz de Confusión modeloKNN:\")\n",
    "print(conf_matrix_KNN)"
   ]
  },
  {
   "cell_type": "code",
   "execution_count": null,
   "metadata": {},
   "outputs": [],
   "source": [
    "param_grid = {'n_neighbors': [5, 10, 15],'weights': ['uniform', 'distance'],'p': [1, 2]}\n",
    "\n",
    "modeloKNN = KNeighborsClassifier()\n",
    "grid_search = GridSearchCV(modeloKNN, param_grid, cv=5, scoring='f1')\n",
    "grid_search.fit(X_train, y_train)\n",
    "best_params_KNN = grid_search.best_params_\n",
    "print(\"Mejores hiperparámetros para KNN:\", best_params_KNN)"
   ]
  },
  {
   "cell_type": "code",
   "execution_count": null,
   "metadata": {},
   "outputs": [],
   "source": [
    "best_model_KNN = grid_search.best_estimator_\n",
    "best_model_KNN.fit(X_train, y_train)\n",
    "y_pred_best_KNN = best_model_KNN.predict(X_test)"
   ]
  },
  {
   "cell_type": "code",
   "execution_count": null,
   "metadata": {},
   "outputs": [],
   "source": [
    "accuracy_best_KNN = accuracy_score(y_test, y_pred_best_KNN)\n",
    "precision_best_KNN = precision_score(y_test, y_pred_best_KNN)\n",
    "recall_best_KNN = recall_score(y_test, y_pred_best_KNN)\n",
    "f1_best_KNN = f1_score(y_test, y_pred_best_KNN)\n",
    "roc_auc_best_KNN = roc_auc_score(y_test, best_model_KNN.predict_proba(X_test)[:, 1])\n",
    "conf_matrix_best_KNN = confusion_matrix(y_test, y_pred_best_KNN)\n",
    "\n",
    "print(\"Accuracy best_model_KNN:\", accuracy_best_KNN)\n",
    "print(\"Precision best_model_KNN:\", precision_best_KNN)\n",
    "print(\"Recall best_model_KNN:\", recall_best_KNN)\n",
    "print(\"F1-score best_model_KNN:\", f1_best_KNN)\n",
    "print(\"AUC-ROC best_model_KNN:\", roc_auc_best_KNN)\n",
    "print(\"Matriz de Confusión best_model_KNN:\")\n",
    "print(conf_matrix_best_KNN)"
   ]
  },
  {
   "cell_type": "markdown",
   "metadata": {},
   "source": [
    "## Elección del mejor Modelo"
   ]
  },
  {
   "cell_type": "markdown",
   "metadata": {},
   "source": [
    "* Accuracy: Mide la proporción de predicciones correctas en el conjunto de prueba.\n",
    "* Precisión: Mide la proporción de predicciones positivas correctas entre todas las predicciones positivas.\n",
    "* Recall: Mide la proporción de verdaderos positivos capturados entre todos los casos positivos reales.\n",
    "* F1-Score: Combina la precisión y el recall en una sola métrica que equilibra ambas medidas.\n",
    "* AUC-ROC: Mide el área bajo la curva ROC y evalúa la capacidad del modelo para distinguir entre clases positivas y negativas.\n",
    "* Matriz de Confusión: Proporciona una visión detallada de los resultados de las predicciones, mostrando los verdaderos positivos, falsos positivos, verdaderos negativos y falsos negativos."
   ]
  },
  {
   "cell_type": "code",
   "execution_count": null,
   "metadata": {},
   "outputs": [],
   "source": [
    "metricas = {\n",
    "    \"Accuracy\": [0.8824006488240065, 0.8902406055690727, 0.9024060556907272, 0.8826709921600433, 0.8875371722087051, 0.8723979453906461, 0.5355501486888348, 0.8569883752365505, 0.5520410921870776, 0.7220870505542039, 0.8648283319816167, 0.8548256285482563, 0.8545552852122196, 0.8545552852122196, 0.8810489321438226, 0.8826709921600433],\n",
    "    \"Precision\": [0.5775978407557355, 0.6071428571428571, 0.7058823529411765, 0.6726190476190477, 0.6372950819672131, 0.5537190082644629, 0.24113475177304963, 0.5113759479956663, 0.2387918829636621, 0.32805755395683456, 0.532051282051282, 0.5359116022099447, 0.5070257611241218, 0.5070257611241218, 0.6909722222222222, 0.6726190476190477],\n",
    "    \"Recall\": [0.7781818181818182, 0.7418181818181818, 0.5890909090909091, 0.4109090909090909, 0.5654545454545454, 0.730909090909091, 0.9890909090909091, 0.8581818181818182, 0.92, 0.8290909090909091, 0.7545454545454545, 0.17636363636363636, 0.7872727272727272, 0.7872727272727272, 0.3618181818181818, 0.4109090909090909],\n",
    "    \"F1-Score\": [0.6630518977536793, 0.6677577741407528, 0.6422200198216057, 0.510158013544018, 0.5992292870905588, 0.6300940438871473, 0.3877405559515324, 0.6408689748811949, 0.37916822780067444, 0.4701030927835052, 0.6240601503759399, 0.2653898768809849, 0.6168091168091168, 0.6168091168091168, 0.4749403341288782, 0.510158013544018],\n",
    "    \"AUC-ROC\": [0.9254649383642715, 0.9303132307514651, 0.9302058373509627, 0.8154525246109876, 0.9110312075983718, 0.8434518894887265, 0.9158913363549757, 0.929044140997142, 0.8356274719247092, 0.8308989866913017, 0.9005398539218799, 0.8336031640636277, 0.9095297208348971, 0.9096036259707269, 0.836491238199717, 0.8154525246109876]\n",
    "}\n",
    "\n",
    "modelos = [\n",
    "    \"modeloRFC\", \"best_model_RFC\", \"modeloGBC\", \"best_model_GBC\",\n",
    "    \"modeloABC\", \"best_model_ABC\", \"modeloBRF\", \"best_model_BRF\",\n",
    "    \"modeloNB\", \"best_model_NB\", \"modeloSVC\", \"best_model_SVC\",\n",
    "    \"modeloLogReg\", \"best_model_LogReg\", \"modeloKNN\", \"best_model_KNN\"\n",
    "]\n",
    "\n",
    "df_metricas_combinadas = pd.DataFrame(metricas, index=modelos)\n",
    "print(df_metricas_combinadas)"
   ]
  },
  {
   "cell_type": "markdown",
   "metadata": {},
   "source": [
    "# Accuracy"
   ]
  },
  {
   "cell_type": "code",
   "execution_count": null,
   "metadata": {},
   "outputs": [],
   "source": [
    "modelos = [\"modeloRFC\", \"best_model_RFC\", \"modeloGBC\", \"best_model_GBC\", \"modeloABC\", \"best_model_ABC\", \"modeloBRF\", \"best_model_BRF\", \"modeloNB\", \"best_model_NB\", \"modeloSVC\", \"best_model_SVC\", \"modeloLogReg\", \"best_model_LogReg\", \"modeloKNN\", \"best_model_KNN\"]\n",
    "metricas = [0.8824006488240065, 0.8902406055690727, 0.9024060556907272, 0.8826709921600433, 0.8875371722087051, 0.8723979453906461, 0.5355501486888348, 0.8569883752365505, 0.5520410921870776, 0.7220870505542039, 0.8648283319816167, 0.8548256285482563, 0.8545552852122196, 0.8545552852122196, 0.8810489321438226, 0.8826709921600433]\n",
    "df_metricas_combinadas = pd.DataFrame(metricas, index=modelos, columns=[\"Accuracy\"])\n",
    "df_metricas_combinadas = df_metricas_combinadas.sort_values(by=\"Accuracy\", ascending=False)\n",
    "colores = ['blue', 'cyan', 'cyan', 'cyan', 'cyan', 'cyan', 'cyan', 'cyan', 'gray', 'gray', 'gray', 'gray', 'gray', 'lavender', 'lavender', 'lavender']\n",
    "plt.figure(figsize=(5, 5))\n",
    "plt.bar(df_metricas_combinadas.index, df_metricas_combinadas[\"Accuracy\"], color=colores)\n",
    "plt.xticks(rotation=90)\n",
    "plt.xlabel('Modelos')\n",
    "plt.ylabel('Accuracy')\n",
    "plt.title('Accuracy de Modelos de Machine Learning')\n",
    "plt.tight_layout()\n",
    "plt.show()"
   ]
  },
  {
   "cell_type": "markdown",
   "metadata": {},
   "source": [
    "Accuracy: Si valoramos la precisión general del modelo para predecir correctamente las etiquetas, entonces \"modeloGBC\" tiene el Accuracy más alto (0.9024)."
   ]
  },
  {
   "cell_type": "markdown",
   "metadata": {},
   "source": [
    "## Precisión"
   ]
  },
  {
   "cell_type": "code",
   "execution_count": null,
   "metadata": {},
   "outputs": [],
   "source": [
    "modelos = [\"modeloRFC\", \"best_model_RFC\", \"modeloGBC\", \"best_model_GBC\", \"modeloABC\", \"best_model_ABC\", \"modeloBRF\", \"best_model_BRF\", \"modeloNB\", \"best_model_NB\", \"modeloSVC\", \"best_model_SVC\", \"modeloLogReg\", \"best_model_LogReg\", \"modeloKNN\", \"best_model_KNN\"]\n",
    "metricas = [0.5775978407557355, 0.6071428571428571, 0.7058823529411765, 0.6726190476190477, 0.6372950819672131, 0.5537190082644629, 0.24113475177304963, 0.5113759479956663, 0.2387918829636621, 0.32805755395683456, 0.532051282051282, 0.5359116022099447, 0.5070257611241218, 0.5070257611241218, 0.6909722222222222, 0.6726190476190477]\n",
    "df_metricas_combinadas = pd.DataFrame(metricas, index=modelos, columns=[\"Precisión\"])\n",
    "df_metricas_combinadas = df_metricas_combinadas.sort_values(by=\"Precisión\", ascending=False)\n",
    "colores = ['blue', 'cyan', 'cyan', 'cyan', 'cyan', 'cyan', 'cyan', 'cyan', 'gray', 'gray', 'gray', 'gray', 'gray', 'lavender', 'lavender', 'lavender']\n",
    "plt.figure(figsize=(5, 5))\n",
    "plt.bar(df_metricas_combinadas.index, df_metricas_combinadas[\"Precisión\"], color=colores)\n",
    "plt.xticks(rotation=90)\n",
    "plt.xlabel('Modelos')\n",
    "plt.ylabel('Precisión')\n",
    "plt.title('Precisión de los Modelos de Machine Learning')\n",
    "plt.tight_layout()\n",
    "plt.show()"
   ]
  },
  {
   "cell_type": "markdown",
   "metadata": {},
   "source": [
    "Precision: Si deseamos minimizar los falsos positivos (predecir positivo cuando es negativo), entonces \"modeloGBC\" tiene la Precision más alta. Esto significa que es un buen modelo para evitar falsas alarmas."
   ]
  },
  {
   "cell_type": "markdown",
   "metadata": {},
   "source": [
    "## Recall"
   ]
  },
  {
   "cell_type": "code",
   "execution_count": null,
   "metadata": {},
   "outputs": [],
   "source": [
    "modelos = [\"modeloRFC\", \"best_model_RFC\", \"modeloGBC\", \"best_model_GBC\", \"modeloABC\", \"best_model_ABC\", \"modeloBRF\", \"best_model_BRF\", \"modeloNB\", \"best_model_NB\", \"modeloSVC\", \"best_model_SVC\", \"modeloLogReg\", \"best_model_LogReg\", \"modeloKNN\", \"best_model_KNN\"]\n",
    "metricas = [0.7781818181818182, 0.7418181818181818, 0.5890909090909091, 0.4109090909090909, 0.5654545454545454, 0.730909090909091, 0.9890909090909091, 0.8581818181818182, 0.92, 0.8290909090909091, 0.7545454545454545, 0.17636363636363636, 0.7872727272727272, 0.7872727272727272, 0.3618181818181818, 0.4109090909090909]\n",
    "df_metricas_combinadas = pd.DataFrame(metricas, index=modelos, columns=[\"Recall\"])\n",
    "df_metricas_combinadas = df_metricas_combinadas.sort_values(by=\"Recall\", ascending=False)\n",
    "colores = ['blue', 'cyan', 'cyan', 'cyan', 'cyan', 'cyan', 'cyan', 'cyan', 'gray', 'gray', 'gray', 'gray', 'gray', 'lavender', 'lavender', 'lavender']\n",
    "plt.figure(figsize=(5, 5))\n",
    "plt.bar(df_metricas_combinadas.index, df_metricas_combinadas[\"Recall\"], color=colores)\n",
    "plt.xticks(rotation=90)\n",
    "plt.xlabel('Modelos')\n",
    "plt.ylabel('Recall')\n",
    "plt.title('Recall de Modelos de Machine Learning')\n",
    "plt.tight_layout()\n",
    "plt.show()"
   ]
  },
  {
   "cell_type": "markdown",
   "metadata": {},
   "source": [
    "Recall: Si deseamos minimizar los falsos negativos (predecir negativo cuando es positivo), entonces \"modeloBRF\" tiene el Recall más alto (0,9890). Esto significa que es bueno para capturar todos los casos positivos."
   ]
  },
  {
   "cell_type": "markdown",
   "metadata": {},
   "source": [
    "## F1-Score"
   ]
  },
  {
   "cell_type": "code",
   "execution_count": null,
   "metadata": {},
   "outputs": [],
   "source": [
    "modelos = [\"modeloRFC\", \"best_model_RFC\", \"modeloGBC\", \"best_model_GBC\", \"modeloABC\", \"best_model_ABC\", \"modeloBRF\", \"best_model_BRF\", \"modeloNB\", \"best_model_NB\", \"modeloSVC\", \"best_model_SVC\", \"modeloLogReg\", \"best_model_LogReg\", \"modeloKNN\", \"best_model_KNN\"]\n",
    "f1_scores = [0.6630518977536793, 0.6677577741407528, 0.6422200198216057, 0.510158013544018, 0.5992292870905588, 0.6300940438871473, 0.3877405559515324, 0.6408689748811949, 0.37916822780067444, 0.4701030927835052, 0.6240601503759399, 0.2653898768809849, 0.6168091168091168, 0.6168091168091168, 0.4749403341288782, 0.510158013544018]\n",
    "df_metricas_combinadas = pd.DataFrame(f1_scores, index=modelos, columns=[\"F1-score\"])\n",
    "df_metricas_combinadas = df_metricas_combinadas.sort_values(by=\"F1-score\", ascending=False)\n",
    "colores = ['blue', 'cyan', 'cyan', 'cyan', 'cyan', 'cyan', 'cyan', 'cyan', 'gray', 'gray', 'gray', 'gray', 'gray', 'lavender', 'lavender', 'lavender']\n",
    "plt.figure(figsize=(5, 5))\n",
    "plt.bar(df_metricas_combinadas.index, df_metricas_combinadas[\"F1-score\"], color=colores)\n",
    "plt.xticks(rotation=90)\n",
    "plt.xlabel('Modelos')\n",
    "plt.ylabel('F1-score')\n",
    "plt.title('F1-score de Modelos de Machine Learning')\n",
    "plt.tight_layout()\n",
    "plt.show()"
   ]
  },
  {
   "cell_type": "markdown",
   "metadata": {},
   "source": [
    "F1-Score: Si buscamos un equilibrio entre Precision y Recall, entonces podríamos mirar el F1-Score: \"best_model_RFC\" tiene un F1-Score bastante alto (0.6677)."
   ]
  },
  {
   "cell_type": "markdown",
   "metadata": {},
   "source": [
    "## AUC-ROC"
   ]
  },
  {
   "cell_type": "code",
   "execution_count": null,
   "metadata": {},
   "outputs": [],
   "source": [
    "fpr_best_model_RFC, tpr_best_model_RFC, _ = roc_curve(y_test, best_model_RFC.predict_proba(X_test)[:, 1])\n",
    "roc_auc_best_model_RFC = auc(fpr_best_model_RFC, tpr_best_model_RFC)\n",
    "fpr_best_model_GBC, tpr_best_model_GBC, _ = roc_curve(y_test, best_model_GBC.predict_proba(X_test)[:, 1])\n",
    "roc_auc_best_model_GBC = auc(fpr_best_model_GBC, tpr_best_model_GBC)\n",
    "fpr_best_model_ABC, tpr_best_model_ABC, _ = roc_curve(y_test, best_model_ABC.predict_proba(X_test)[:, 1])\n",
    "roc_auc_best_model_ABC = auc(fpr_best_model_ABC, tpr_best_model_ABC)\n",
    "fpr_best_model_BRF, tpr_best_model_BRF, _ = roc_curve(y_test, best_model_BRF.predict_proba(X_test)[:, 1])\n",
    "roc_auc_best_model_BRF = auc(fpr_best_model_BRF, tpr_best_model_BRF)\n",
    "fpr_best_model_NB, tpr_best_model_NB, _ = roc_curve(y_test, best_model_NB.predict_proba(X_test)[:, 1])\n",
    "roc_auc_best_model_NB = auc(fpr_best_model_NB, tpr_best_model_NB)\n",
    "fpr_best_model_LogReg, tpr_best_model_LogReg, _ = roc_curve(y_test, best_model_LogReg.predict_proba(X_test)[:, 1])\n",
    "roc_auc_best_model_LogReg = auc(fpr_best_model_LogReg, tpr_best_model_LogReg)\n",
    "fpr_best_model_KNN, tpr_best_model_KNN, _ = roc_curve(y_test, best_model_KNN.predict_proba(X_test)[:, 1])\n",
    "roc_auc_best_model_KNN = auc(fpr_best_model_KNN, tpr_best_model_KNN)"
   ]
  },
  {
   "cell_type": "code",
   "execution_count": null,
   "metadata": {},
   "outputs": [],
   "source": [
    "modelos = [\"modeloRFC\", \"best_model_RFC\", \"modeloGBC\", \"best_model_GBC\", \"modeloABC\", \"best_model_ABC\", \"modeloBRF\", \"best_model_BRF\", \"modeloNB\", \"best_model_NB\", \"modeloSVC\", \"best_model_SVC\", \"modeloLogReg\", \"best_model_LogReg\", \"modeloKNN\", \"best_model_KNN\"]\n",
    "roc_curves = {\n",
    "    \"best_model_RFC\": (fpr_best_model_RFC, tpr_best_model_RFC),\n",
    "    \"best_model_GBC\": (fpr_best_model_GBC, tpr_best_model_GBC),\n",
    "    \"best_model_ABC\": (fpr_best_model_ABC, tpr_best_model_ABC),\n",
    "    \"best_model_BRF\": (fpr_best_model_BRF, tpr_best_model_BRF),\n",
    "    \"best_model_NB\": (fpr_best_model_NB, tpr_best_model_NB),\n",
    "    \"best_model_LogReg\": (fpr_best_model_LogReg, tpr_best_model_LogReg),\n",
    "    \"best_model_KNN\": (fpr_best_model_KNN, tpr_best_model_KNN),}\n",
    "\n",
    "plt.figure(figsize=(6, 6))\n",
    "\n",
    "for modelo, (fpr, tpr) in roc_curves.items():\n",
    "    roc_auc = auc(fpr, tpr)\n",
    "    plt.plot(fpr, tpr, label=f'{modelo} (AUC = {roc_auc:.2f})')\n",
    "\n",
    "plt.plot([0, 1], [0, 1], 'k--')\n",
    "plt.xlim([0.0, 1.0])\n",
    "plt.ylim([0.0, 1.05])\n",
    "plt.xlabel('Tasa de Falsos Positivos')\n",
    "plt.ylabel('Tasa de Verdaderos Positivos')\n",
    "plt.title('Curva ROC de Modelos de Machine Learning')\n",
    "plt.legend(loc=\"lower right\")\n",
    "plt.grid()\n",
    "plt.show()"
   ]
  },
  {
   "cell_type": "markdown",
   "metadata": {},
   "source": [
    "# Modelo elegido: Balanced Random Forrest"
   ]
  },
  {
   "cell_type": "markdown",
   "metadata": {},
   "source": [
    "## Clusterización"
   ]
  },
  {
   "cell_type": "code",
   "execution_count": null,
   "metadata": {},
   "outputs": [],
   "source": [
    "dfcluster = df_transformado\n",
    "dfcluster"
   ]
  },
  {
   "cell_type": "code",
   "execution_count": null,
   "metadata": {},
   "outputs": [],
   "source": [
    "from sklearn.cluster import KMeans\n",
    "n_clusters = 3\n",
    "kmeans = KMeans(n_clusters=n_clusters, random_state=1)\n",
    "kmeans.fit(dfcluster)\n",
    "labels = kmeans.labels_\n",
    "centroids = kmeans.cluster_centers_"
   ]
  },
  {
   "cell_type": "code",
   "execution_count": null,
   "metadata": {},
   "outputs": [],
   "source": [
    "from sklearn.decomposition import PCA\n",
    "pca = PCA(n_components=2)\n",
    "dfcluster_2d = pca.fit_transform(dfcluster)\n",
    "\n",
    "cluster_labels = kmeans.labels_\n",
    "\n",
    "plt.scatter(dfcluster_2d[:, 0], dfcluster_2d[:, 1], c=cluster_labels, cmap='rainbow')\n",
    "plt.title(\"Clustering en 2D\")\n",
    "plt.xlabel(\"PCA 1\")\n",
    "plt.ylabel(\"PCA 2\")\n",
    "plt.show()"
   ]
  },
  {
   "cell_type": "code",
   "execution_count": null,
   "metadata": {},
   "outputs": [],
   "source": [
    "from mpl_toolkits.mplot3d import Axes3D\n",
    "pca = PCA(n_components=3)\n",
    "dfcluster_3d = pca.fit_transform(dfcluster)\n",
    "cluster_labels = kmeans.labels_\n",
    "\n",
    "fig = plt.figure()\n",
    "ax = fig.add_subplot(111, projection='3d')\n",
    "\n",
    "scatter = ax.scatter(dfcluster_3d[:, 0], dfcluster_3d[:, 1], dfcluster_3d[:, 2], c=cluster_labels, cmap='rainbow')\n",
    "\n",
    "ax.set_title(\"Clustering en 3D\")\n",
    "ax.set_xlabel(\"PCA 1\")\n",
    "ax.set_ylabel(\"PCA 2\")\n",
    "ax.set_zlabel(\"PCA 3\")\n",
    "\n",
    "legend = ax.legend(*scatter.legend_elements(), title=\"Clústeres\")\n",
    "ax.add_artist(legend)\n",
    "plt.show()"
   ]
  },
  {
   "cell_type": "code",
   "execution_count": null,
   "metadata": {},
   "outputs": [],
   "source": [
    "dfcluster['Cluster_Label'] = cluster_labels"
   ]
  },
  {
   "cell_type": "code",
   "execution_count": null,
   "metadata": {},
   "outputs": [],
   "source": [
    "dfcluster"
   ]
  },
  {
   "cell_type": "code",
   "execution_count": null,
   "metadata": {},
   "outputs": [],
   "source": [
    "dfcluster0 = dfcluster[dfcluster['Cluster_Label'] == 0]\n",
    "dfcluster0"
   ]
  },
  {
   "cell_type": "code",
   "execution_count": null,
   "metadata": {},
   "outputs": [],
   "source": [
    "dfcluster0.describe()"
   ]
  },
  {
   "cell_type": "code",
   "execution_count": null,
   "metadata": {},
   "outputs": [],
   "source": [
    "dfcluster1 = dfcluster[dfcluster['Cluster_Label'] == 1]\n",
    "dfcluster1"
   ]
  },
  {
   "cell_type": "code",
   "execution_count": null,
   "metadata": {},
   "outputs": [],
   "source": [
    "dfcluster1.describe()"
   ]
  },
  {
   "cell_type": "code",
   "execution_count": null,
   "metadata": {},
   "outputs": [],
   "source": [
    "dfcluster2 = dfcluster[dfcluster['Cluster_Label'] == 2]\n",
    "dfcluster2"
   ]
  },
  {
   "cell_type": "code",
   "execution_count": null,
   "metadata": {},
   "outputs": [],
   "source": [
    "dfcluster2.describe()"
   ]
  },
  {
   "cell_type": "code",
   "execution_count": null,
   "metadata": {},
   "outputs": [],
   "source": [
    "variables = ['Administrative', 'Informational', 'ProductRelated', 'PageValues', 'Revenue']\n",
    "\n",
    "for variable in variables:\n",
    "    data = [\n",
    "        dfcluster0[variable].mean(),\n",
    "        dfcluster1[variable].mean(),\n",
    "        dfcluster2[variable].mean()\n",
    "    ]\n",
    "    clusters = ['Cluster 0', 'Cluster 1', 'Cluster 2']\n",
    "\n",
    "    plt.figure(figsize=(3, 3))\n",
    "    sns.barplot(x=clusters, y=data)\n",
    "    plt.title(f'Media de {variable} en cada cluster')\n",
    "    plt.xlabel('Clusters')\n",
    "    plt.ylabel(f'Media de {variable}')\n",
    "    plt.show()"
   ]
  },
  {
   "cell_type": "code",
   "execution_count": null,
   "metadata": {},
   "outputs": [],
   "source": [
    "new_data_point = [[valor_feature1, valor_feature2, ..., valor_featureN]]\n",
    "predicted_cluster = kmeans.predict(new_data_point)"
   ]
  },
  {
   "cell_type": "markdown",
   "metadata": {},
   "source": [
    "## TRAZABILIDAD"
   ]
  },
  {
   "cell_type": "markdown",
   "metadata": {},
   "source": [
    "Inicializar un experimento: Crear y registrar un nuevo experimento en MLflow. Dar un nombre descriptivo al experimento."
   ]
  },
  {
   "cell_type": "code",
   "execution_count": null,
   "metadata": {},
   "outputs": [],
   "source": [
    "# mlflow.start_run(experiment_name='nombre_del_experimento')"
   ]
  },
  {
   "cell_type": "markdown",
   "metadata": {},
   "source": [
    "Registrar métricas y parámetros: Utilizar mlflow.log_param() para registrar los hiperparámetros y mlflow.log_metric() para registrar las métricas deseadas."
   ]
  },
  {
   "cell_type": "code",
   "execution_count": null,
   "metadata": {},
   "outputs": [],
   "source": [
    "# mlflow.log_param(\"parametro_1\", valor_parametro_1)\n",
    "# mlflow.log_param(\"parametro_2\", valor_parametro_2)\n",
    "# mlflow.log_metric(\"métrica_1\", valor_métrica_1)\n",
    "# mlflow.log_metric(\"métrica_2\", valor_métrica_2)"
   ]
  },
  {
   "cell_type": "markdown",
   "metadata": {},
   "source": [
    "Guardar el modelo: Después de entrenar el modelo, Guardarlo en un formato compatible con MLflow, como pickle o un formato específico de MLflow."
   ]
  },
  {
   "cell_type": "code",
   "execution_count": null,
   "metadata": {},
   "outputs": [],
   "source": [
    "# mlflow.sklearn.save_model(modelo_entrenado, \"ruta_del_modelo\")"
   ]
  },
  {
   "cell_type": "markdown",
   "metadata": {},
   "source": [
    "Finalizar el experimento: Cuando se haya registrado todas las métricas y resultados necesarios, finalizar el experimento."
   ]
  },
  {
   "cell_type": "markdown",
   "metadata": {},
   "source": [
    "# mlflow.end_run()"
   ]
  },
  {
   "cell_type": "markdown",
   "metadata": {},
   "source": [
    "### 4) ¿Qué resultados y conclusiones has obtenido?\n",
    "\n",
    "Al estar desbalanceados los datos en la variable a Predecir: \"Revenue\", es necesario implementar un Modelo que tome en cuenta este desbalanceo, y la metrica que mejor interprete los resultados de los modelos: Recall, por ello el Modelo elegido es el Balanced Random Forrest"
   ]
  },
  {
   "cell_type": "markdown",
   "metadata": {},
   "source": [
    "### 5) ¿Cuáles han sido las variables de mayor impacto?   \n",
    "\n",
    "PageValues"
   ]
  },
  {
   "cell_type": "markdown",
   "metadata": {},
   "source": [
    "### 6) ¿Qué decisiones o acciones te permiten llevar a cabo tu modelo? ¿Qué consecuencias tiene en negocio?"
   ]
  },
  {
   "cell_type": "markdown",
   "metadata": {},
   "source": [
    "Una vez que tengamos un modelo efectivo, podemos implementarlo en el sitio web de comercio electrónico. Esto implica la integración de lógica para identificar cuándo un usuario está a punto de abandonar el carrito y enviar recordatorios o incentivos de manera oportuna."
   ]
  },
  {
   "cell_type": "markdown",
   "metadata": {},
   "source": [
    "*************************************************************************************"
   ]
  },
  {
   "cell_type": "code",
   "execution_count": null,
   "metadata": {},
   "outputs": [],
   "source": [
    "# Utilizar el LabelEncoder para transformar la columna \"Weekend\"\n",
    "    column_to_encode = 'Weekend'\n",
    "    le = LabelEncoder()\n",
    "    data[column_to_encode] = le.fit_transform(data[column_to_encode])\n",
    "\n",
    "    st.write('**Datos con la columna \"Weekend\" transformada:**')\n",
    "    st.write(data)\n",
    "\n",
    "    # Utilizar el LabelEncoder para transformar la columna \"Revenue\"\n",
    "    column_to_encode = 'Revenue'\n",
    "    le = LabelEncoder()\n",
    "    data[column_to_encode] = le.fit_transform(data[column_to_encode])\n",
    "\n",
    "    st.write('**Datos con la columna \"Revenue\" transformada:**')\n",
    "    st.write(data)"
   ]
  },
  {
   "cell_type": "code",
   "execution_count": null,
   "metadata": {},
   "outputs": [],
   "source": [
    "# Transformar la columna \"Month\" en dummies\n",
    "    data = pd.get_dummies(data, columns=['Month'], prefix='Month', drop_first=True)\n",
    "\n",
    "    # Transformar la columna \"VisitorType\" en dummies\n",
    "    data = pd.get_dummies(data, columns=['VisitorType'], prefix='VisitorType', drop_first=True)\n",
    "\n",
    "    st.write('**Datos transformados con variables dummies:**')"
   ]
  },
  {
   "cell_type": "code",
   "execution_count": null,
   "metadata": {},
   "outputs": [],
   "source": [
    "# Escalar las características numéricas\n",
    "    caracteristicas_a_escalar = ['Administrative', 'Administrative_Duration', 'Informational', 'Informational_Duration',\n",
    "                                'ProductRelated', 'ProductRelated_Duration', 'BounceRates', 'ExitRates', 'PageValues', 'SpecialDay',\n",
    "                                'OperatingSystems', 'Browser', 'Region', 'TrafficType', 'Weekend']\n",
    "\n",
    "    caracteristicas_numericas = data[caracteristicas_a_escalar]\n",
    "    sc = StandardScaler()\n",
    "    escaladas = sc.fit_transform(caracteristicas_numericas)\n",
    "    data[caracteristicas_a_escalar] = escaladas\n",
    "\n",
    "    st.write('**Datos con características numéricas escaladas:**')\n",
    "    st.write(data)\n"
   ]
  }
 ],
 "metadata": {
  "kernelspec": {
   "display_name": "Python 3",
   "language": "python",
   "name": "python3"
  },
  "language_info": {
   "codemirror_mode": {
    "name": "ipython",
    "version": 3
   },
   "file_extension": ".py",
   "mimetype": "text/x-python",
   "name": "python",
   "nbconvert_exporter": "python",
   "pygments_lexer": "ipython3",
   "version": "3.9.18"
  },
  "orig_nbformat": 4
 },
 "nbformat": 4,
 "nbformat_minor": 2
}
